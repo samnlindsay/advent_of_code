{
 "cells": [
  {
   "cell_type": "code",
   "execution_count": 56,
   "metadata": {},
   "outputs": [
    {
     "name": "stdout",
     "output_type": "stream",
     "text": [
      "7153 6146976244822\n"
     ]
    }
   ],
   "source": [
    "from collections import deque\n",
    "\n",
    "ind, input = map(deque, zip(*enumerate(list(map(int, open(\"inputs/20-input.txt\").read().splitlines())))))\n",
    "\n",
    "def answer(part=1):\n",
    "    global input\n",
    "    indices = ind.copy()    \n",
    "    output = input.copy()\n",
    "\n",
    "    if part ==1:\n",
    "        n = 1\n",
    "    elif part == 2:\n",
    "        key = 811589153\n",
    "        input = deque([key * v for v in input])\n",
    "        n = 10\n",
    "\n",
    "    for m in range(n):\n",
    "        for i, v in enumerate(input):\n",
    "            index = indices.index(i)\n",
    "\n",
    "            # Remove value\n",
    "            del output[index]\n",
    "            del indices[index]\n",
    "\n",
    "            # Rotate lists and put value back at same index\n",
    "            output.rotate(-1 * v)\n",
    "            indices.rotate(-1 * v)\n",
    "\n",
    "            output.insert(index, v)\n",
    "            indices.insert(index, i)\n",
    "\n",
    "    z = output.index(0)\n",
    "    length = len(input)\n",
    "    \n",
    "    return sum(output[(z + n) % length] for n in [1000,2000,3000])\n",
    "\n",
    "print(answer(1), answer(2))"
   ]
  },
  {
   "cell_type": "code",
   "execution_count": null,
   "metadata": {},
   "outputs": [],
   "source": []
  }
 ],
 "metadata": {
  "kernelspec": {
   "display_name": "Python 3",
   "language": "python",
   "name": "python3"
  },
  "language_info": {
   "codemirror_mode": {
    "name": "ipython",
    "version": 3
   },
   "file_extension": ".py",
   "mimetype": "text/x-python",
   "name": "python",
   "nbconvert_exporter": "python",
   "pygments_lexer": "ipython3",
   "version": "3.7.6"
  },
  "orig_nbformat": 4,
  "vscode": {
   "interpreter": {
    "hash": "b93058eb70b0e1b4c95bd731a26969c6088f4dfc9c60234d9a114f1559fa3dfe"
   }
  }
 },
 "nbformat": 4,
 "nbformat_minor": 2
}

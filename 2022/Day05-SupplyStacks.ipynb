{
 "cells": [
  {
   "cell_type": "code",
   "execution_count": 281,
   "metadata": {},
   "outputs": [
    {
     "data": {
      "text/plain": [
       "'LBBVJBRMH'"
      ]
     },
     "execution_count": 281,
     "metadata": {},
     "output_type": "execute_result"
    }
   ],
   "source": [
    "import re\n",
    "import pandas as pd\n",
    "\n",
    "stack, inst = open(\"inputs/05-input.txt\").read().split(\"\\n\\n\")\n",
    "\n",
    "# Sort stack out\n",
    "stack = re.sub(\"\\\\[|\\\\]\", \"\", stack)\n",
    "stack = re.sub(\"(?<=\\w) \", \",\", stack)\n",
    "\n",
    "stack = stack.replace(\"    \", \",\")\n",
    "stack = stack.splitlines()\n",
    "stack.reverse()\n",
    "stack = pd.DataFrame([l.split(',') for l in stack[1:]]).transpose().values.tolist()\n",
    "stack = [[i for i in s if i!=''] for s in stack]\n",
    "\n",
    "stack\n",
    "\n",
    "# Parse instructions ([n, src, dst])\n",
    "inst = [list(map(int, re.findall('\\d+', i))) for i in inst.splitlines()]\n",
    "\n",
    "inst\n",
    "\n",
    "def rearrange(arrangement, instruction, crane=9000):\n",
    "    n = instruction[0]\n",
    "    src = instruction[1]-1\n",
    "    dst = instruction[2]-1\n",
    "\n",
    "    if crane == 9000:\n",
    "        arrangement[dst] += arrangement[src][-1:-n-1:-1]\n",
    "    elif crane == 9001:\n",
    "        arrangement[dst] += arrangement[src][-n:]\n",
    "    arrangement[src] = arrangement[src][:-n]\n",
    "\n",
    "    return arrangement\n",
    "\n",
    "# Solution\n",
    "for i in inst:\n",
    "    stack = rearrange(stack, i, crane=9001)\n",
    "\n",
    "\"\".join([s[-1] for s in stack])\n",
    "\n",
    "\n"
   ]
  },
  {
   "cell_type": "code",
   "execution_count": null,
   "metadata": {},
   "outputs": [],
   "source": []
  }
 ],
 "metadata": {
  "kernelspec": {
   "display_name": "Python 3.7.6 64-bit ('3.7.6')",
   "language": "python",
   "name": "python3"
  },
  "language_info": {
   "codemirror_mode": {
    "name": "ipython",
    "version": 3
   },
   "file_extension": ".py",
   "mimetype": "text/x-python",
   "name": "python",
   "nbconvert_exporter": "python",
   "pygments_lexer": "ipython3",
   "version": "3.7.6"
  },
  "orig_nbformat": 4,
  "vscode": {
   "interpreter": {
    "hash": "b93058eb70b0e1b4c95bd731a26969c6088f4dfc9c60234d9a114f1559fa3dfe"
   }
  }
 },
 "nbformat": 4,
 "nbformat_minor": 2
}

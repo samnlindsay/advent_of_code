{
 "cells": [
  {
   "cell_type": "code",
   "execution_count": 3,
   "metadata": {},
   "outputs": [
    {
     "data": {
      "text/plain": [
       "439"
      ]
     },
     "execution_count": 3,
     "metadata": {},
     "output_type": "execute_result"
    }
   ],
   "source": [
    "import numpy as np\n",
    "import networkx as nx\n",
    "\n",
    "elevation = np.array([list(l) for l in open(\"inputs/12-input.txt\").read().splitlines()])\n",
    "\n",
    "# Find start and end points\n",
    "end = [int(i) for i in np.where(elevation == 'E')]\n",
    "start = [int(i) for i in np.where(elevation == 'S')]\n",
    "\n",
    "# Update map to show elevation\n",
    "elevation[end[0]][end[1]] = 'z'\n",
    "elevation[start[0]][start[1]] = 'a'\n",
    "\n",
    "# Create numeric heatmap\n",
    "elevation = [[ord(i)-96 for i in row] for row in elevation]\n",
    "\n",
    "# i = (row * row_length) + col\n",
    "def index(row,col):\n",
    "    return row*len(elevation[0]) + col\n",
    "\n",
    "def step_options(row,col):\n",
    "    current = elevation[row][col]\n",
    "    next = []\n",
    "    max = current+1\n",
    "\n",
    "    if row > 0 and elevation[row-1][col] <= max:\n",
    "            next.append(index(row-1,col))\n",
    "    if row < len(elevation)-1:\n",
    "        if elevation[row+1][col] <= max:\n",
    "            next.append(index(row+1,col))\n",
    "    if col > 0:\n",
    "        if elevation[row][col-1] <= max:\n",
    "            next.append(index(row,col-1))\n",
    "    if col < len(elevation[0])-1:\n",
    "        if elevation[row][col+1] <= max:\n",
    "            next.append(index(row,col+1))\n",
    "    \n",
    "    return next\n",
    "\n",
    "\n",
    "def shortest_path(source, target):\n",
    "    g = nx.DiGraph()\n",
    "    n_nodes = len(elevation) * len(elevation[0])\n",
    "    g.add_nodes_from(range(n_nodes))\n",
    "\n",
    "    for r in range(len(elevation)):\n",
    "        for c in range(len(elevation[0])):\n",
    "            a = index(r,c)\n",
    "            next = step_options(r, c)\n",
    "            [g.add_edge(a,b) for b in next]\n",
    "\n",
    "    try:\n",
    "        path = nx.shortest_path(g, source, target)\n",
    "        return(len(path)-1)\n",
    "    except nx.NetworkXNoPath:\n",
    "        #print(\"No shortest path\")\n",
    "        return None\n",
    "\n",
    "\n",
    "shortest_path(index(*start),index(*end))\n",
    "\n",
    "starts = [[a,b] for a in range(len(elevation)) for b in range(len(elevation[0])) if elevation[a][b]==1]\n",
    "\n",
    "paths = [shortest_path(index(*s),index(*end)) for s in starts]\n",
    "min([p for p in paths if p is not None])"
   ]
  },
  {
   "cell_type": "code",
   "execution_count": null,
   "metadata": {},
   "outputs": [],
   "source": []
  }
 ],
 "metadata": {
  "kernelspec": {
   "display_name": "Python 3.8.3 ('base')",
   "language": "python",
   "name": "python3"
  },
  "language_info": {
   "codemirror_mode": {
    "name": "ipython",
    "version": 3
   },
   "file_extension": ".py",
   "mimetype": "text/x-python",
   "name": "python",
   "nbconvert_exporter": "python",
   "pygments_lexer": "ipython3",
   "version": "3.8.3"
  },
  "orig_nbformat": 4,
  "vscode": {
   "interpreter": {
    "hash": "6a8f4949ca26f5f3d0f786878d593d66289b1fa320f5ce909fa01c7ee0c48b5d"
   }
  }
 },
 "nbformat": 4,
 "nbformat_minor": 2
}

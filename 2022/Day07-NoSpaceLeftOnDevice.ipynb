{
 "cells": [
  {
   "cell_type": "code",
   "execution_count": 234,
   "metadata": {},
   "outputs": [
    {
     "data": {
      "text/plain": [
       "5756764"
      ]
     },
     "execution_count": 234,
     "metadata": {},
     "output_type": "execute_result"
    }
   ],
   "source": [
    "from pathlib import Path\n",
    "\n",
    "def parse_input(test=False):\n",
    "    input = open(f\"inputs/07-input{'-test' if test else ''}.txt\").read()\n",
    "    return [(lambda x: (x[0], x[1:]))(c.split(\"\\n\")) for c in input.replace(\"\\n$\", \"$\").split(\"$ \")[1:]]\n",
    "\n",
    "cmds = parse_input(test=False)\n",
    "\n",
    "# Construct full paths for all files and directories\n",
    "paths = {'/': None}\n",
    "path = '/'\n",
    "\n",
    "for c,o in cmds[1:]:\n",
    "    if c[:2] == \"cd\":\n",
    "        p = c[3:]\n",
    "        if p == \"..\":\n",
    "            path = str(Path(path).parent)\n",
    "            path = path+\"/\" if path != \"/\" else path\n",
    "            \n",
    "        else:\n",
    "            path = f\"{path}{p}/\"\n",
    "    for l in o:\n",
    "        if l[:4] == \"dir \":\n",
    "            d = l[4:]\n",
    "            paths[f\"{path}{d}/\"] = None\n",
    "        elif l != \"\":\n",
    "            size, file = l.split(\" \")\n",
    "            paths[path+file] = int(size)\n",
    "\n",
    "# Select directories and calculate total size\n",
    "dirs = [k for k,v in paths.items() if v is None]\n",
    "\n",
    "def size(dir):\n",
    "    subdirs = [k for k,v in paths.items() if k.startswith(dir) and k!=dir and k.endswith(\"/\")]\n",
    "    for s in subdirs:\n",
    "        paths[s] = size(s)\n",
    "    total = sum([v for k,v in paths.items() if k.startswith(dir) and k!=dir and not k.endswith(\"/\")])\n",
    "    return total\n",
    "\n",
    "dirsizes = {d:size(d) for d in dirs}\n",
    "\n",
    "# Part 1\n",
    "sum([v for k,v in dirsizes.items() if v <= 100000])\n",
    "\n",
    "# Space required for deletion\n",
    "required = dirsizes[\"/\"] - 40000000\n",
    "\n",
    "bigdirs = {k:v for k,v in dirsizes.items() if v >= required}\n",
    "\n",
    "# Part 2\n",
    "bigdirs[min(bigdirs, key=bigdirs.get)]"
   ]
  },
  {
   "cell_type": "code",
   "execution_count": null,
   "metadata": {},
   "outputs": [],
   "source": []
  },
  {
   "cell_type": "code",
   "execution_count": null,
   "metadata": {},
   "outputs": [],
   "source": []
  },
  {
   "cell_type": "code",
   "execution_count": null,
   "metadata": {},
   "outputs": [],
   "source": []
  }
 ],
 "metadata": {
  "kernelspec": {
   "display_name": "Python 3.8.3 ('base')",
   "language": "python",
   "name": "python3"
  },
  "language_info": {
   "codemirror_mode": {
    "name": "ipython",
    "version": 3
   },
   "file_extension": ".py",
   "mimetype": "text/x-python",
   "name": "python",
   "nbconvert_exporter": "python",
   "pygments_lexer": "ipython3",
   "version": "3.8.3"
  },
  "orig_nbformat": 4,
  "vscode": {
   "interpreter": {
    "hash": "6a8f4949ca26f5f3d0f786878d593d66289b1fa320f5ce909fa01c7ee0c48b5d"
   }
  }
 },
 "nbformat": 4,
 "nbformat_minor": 2
}

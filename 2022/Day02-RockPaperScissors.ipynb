{
 "cells": [
  {
   "cell_type": "code",
   "execution_count": 141,
   "metadata": {},
   "outputs": [
    {
     "data": {
      "text/plain": [
       "3433"
      ]
     },
     "execution_count": 141,
     "metadata": {},
     "output_type": "execute_result"
    }
   ],
   "source": [
    "strategy = [l.split(' ') for l in open(\"inputs/02-input.txt\").read().splitlines()]\n",
    "\n",
    "# A/X (Rock - 1)\n",
    "# B/Y (Paper - 2)\n",
    "# C/Z (Scissors - 3)\n",
    "\n",
    "code = {\n",
    "    \"A\": 1, \"X\": 1,\n",
    "    \"B\": 2, \"Y\": 2,\n",
    "    \"C\": 3, \"Z\": 3,\n",
    "}\n",
    "\n",
    "test = [\n",
    "    ['A', 'Y'],\n",
    "    ['B', 'X'],\n",
    "    ['C', 'Z']\n",
    "]\n",
    "\n",
    "def score1(a,b):\n",
    "    # win=6, lose=0, draw=3\n",
    "    wld = 3 * ((code[b] - code[a] + 1) % 3)\n",
    "\n",
    "    return wld + code[b]\n",
    "\n",
    "sum([score1(*s) for s in strategy])\n",
    "\n",
    "def score2(a,b):\n",
    "    wld = (code[b] - 1) * 3\n",
    "    move = (code[a] + code[b] - 3) % 3 + 1\n",
    "\n",
    "    return wld + move\n",
    "\n",
    "sum([score2(*s) for s in strategy])"
   ]
  },
  {
   "cell_type": "code",
   "execution_count": 136,
   "metadata": {},
   "outputs": [],
   "source": [
    "def score2(a,b):\n",
    "    wld = (code[b] - 1) * 3\n",
    "    move = (code[a] + code[b] - 3) % 3 + 1\n",
    "\n",
    "    return wld + move\n",
    "\n",
    "sum([score2(*s) for s in strategy])"
   ]
  },
  {
   "cell_type": "code",
   "execution_count": null,
   "metadata": {},
   "outputs": [],
   "source": []
  },
  {
   "cell_type": "code",
   "execution_count": null,
   "metadata": {},
   "outputs": [],
   "source": []
  }
 ],
 "metadata": {
  "kernelspec": {
   "display_name": "Python 3.8.3 ('base')",
   "language": "python",
   "name": "python3"
  },
  "language_info": {
   "codemirror_mode": {
    "name": "ipython",
    "version": 3
   },
   "file_extension": ".py",
   "mimetype": "text/x-python",
   "name": "python",
   "nbconvert_exporter": "python",
   "pygments_lexer": "ipython3",
   "version": "3.8.3"
  },
  "orig_nbformat": 4,
  "vscode": {
   "interpreter": {
    "hash": "6a8f4949ca26f5f3d0f786878d593d66289b1fa320f5ce909fa01c7ee0c48b5d"
   }
  }
 },
 "nbformat": 4,
 "nbformat_minor": 2
}

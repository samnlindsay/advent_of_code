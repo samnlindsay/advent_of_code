{
 "cells": [
  {
   "cell_type": "code",
   "execution_count": 64,
   "metadata": {},
   "outputs": [
    {
     "data": {
      "text/plain": [
       "['# # # # . . # # . . # # # # . # . . # . # # # # . . # # . . # . . . . # # # . .',\n",
       " '# . . . . # . . # . . . . # . # . . # . . . . # . # . . # . # . . . . # . . # .',\n",
       " '# # # . . # . . . . . . # . . # . . # . . . # . . # . . # . # . . . . # . . # .',\n",
       " '# . . . . # . . . . . # . . . # . . # . . # . . . # # # # . # . . . . # # # . .',\n",
       " '# . . . . # . . # . # . . . . # . . # . # . . . . # . . # . # . . . . # . # . .',\n",
       " '# # # # . . # # . . # # # # . . # # . . # # # # . # . . # . # # # # . # . . # .']"
      ]
     },
     "execution_count": 64,
     "metadata": {},
     "output_type": "execute_result"
    }
   ],
   "source": [
    "cmds = [l.split() for l in open(\"inputs/10-input.txt\").read().splitlines()]\n",
    "\n",
    "def apply_cmd(x,cmd):\n",
    "    if cmd[0] == \"noop\":\n",
    "        x.append(x[-1])\n",
    "    else:\n",
    "        x.extend([x[-1], x[-1] + int(cmd[1])])\n",
    "    return x\n",
    "\n",
    "x = [1]\n",
    "\n",
    "for c in cmds:\n",
    "    x = apply_cmd(x,c)\n",
    "\n",
    "sum([x[n-1] * n for n in range(20,240,40)])\n",
    "\n",
    "pixels = [\".\"] * (len(x)-1)\n",
    "for p in range(len(x)-1):\n",
    "    s = [x[p]-1, x[p], x[p]+1]\n",
    "    if p % 40 in s:\n",
    "        pixels[p] = \"#\"\n",
    "\n",
    "[\" \".join(pixels[i:i+40]) for i in range(0,240,40)]"
   ]
  },
  {
   "cell_type": "code",
   "execution_count": null,
   "metadata": {},
   "outputs": [],
   "source": []
  }
 ],
 "metadata": {
  "kernelspec": {
   "display_name": "Python 3.8.3 ('base')",
   "language": "python",
   "name": "python3"
  },
  "language_info": {
   "codemirror_mode": {
    "name": "ipython",
    "version": 3
   },
   "file_extension": ".py",
   "mimetype": "text/x-python",
   "name": "python",
   "nbconvert_exporter": "python",
   "pygments_lexer": "ipython3",
   "version": "3.8.3"
  },
  "orig_nbformat": 4,
  "vscode": {
   "interpreter": {
    "hash": "6a8f4949ca26f5f3d0f786878d593d66289b1fa320f5ce909fa01c7ee0c48b5d"
   }
  }
 },
 "nbformat": 4,
 "nbformat_minor": 2
}

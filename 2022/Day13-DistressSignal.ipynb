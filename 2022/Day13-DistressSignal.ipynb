{
 "cells": [
  {
   "cell_type": "code",
   "execution_count": 134,
   "metadata": {},
   "outputs": [
    {
     "data": {
      "text/plain": [
       "5013"
      ]
     },
     "execution_count": 134,
     "metadata": {},
     "output_type": "execute_result"
    }
   ],
   "source": [
    "input = [eval(l) for l in open(\"inputs/13-input.txt\").read().splitlines() if l != \"\"]\n",
    "\n",
    "ll = [input[2*i] for i in range(len(input)//2)]\n",
    "rr = [input[2*i+1] for i in range(len(input)//2)]\n",
    "\n",
    "def compare(ll,rr):\n",
    "    if type(ll) == list and type(rr) == list:\n",
    "        for l,r in zip(ll,rr):   \n",
    "            res = compare(l,r)\n",
    "            if res is not None:\n",
    "                return res\n",
    "        if len(ll) > len(rr):\n",
    "            return False\n",
    "        elif len(rr) > len(ll):\n",
    "            return True\n",
    "\n",
    "    if type(ll) == int and type(rr) == list:\n",
    "        return compare([ll],rr)\n",
    "    \n",
    "    if type(ll) == list and type(rr) == int:\n",
    "        return compare(ll,[rr])\n",
    "    \n",
    "    if type(ll) == int and type(rr) == int:\n",
    "        if ll == rr:\n",
    "            pass\n",
    "        elif ll < rr:\n",
    "            return True\n",
    "        else:\n",
    "            return False\n",
    "\n",
    "# Part 1\n",
    "sum([int(compare(l,r)) * (i+1) for i,(l,r) in enumerate(zip(ll,rr))])\n",
    "\n"
   ]
  },
  {
   "cell_type": "code",
   "execution_count": 135,
   "metadata": {},
   "outputs": [
    {
     "data": {
      "text/plain": [
       "25038"
      ]
     },
     "execution_count": 135,
     "metadata": {},
     "output_type": "execute_result"
    }
   ],
   "source": [
    "# Part 2\n",
    "index2 = sum([compare(i,[[2]]) for i in input]) + 1\n",
    "index6 = sum([compare(i,[[6]]) for i in input]) + 2\n",
    "index2 * index6\n"
   ]
  },
  {
   "cell_type": "code",
   "execution_count": 133,
   "metadata": {},
   "outputs": [
    {
     "data": {
      "text/plain": [
       "25038"
      ]
     },
     "execution_count": 133,
     "metadata": {},
     "output_type": "execute_result"
    }
   ],
   "source": []
  },
  {
   "cell_type": "code",
   "execution_count": 81,
   "metadata": {},
   "outputs": [
    {
     "data": {
      "text/plain": [
       "[[1, 1, 5, 1, 1],\n",
       " [[1], 4],\n",
       " [[8, 7, 6]],\n",
       " [[4, 4], 4, 4, 4],\n",
       " [7, 7, 7],\n",
       " [3],\n",
       " [[]],\n",
       " [1, [2, [3, [4, [5, 6, 0]]]], 8, 9]]"
      ]
     },
     "execution_count": 81,
     "metadata": {},
     "output_type": "execute_result"
    }
   ],
   "source": [
    "r"
   ]
  },
  {
   "cell_type": "code",
   "execution_count": 80,
   "metadata": {},
   "outputs": [
    {
     "data": {
      "text/plain": [
       "[[1, 1, 3, 1, 1],\n",
       " [[1], [2, 3, 4]],\n",
       " [9],\n",
       " [[4, 4], 4, 4],\n",
       " [7, 7, 7, 7],\n",
       " [],\n",
       " [[[]]],\n",
       " [1, [2, [3, [4, [5, 6, 7]]]], 8, 9]]"
      ]
     },
     "execution_count": 80,
     "metadata": {},
     "output_type": "execute_result"
    }
   ],
   "source": [
    "l"
   ]
  },
  {
   "cell_type": "code",
   "execution_count": 23,
   "metadata": {},
   "outputs": [
    {
     "name": "stdout",
     "output_type": "stream",
     "text": [
      "1 4\n",
      "2 5\n",
      "3 6\n"
     ]
    },
    {
     "data": {
      "text/plain": [
       "[None, None, None]"
      ]
     },
     "execution_count": 23,
     "metadata": {},
     "output_type": "execute_result"
    }
   ],
   "source": [
    "[print(a,b) for a,b in zip([1,2,3],[4,5,6])]"
   ]
  },
  {
   "cell_type": "code",
   "execution_count": 42,
   "metadata": {},
   "outputs": [
    {
     "name": "stdout",
     "output_type": "stream",
     "text": [
      "1 1\n",
      "2 2\n",
      "3 3\n"
     ]
    },
    {
     "data": {
      "text/plain": [
       "[None, None, None]"
      ]
     },
     "execution_count": 42,
     "metadata": {},
     "output_type": "execute_result"
    }
   ],
   "source": [
    "a = [1,2,3,4]\n",
    "b = [1,2,3]\n",
    "\n",
    "[print(x,y) for x,y in zip(a,b)]    "
   ]
  },
  {
   "cell_type": "code",
   "execution_count": null,
   "metadata": {},
   "outputs": [],
   "source": []
  }
 ],
 "metadata": {
  "kernelspec": {
   "display_name": "Python 3.8.3 ('base')",
   "language": "python",
   "name": "python3"
  },
  "language_info": {
   "codemirror_mode": {
    "name": "ipython",
    "version": 3
   },
   "file_extension": ".py",
   "mimetype": "text/x-python",
   "name": "python",
   "nbconvert_exporter": "python",
   "pygments_lexer": "ipython3",
   "version": "3.8.3"
  },
  "orig_nbformat": 4,
  "vscode": {
   "interpreter": {
    "hash": "6a8f4949ca26f5f3d0f786878d593d66289b1fa320f5ce909fa01c7ee0c48b5d"
   }
  }
 },
 "nbformat": 4,
 "nbformat_minor": 2
}

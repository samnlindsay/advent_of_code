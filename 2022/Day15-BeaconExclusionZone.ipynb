{
 "cells": [
  {
   "cell_type": "code",
   "execution_count": 80,
   "metadata": {},
   "outputs": [
    {
     "data": {
      "text/plain": [
       "4737443"
      ]
     },
     "execution_count": 80,
     "metadata": {},
     "output_type": "execute_result"
    }
   ],
   "source": [
    "import re\n",
    "\n",
    "input = [list(map(int, re.findall(\"-?\\d+\", l))) for l in open(\"inputs/15-input.txt\").read().splitlines()]\n",
    "xs,ys,xb,yb = zip(*input)\n",
    "\n",
    "sensors = list(zip(xs,ys))\n",
    "beacons = list(zip(xb,yb))\n",
    "distance = [abs(xb-xs)+abs(yb-ys) for xs,ys,xb,yb in input]\n",
    "\n",
    "def distance_along_row(y,sensor,distance,limit=None):\n",
    "    xs,ys = sensor\n",
    "    xdist = distance - abs(ys-y)\n",
    "    if xdist < 0:\n",
    "        return set()\n",
    "    if limit is not None:\n",
    "        return set(range(max(0,xs-xdist), min(limit,xs+xdist)+1))\n",
    "    else:\n",
    "        return set(range(xs-xdist, xs+xdist+1))\n",
    "\n",
    "# Part 1\n",
    "row = 2000000\n",
    "beacons_on_row = len({x for x,y in beacons if y == row})\n",
    "len(set().union(*[distance_along_row(row,s,d) for s,d in zip(sensors, distance)])) - beacons_on_row\n",
    "\n",
    "\n",
    "def interval_along_row(y,sensor,distance,limit=None):\n",
    "    xs,ys = sensor\n",
    "    xdist = distance - abs(ys-y)\n",
    "    if xdist < 0:\n",
    "        return (0,0)\n",
    "    if limit is not None:\n",
    "        return max(0,xs-xdist), min(limit,xs+xdist)\n",
    "    else:\n",
    "        return xs-xdist, xs+xdist\n",
    "        \n",
    "def merge(intervals):\n",
    "    intervals.sort(key=lambda x: x[0])\n",
    "    merged = []\n",
    "    for a,b in intervals:\n",
    "        if not merged or a > merged[-1][1]+1:\n",
    "            merged.append((a,b))\n",
    "        elif b > merged[-1][1]:\n",
    "            merged[-1] = merged[-1][0], b\n",
    "    return merged\n",
    "    \n",
    "# Part 2\n",
    "limit = 4000000\n",
    "for row in range(limit+1):\n",
    "    interval = merge([interval_along_row(row,s,d,limit) for s,d in zip(sensors, distance)])\n",
    "    if interval != [(0,limit)]:\n",
    "        y = row\n",
    "        xx = [n for n in range(interval[0][1]+1, interval[1][0])]\n",
    "        [print(x,y, 4000000*x+y) for x in xx]\n"
   ]
  },
  {
   "cell_type": "code",
   "execution_count": 81,
   "metadata": {},
   "outputs": [
    {
     "name": "stdout",
     "output_type": "stream",
     "text": [
      "2870615 2818989 11482462818989\n"
     ]
    }
   ],
   "source": []
  },
  {
   "cell_type": "code",
   "execution_count": null,
   "metadata": {},
   "outputs": [],
   "source": []
  }
 ],
 "metadata": {
  "kernelspec": {
   "display_name": "Python 3.7.6 64-bit ('3.7.6')",
   "language": "python",
   "name": "python3"
  },
  "language_info": {
   "codemirror_mode": {
    "name": "ipython",
    "version": 3
   },
   "file_extension": ".py",
   "mimetype": "text/x-python",
   "name": "python",
   "nbconvert_exporter": "python",
   "pygments_lexer": "ipython3",
   "version": "3.7.6"
  },
  "orig_nbformat": 4,
  "vscode": {
   "interpreter": {
    "hash": "b93058eb70b0e1b4c95bd731a26969c6088f4dfc9c60234d9a114f1559fa3dfe"
   }
  }
 },
 "nbformat": 4,
 "nbformat_minor": 2
}

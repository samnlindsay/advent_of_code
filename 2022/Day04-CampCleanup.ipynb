{
 "cells": [
  {
   "cell_type": "code",
   "execution_count": 12,
   "metadata": {},
   "outputs": [],
   "source": [
    "input = [list(map(int,l.replace('-',',').split(','))) for l in open(\"inputs/04-input.txt\").read().splitlines()]\n",
    "\n",
    "def subset(l):\n",
    "    # is a subset of b?\n",
    "    if l[0]>= l[2] and l[1]<=l[3]:\n",
    "        return True\n",
    "    # is b subset of a?\n",
    "    elif l[2]>= l[0] and l[3]<=l[1]:\n",
    "        return True\n",
    "    else:\n",
    "        return False\n",
    "        \n",
    "sum([subset(l) for l in input])\n",
    "\n",
    "def overlap(l):\n",
    "    overlap = set(range(l[0],l[1]+1)) & set(range(l[2],l[3]+1))\n",
    "    return True if len(overlap)>0 else False\n",
    "\n",
    "sum([overlap(l) for l in input])"
   ]
  },
  {
   "cell_type": "code",
   "execution_count": null,
   "metadata": {},
   "outputs": [],
   "source": []
  }
 ],
 "metadata": {
  "kernelspec": {
   "display_name": "Python 3.7.6 64-bit ('3.7.6')",
   "language": "python",
   "name": "python3"
  },
  "language_info": {
   "codemirror_mode": {
    "name": "ipython",
    "version": 3
   },
   "file_extension": ".py",
   "mimetype": "text/x-python",
   "name": "python",
   "nbconvert_exporter": "python",
   "pygments_lexer": "ipython3",
   "version": "3.7.6"
  },
  "orig_nbformat": 4,
  "vscode": {
   "interpreter": {
    "hash": "b93058eb70b0e1b4c95bd731a26969c6088f4dfc9c60234d9a114f1559fa3dfe"
   }
  }
 },
 "nbformat": 4,
 "nbformat_minor": 2
}

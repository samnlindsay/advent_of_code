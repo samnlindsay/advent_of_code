{
 "cells": [
  {
   "cell_type": "code",
   "execution_count": 57,
   "metadata": {},
   "outputs": [
    {
     "data": {
      "text/plain": [
       "6181"
      ]
     },
     "execution_count": 57,
     "metadata": {},
     "output_type": "execute_result"
    }
   ],
   "source": [
    "import numpy as np\n",
    "\n",
    "motions = [(l.split()[0], int(l.split()[1])) for l in open(f\"inputs/09-input.txt\").read().splitlines()]\n",
    "\n",
    "def inst_to_vec(inst):\n",
    "    x,y = (0,0)\n",
    "    if inst[0] in [\"L\", \"R\"]:\n",
    "        x = inst[1] if inst[0] == \"R\" else -inst[1]\n",
    "    if inst[0] in [\"U\", \"D\"]:\n",
    "        y = inst[1] if inst[0] == \"U\" else -inst[1]\n",
    "    return np.array([x,y])\n",
    "\n",
    "vecs = [inst_to_vec(m) for m in motions]\n",
    "\n",
    "s = np.array([0,0])\n",
    "h = np.array([0,0])\n",
    "t = np.array([0,0])\n",
    "t_hist = set(tuple(t))\n",
    "\n",
    "def move(m, h, t):\n",
    "    l = abs(sum(m))\n",
    "    uvec = m//l\n",
    "    for i in range(1,l+1):\n",
    "        h2 = h + uvec\n",
    "        if np.any(abs(h2 - t) > 1):\n",
    "            t = h\n",
    "            t_hist.add(tuple(t))\n",
    "        h = h2\n",
    "    return h, t\n",
    "\n",
    "for m in vecs:\n",
    "    h, t = move(m,h,t)\n",
    "\n",
    "len(t_hist)"
   ]
  },
  {
   "cell_type": "code",
   "execution_count": 68,
   "metadata": {},
   "outputs": [
    {
     "data": {
      "text/plain": [
       "1"
      ]
     },
     "execution_count": 68,
     "metadata": {},
     "output_type": "execute_result"
    }
   ],
   "source": [
    "rope = [np.array([0,0])] * 10\n",
    "t_hist = set(tuple(rope[-1]))\n",
    "\n",
    "def move2(m, rope):\n",
    "    l = abs(sum(m))\n",
    "    uvec = m//l\n",
    "    for i in range(1,l+1):\n",
    "        for k in range(0,9):\n",
    "            p1 = rope[k]\n",
    "            p2 = p1 + uvec\n",
    "            if np.any(abs(p2 - rope[k+1]) > 1):\n",
    "                rope[k+1] = p1\n",
    "            rope[k] = p2\n",
    "        t_hist.add(tuple(rope[-1]))\n",
    "    return rope\n",
    "\n",
    "# for m in vecs:\n",
    "#     rope = move2(m, rope)\n",
    "\n",
    "len(t_hist)"
   ]
  },
  {
   "cell_type": "code",
   "execution_count": 69,
   "metadata": {},
   "outputs": [
    {
     "data": {
      "text/plain": [
       "[array([0, 0]),\n",
       " array([0, 0]),\n",
       " array([0, 0]),\n",
       " array([0, 0]),\n",
       " array([0, 0]),\n",
       " array([0, 0]),\n",
       " array([0, 0]),\n",
       " array([0, 0]),\n",
       " array([0, 0]),\n",
       " array([0, 0])]"
      ]
     },
     "execution_count": 69,
     "metadata": {},
     "output_type": "execute_result"
    }
   ],
   "source": [
    "rope\n"
   ]
  },
  {
   "cell_type": "code",
   "execution_count": 55,
   "metadata": {},
   "outputs": [
    {
     "data": {
      "text/plain": [
       "6181"
      ]
     },
     "execution_count": 55,
     "metadata": {},
     "output_type": "execute_result"
    }
   ],
   "source": [
    "len(t_hist)"
   ]
  },
  {
   "cell_type": "code",
   "execution_count": 46,
   "metadata": {},
   "outputs": [
    {
     "data": {
      "text/plain": [
       "True"
      ]
     },
     "execution_count": 46,
     "metadata": {},
     "output_type": "execute_result"
    }
   ],
   "source": [
    "np.any(abs(np.array([0,2]) - np.array([0,0])) > 1)"
   ]
  },
  {
   "cell_type": "code",
   "execution_count": 32,
   "metadata": {},
   "outputs": [
    {
     "data": {
      "text/plain": [
       "array([-1,  0])"
      ]
     },
     "execution_count": 32,
     "metadata": {},
     "output_type": "execute_result"
    }
   ],
   "source": [
    "abs(sum(np.array([-1,0])))\n",
    "\n",
    "np.array([-1,0])//abs(sum(np.array([-1,0])))"
   ]
  },
  {
   "cell_type": "code",
   "execution_count": 34,
   "metadata": {},
   "outputs": [
    {
     "data": {
      "text/plain": [
       "(array([0, 0]), array([0, 0]))"
      ]
     },
     "execution_count": 34,
     "metadata": {},
     "output_type": "execute_result"
    }
   ],
   "source": [
    "h,t"
   ]
  },
  {
   "cell_type": "code",
   "execution_count": 42,
   "metadata": {},
   "outputs": [
    {
     "data": {
      "text/plain": [
       "(array([-1,  0]), array([0, 0]))"
      ]
     },
     "execution_count": 42,
     "metadata": {},
     "output_type": "execute_result"
    }
   ],
   "source": [
    "move(vecs[0], h, t)"
   ]
  },
  {
   "cell_type": "code",
   "execution_count": 43,
   "metadata": {},
   "outputs": [
    {
     "data": {
      "text/plain": [
       "(array([1, 0]), array([0, 0]))"
      ]
     },
     "execution_count": 43,
     "metadata": {},
     "output_type": "execute_result"
    }
   ],
   "source": [
    "move(vecs[1], *move(vecs[0], h, t))"
   ]
  },
  {
   "cell_type": "code",
   "execution_count": 52,
   "metadata": {},
   "outputs": [
    {
     "data": {
      "text/plain": [
       "(0, 0)"
      ]
     },
     "execution_count": 52,
     "metadata": {},
     "output_type": "execute_result"
    }
   ],
   "source": [
    "tuple(np.array([0,0]))"
   ]
  },
  {
   "cell_type": "code",
   "execution_count": null,
   "metadata": {},
   "outputs": [],
   "source": []
  }
 ],
 "metadata": {
  "kernelspec": {
   "display_name": "Python 3.8.3 ('base')",
   "language": "python",
   "name": "python3"
  },
  "language_info": {
   "codemirror_mode": {
    "name": "ipython",
    "version": 3
   },
   "file_extension": ".py",
   "mimetype": "text/x-python",
   "name": "python",
   "nbconvert_exporter": "python",
   "pygments_lexer": "ipython3",
   "version": "3.8.3"
  },
  "orig_nbformat": 4,
  "vscode": {
   "interpreter": {
    "hash": "6a8f4949ca26f5f3d0f786878d593d66289b1fa320f5ce909fa01c7ee0c48b5d"
   }
  }
 },
 "nbformat": 4,
 "nbformat_minor": 2
}

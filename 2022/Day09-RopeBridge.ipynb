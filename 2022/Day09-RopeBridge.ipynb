{
 "cells": [
  {
   "cell_type": "code",
   "execution_count": 1,
   "metadata": {},
   "outputs": [
    {
     "ename": "ModuleNotFoundError",
     "evalue": "No module named 'numpy'",
     "output_type": "error",
     "traceback": [
      "\u001b[0;31m---------------------------------------------------------------------------\u001b[0m",
      "\u001b[0;31mModuleNotFoundError\u001b[0m                       Traceback (most recent call last)",
      "\u001b[0;32m/var/folders/yb/7wkj48xd5dz2y4rxy2twd_zr0000gn/T/ipykernel_12059/1808807246.py\u001b[0m in \u001b[0;36m<module>\u001b[0;34m\u001b[0m\n\u001b[0;32m----> 1\u001b[0;31m \u001b[0;32mimport\u001b[0m \u001b[0mnumpy\u001b[0m \u001b[0;32mas\u001b[0m \u001b[0mnp\u001b[0m\u001b[0;34m\u001b[0m\u001b[0;34m\u001b[0m\u001b[0m\n\u001b[0m\u001b[1;32m      2\u001b[0m \u001b[0;34m\u001b[0m\u001b[0m\n\u001b[1;32m      3\u001b[0m \u001b[0mmotions\u001b[0m \u001b[0;34m=\u001b[0m \u001b[0;34m[\u001b[0m\u001b[0;34m(\u001b[0m\u001b[0ml\u001b[0m\u001b[0;34m.\u001b[0m\u001b[0msplit\u001b[0m\u001b[0;34m(\u001b[0m\u001b[0;34m)\u001b[0m\u001b[0;34m[\u001b[0m\u001b[0;36m0\u001b[0m\u001b[0;34m]\u001b[0m\u001b[0;34m,\u001b[0m \u001b[0mint\u001b[0m\u001b[0;34m(\u001b[0m\u001b[0ml\u001b[0m\u001b[0;34m.\u001b[0m\u001b[0msplit\u001b[0m\u001b[0;34m(\u001b[0m\u001b[0;34m)\u001b[0m\u001b[0;34m[\u001b[0m\u001b[0;36m1\u001b[0m\u001b[0;34m]\u001b[0m\u001b[0;34m)\u001b[0m\u001b[0;34m)\u001b[0m \u001b[0;32mfor\u001b[0m \u001b[0ml\u001b[0m \u001b[0;32min\u001b[0m \u001b[0mopen\u001b[0m\u001b[0;34m(\u001b[0m\u001b[0;34mf\"inputs/09-input.txt\"\u001b[0m\u001b[0;34m)\u001b[0m\u001b[0;34m.\u001b[0m\u001b[0mread\u001b[0m\u001b[0;34m(\u001b[0m\u001b[0;34m)\u001b[0m\u001b[0;34m.\u001b[0m\u001b[0msplitlines\u001b[0m\u001b[0;34m(\u001b[0m\u001b[0;34m)\u001b[0m\u001b[0;34m]\u001b[0m\u001b[0;34m\u001b[0m\u001b[0;34m\u001b[0m\u001b[0m\n\u001b[1;32m      4\u001b[0m \u001b[0;34m\u001b[0m\u001b[0m\n\u001b[1;32m      5\u001b[0m \u001b[0;32mdef\u001b[0m \u001b[0minst_to_vec\u001b[0m\u001b[0;34m(\u001b[0m\u001b[0minst\u001b[0m\u001b[0;34m)\u001b[0m\u001b[0;34m:\u001b[0m\u001b[0;34m\u001b[0m\u001b[0;34m\u001b[0m\u001b[0m\n",
      "\u001b[0;31mModuleNotFoundError\u001b[0m: No module named 'numpy'"
     ]
    }
   ],
   "source": [
    "import numpy as np\n",
    "\n",
    "motions = [(l.split()[0], int(l.split()[1])) for l in open(f\"inputs/09-input.txt\").read().splitlines()]\n",
    "\n",
    "def inst_to_vec(inst):\n",
    "    x,y = (0,0)\n",
    "    if inst[0] in [\"L\", \"R\"]:\n",
    "        x = inst[1] if inst[0] == \"R\" else -inst[1]\n",
    "    if inst[0] in [\"U\", \"D\"]:\n",
    "        y = inst[1] if inst[0] == \"U\" else -inst[1]\n",
    "    return np.array([x,y])\n",
    "\n",
    "vecs = [inst_to_vec(m) for m in motions]\n",
    "\n",
    "## Part 1\n",
    "\n",
    "s = np.array([0,0])\n",
    "h = np.array([0,0])\n",
    "t = np.array([0,0])\n",
    "t_hist = set()\n",
    "\n",
    "def move(m, h, t):\n",
    "    l = abs(sum(m))\n",
    "    uvec = m//l\n",
    "    for i in range(1,l+1):\n",
    "        h2 = h + uvec\n",
    "        if np.any(abs(h2 - t) > 1):\n",
    "            t = h\n",
    "            t_hist.add(tuple(t))\n",
    "        h = h2\n",
    "    return h, t\n",
    "\n",
    "for m in vecs:\n",
    "    h, t = move(m,h,t)\n",
    "\n",
    "len(t_hist)\n",
    "\n",
    "## Part 2\n",
    "\n",
    "rope = [np.array([0,0])] * 10\n",
    "t_hist = set()\n",
    "\n",
    "def move2(m, rope):\n",
    "    l = abs(sum(m))\n",
    "    uvec = m//l\n",
    "    for i in range(1,l+1):\n",
    "        new_pos = rope.copy()\n",
    "        for k in range(10):\n",
    "            #old position\n",
    "            p = rope[k]\n",
    "            \n",
    "            # HEAD...\n",
    "            if k==0:\n",
    "                #new position\n",
    "                new_pos[k] = p + uvec\n",
    "\n",
    "            #...others\n",
    "            elif np.any(np.abs(new_pos[k-1] - p) > 1):\n",
    "                #new position\n",
    "                step = np.sign(new_pos[k-1] - p)\n",
    "                new_pos[k] = p + step\n",
    "\n",
    "        # print(i, new_pos)\n",
    "        rope = new_pos.copy()\n",
    "        t_hist.add(tuple(new_pos[-1]))\n",
    "    \n",
    "    return rope\n",
    "\n",
    "for m in vecs:\n",
    "    rope = move2(m, rope)\n",
    "\n",
    "len(t_hist)\n"
   ]
  },
  {
   "cell_type": "code",
   "execution_count": 94,
   "metadata": {},
   "outputs": [
    {
     "data": {
      "text/plain": [
       "2386"
      ]
     },
     "execution_count": 94,
     "metadata": {},
     "output_type": "execute_result"
    }
   ],
   "source": [
    "rope = [np.array([0,0])] * 10\n",
    "t_hist = set()\n",
    "\n",
    "def move2(m, rope):\n",
    "    l = abs(sum(m))\n",
    "    uvec = m//l\n",
    "    for i in range(1,l+1):\n",
    "        new_pos = rope.copy()\n",
    "        for k in range(10):\n",
    "            #old position\n",
    "            p = rope[k]\n",
    "            \n",
    "            # HEAD...\n",
    "            if k==0:\n",
    "                #new position\n",
    "                new_pos[k] = p + uvec\n",
    "\n",
    "            #...others\n",
    "            elif np.any(np.abs(new_pos[k-1] - p) > 1):\n",
    "                #new position\n",
    "                step = np.sign(new_pos[k-1] - p)\n",
    "                new_pos[k] = p + step\n",
    "\n",
    "        # print(i, new_pos)\n",
    "        rope = new_pos.copy()\n",
    "        t_hist.add(tuple(new_pos[-1]))\n",
    "    \n",
    "    return rope\n",
    "\n",
    "for m in vecs:\n",
    "    rope = move2(m, rope)\n",
    "\n",
    "len(t_hist)"
   ]
  },
  {
   "cell_type": "code",
   "execution_count": 31,
   "metadata": {},
   "outputs": [
    {
     "data": {
      "text/plain": [
       "[('R', 5),\n",
       " ('U', 8),\n",
       " ('L', 8),\n",
       " ('D', 3),\n",
       " ('R', 17),\n",
       " ('D', 10),\n",
       " ('L', 25),\n",
       " ('U', 20)]"
      ]
     },
     "execution_count": 31,
     "metadata": {},
     "output_type": "execute_result"
    }
   ],
   "source": [
    "motions"
   ]
  },
  {
   "cell_type": "code",
   "execution_count": 41,
   "metadata": {},
   "outputs": [
    {
     "data": {
      "text/plain": [
       "array([ 0, -1])"
      ]
     },
     "execution_count": 41,
     "metadata": {},
     "output_type": "execute_result"
    }
   ],
   "source": [
    "np.sign(np.array([0,-2]))"
   ]
  },
  {
   "cell_type": "code",
   "execution_count": null,
   "metadata": {},
   "outputs": [],
   "source": []
  }
 ],
 "metadata": {
  "kernelspec": {
   "display_name": "Python 3.7.3 64-bit ('3.7.3')",
   "language": "python",
   "name": "python3"
  },
  "language_info": {
   "codemirror_mode": {
    "name": "ipython",
    "version": 3
   },
   "file_extension": ".py",
   "mimetype": "text/x-python",
   "name": "python",
   "nbconvert_exporter": "python",
   "pygments_lexer": "ipython3",
   "version": "3.7.3"
  },
  "orig_nbformat": 4,
  "vscode": {
   "interpreter": {
    "hash": "0bc70bfaab65636f33cd213de8eadedd0b71374f30868f5a34dc2c0c2a80965b"
   }
  }
 },
 "nbformat": 4,
 "nbformat_minor": 2
}

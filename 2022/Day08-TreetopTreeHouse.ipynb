{
 "cells": [
  {
   "cell_type": "code",
   "execution_count": 210,
   "metadata": {},
   "outputs": [
    {
     "data": {
      "text/plain": [
       "1820"
      ]
     },
     "execution_count": 210,
     "metadata": {},
     "output_type": "execute_result"
    }
   ],
   "source": [
    "import numpy as np\n",
    "\n",
    "tree_map = np.array([list(map(int, list(l))) for l in open(f\"inputs/08-input.txt\").read().splitlines()])\n",
    "\n",
    "#tree_map = np.array([[3,0,3,7,3], [2,5,5,1,2], [6,5,3,3,2], [3,3,5,4,9], [3,5,3,9,0]])\n",
    "\n",
    "def visible(array):\n",
    "    n = len(array)\n",
    "    vis = np.empty(n, dtype=\"bool\")\n",
    "    vis.fill(False)\n",
    "    vis[0] = True\n",
    "    vis[-1] = True\n",
    "\n",
    "    for i in range(0, n-1):\n",
    "        if np.all(array[:i+1] < array[i+1]):\n",
    "            vis[i+1] = True\n",
    "        if np.all(array[i] > array[i+1:]):    \n",
    "            vis[i] = True\n",
    "    return vis\n",
    "\n",
    "left_right = np.vstack([visible(a) for a in tree_map])\n",
    "up_down = np.vstack([visible(a) for a in tree_map.T]).T\n",
    "\n",
    "np.sum(np.logical_or(left_right, up_down))\n",
    "\n",
    "def viewing_distance(array):\n",
    "    n = len(array)\n",
    "    d = np.zeros(n)\n",
    "    d.dtype=\"int\"\n",
    "    for i in range(1,n-1):\n",
    "        # Left\n",
    "        if i > 1:\n",
    "            a = i - np.max(np.where(array[:i] >= array[i]), initial=0)\n",
    "        else:\n",
    "            a = 1\n",
    "\n",
    "        # Right\n",
    "        if i > n-3:\n",
    "            b = 1\n",
    "        else:\n",
    "            b = np.min(np.where(array[i+1:] >= array[i]), initial=n-i-2) + 1 \n",
    "        \n",
    "        d[i] = a * b\n",
    "\n",
    "    return d\n",
    "\n",
    "left_right = np.vstack([viewing_distance(a) for a in tree_map])\n",
    "up_down = np.vstack([viewing_distance(a) for a in tree_map.T]).T\n",
    "\n",
    "np.max(np.multiply(left_right,up_down))"
   ]
  },
  {
   "cell_type": "code",
   "execution_count": 211,
   "metadata": {},
   "outputs": [
    {
     "data": {
      "text/plain": [
       "385112"
      ]
     },
     "execution_count": 211,
     "metadata": {},
     "output_type": "execute_result"
    }
   ],
   "source": []
  },
  {
   "cell_type": "code",
   "execution_count": null,
   "metadata": {},
   "outputs": [],
   "source": []
  }
 ],
 "metadata": {
  "kernelspec": {
   "display_name": "Python 3.8.3 ('base')",
   "language": "python",
   "name": "python3"
  },
  "language_info": {
   "codemirror_mode": {
    "name": "ipython",
    "version": 3
   },
   "file_extension": ".py",
   "mimetype": "text/x-python",
   "name": "python",
   "nbconvert_exporter": "python",
   "pygments_lexer": "ipython3",
   "version": "3.8.3"
  },
  "orig_nbformat": 4,
  "vscode": {
   "interpreter": {
    "hash": "6a8f4949ca26f5f3d0f786878d593d66289b1fa320f5ce909fa01c7ee0c48b5d"
   }
  }
 },
 "nbformat": 4,
 "nbformat_minor": 2
}

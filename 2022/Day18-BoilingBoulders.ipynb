{
 "cells": [
  {
   "cell_type": "code",
   "execution_count": 109,
   "metadata": {},
   "outputs": [
    {
     "data": {
      "text/plain": [
       "4628"
      ]
     },
     "execution_count": 109,
     "metadata": {},
     "output_type": "execute_result"
    }
   ],
   "source": [
    "input = [tuple(map(int, l.split(\",\"))) for l in open(\"inputs/18-input.txt\").read().splitlines()]\n",
    "\n",
    "def adjacent(x,y,z):\n",
    "    adj = [\n",
    "        (x+1,y,z),\n",
    "        (x-1,y,z),\n",
    "        (x,y+1,z),\n",
    "        (x,y-1,z),\n",
    "        (x,y,z+1),\n",
    "        (x,y,z-1),\n",
    "    ]\n",
    "    return adj\n",
    "\n",
    "def uncovered_sides(pos,cubes):\n",
    "    s = set(adjacent(*pos))\n",
    "    l = set(cubes)\n",
    "    return len(s.difference(l))\n",
    "\n",
    "sum(uncovered_sides(c,input) for c in input)"
   ]
  },
  {
   "cell_type": "code",
   "execution_count": 113,
   "metadata": {},
   "outputs": [
    {
     "data": {
      "text/plain": [
       "2582"
      ]
     },
     "execution_count": 113,
     "metadata": {},
     "output_type": "execute_result"
    }
   ],
   "source": [
    "xmin, xmax = sorted([x for x,y,z in input])[::len(input)-1]\n",
    "ymin, ymax = sorted([y for x,y,z in input])[::len(input)-1]\n",
    "zmin, zmax = sorted([z for x,y,z in input])[::len(input)-1]\n",
    "\n",
    "def in_grid(pos):\n",
    "    x,y,z = pos\n",
    "    return xmin-1 <= x <= xmax+1 and ymin-1 <= y <= ymax+1 and zmin-1 <= z <= zmax+1\n",
    " \n",
    "\n",
    "# cells adjacent to external surface (accessible from corner of grid)\n",
    "external = set()\n",
    "external_sides = 0\n",
    "\n",
    "queue = [(xmin,ymin,zmin)]\n",
    "while queue:\n",
    "    p = queue.pop(0)\n",
    "    if p not in external:\n",
    "        external.add(p)\n",
    "        adj = [c for c in adjacent(*p) if (c not in external) and in_grid(c)]\n",
    "        for pos in adj:\n",
    "            if pos in input:\n",
    "                external_sides += 1\n",
    "            else:\n",
    "                queue.append(pos)\n",
    "\n",
    "external_sides"
   ]
  },
  {
   "cell_type": "code",
   "execution_count": null,
   "metadata": {},
   "outputs": [],
   "source": []
  }
 ],
 "metadata": {
  "kernelspec": {
   "display_name": "Python 3.7.6 64-bit ('3.7.6')",
   "language": "python",
   "name": "python3"
  },
  "language_info": {
   "codemirror_mode": {
    "name": "ipython",
    "version": 3
   },
   "file_extension": ".py",
   "mimetype": "text/x-python",
   "name": "python",
   "nbconvert_exporter": "python",
   "pygments_lexer": "ipython3",
   "version": "3.7.6"
  },
  "orig_nbformat": 4,
  "vscode": {
   "interpreter": {
    "hash": "b93058eb70b0e1b4c95bd731a26969c6088f4dfc9c60234d9a114f1559fa3dfe"
   }
  }
 },
 "nbformat": 4,
 "nbformat_minor": 2
}

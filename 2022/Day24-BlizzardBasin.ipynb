{
 "cells": [
  {
   "cell_type": "code",
   "execution_count": 31,
   "metadata": {},
   "outputs": [
    {
     "name": "stdout",
     "output_type": "stream",
     "text": [
      "295\n",
      "851\n"
     ]
    }
   ],
   "source": [
    "from collections import namedtuple, deque\n",
    "\n",
    "input = [l[1:-1] for l in open(\"inputs/24-input.txt\").read().splitlines()[1:-1]]\n",
    "\n",
    "Blizzards = namedtuple(\"Blizzards\", [\"rows\", \"cols\", \"l\", \"r\", \"u\", \"d\"])\n",
    "\n",
    "rows, cols = len(input), len(input[0])\n",
    "\n",
    "def set_by_direction(dir):\n",
    "    return frozenset((r,c) for r in range(rows) for c in range(cols) if input[r][c] == dir)\n",
    "\n",
    "def safe(r,c,t,b):\n",
    "    return not any([\n",
    "        (r, (c+t) % b.cols) in b.l,\n",
    "        (r, (c-t) % b.cols) in b.r,\n",
    "        ((r+t) % b.rows, c) in b.u,\n",
    "        ((r-t) % b.rows, c) in b.d,\n",
    "    ])\n",
    "\n",
    "def shortest_path(start, end, t, b):\n",
    "    visited = set()\n",
    "    steps = deque()\n",
    "\n",
    "    while True:\n",
    "        # Wait till it's safe to enter the valley\n",
    "        while not steps:\n",
    "            t += 1\n",
    "            if safe(start[0], start[1], t, b):\n",
    "                steps.append((start[0], start[1], t))\n",
    "        \n",
    "        # Candidate next step\n",
    "        next = steps.popleft()\n",
    "        # Skip if already been...\n",
    "        if next in visited:\n",
    "            continue\n",
    "        # ...else add to visited\n",
    "        visited.add(next)\n",
    "    \n",
    "        # If at the end, add 1 minute to leave valley\n",
    "        r,c,t = next\n",
    "        if (r,c) == end:\n",
    "            return t+1#, visited, steps\n",
    "    \n",
    "        # Check possible next steps (4 directions, or wait)\n",
    "        for dr, dc in [(0,1), (1,0), (0,-1), (-1,0), (0,0)]:\n",
    "            nr = r + dr\n",
    "            nc = c + dc\n",
    "            # If safe, add to candidates\n",
    "            if 0 <= nr < b.rows and 0 <= nc < b.cols and safe(nr,nc,t+1,b):\n",
    "                steps.append((nr,nc,t+1))\n",
    "\n",
    "    \n",
    "\n",
    "left = set_by_direction(\"<\")\n",
    "right = set_by_direction(\">\")\n",
    "up = set_by_direction(\"^\")\n",
    "down = set_by_direction(\"v\")\n",
    "\n",
    "blizzards = Blizzards(rows, cols, left, right, up, down)\n",
    "\n",
    "start = (0,0)\n",
    "end = (blizzards.rows - 1, blizzards.cols - 1)\n",
    "# end = (0,1)\n",
    "\n",
    "t1 = shortest_path(start, end, 0, blizzards)\n",
    "t2 = shortest_path(start, end, t1, blizzards)\n",
    "t3 = shortest_path(start, end, t2, blizzards)\n",
    "\n",
    "print(t1)\n",
    "print(t3)\n"
   ]
  },
  {
   "cell_type": "code",
   "execution_count": null,
   "metadata": {},
   "outputs": [],
   "source": []
  }
 ],
 "metadata": {
  "kernelspec": {
   "display_name": "base",
   "language": "python",
   "name": "python3"
  },
  "language_info": {
   "codemirror_mode": {
    "name": "ipython",
    "version": 3
   },
   "file_extension": ".py",
   "mimetype": "text/x-python",
   "name": "python",
   "nbconvert_exporter": "python",
   "pygments_lexer": "ipython3",
   "version": "3.8.3"
  },
  "orig_nbformat": 4,
  "vscode": {
   "interpreter": {
    "hash": "6a8f4949ca26f5f3d0f786878d593d66289b1fa320f5ce909fa01c7ee0c48b5d"
   }
  }
 },
 "nbformat": 4,
 "nbformat_minor": 2
}

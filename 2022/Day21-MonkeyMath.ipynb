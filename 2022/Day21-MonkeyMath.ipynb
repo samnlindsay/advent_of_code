{
 "cells": [
  {
   "cell_type": "code",
   "execution_count": 325,
   "metadata": {},
   "outputs": [
    {
     "data": {
      "text/plain": [
       "63119856257960"
      ]
     },
     "execution_count": 325,
     "metadata": {},
     "output_type": "execute_result"
    }
   ],
   "source": [
    "def parse_line(l):\n",
    "    name, job = l.split(\": \")\n",
    "    \n",
    "    if job.isnumeric():\n",
    "        out = int(job)\n",
    "        return {name: {\"out\":out}}\n",
    "    else:\n",
    "        job = job.replace(\"/\", \"//\").split(\" \")\n",
    "        prev = (job[0], job[2])\n",
    "        job = f\"a {job[1]} b\"\n",
    "        return {name:{\"job\":job, \"prev\":prev}}\n",
    "\n",
    "\n",
    "input = [parse_line(l) for l in open(\"inputs/21-input.txt\").read().splitlines()]\n",
    "monkeys = {k: v for l in input.copy() for k, v in l.items()}\n",
    "\n",
    "done = {}\n",
    "\n",
    "while \"root\" not in done:\n",
    "    done.update({m:int(d[\"out\"]) for m,d in monkeys.items() if \"out\" in d.keys()})\n",
    "\n",
    "    for m,d in monkeys.items():\n",
    "        if m not in done:\n",
    "            a,b = d[\"prev\"]\n",
    "            if a in done and b in done:\n",
    "                #d[\"prev\"] = None\n",
    "                a = monkeys[a][\"out\"]\n",
    "                b = monkeys[b][\"out\"]\n",
    "                d[\"out\"] = eval(d[\"job\"])\n",
    "\n",
    "done[\"root\"]"
   ]
  },
  {
   "cell_type": "code",
   "execution_count": 335,
   "metadata": {},
   "outputs": [
    {
     "data": {
      "text/plain": [
       "3006709232464"
      ]
     },
     "execution_count": 335,
     "metadata": {},
     "output_type": "execute_result"
    }
   ],
   "source": [
    "import re\n",
    "\n",
    "monkeys[\"root\"][\"job\"] = \"a == b\"\n",
    "\n",
    "#\n",
    "def update_job(m):\n",
    "    if \"job\" in monkeys[m].keys():\n",
    "        job = monkeys[m][\"job\"]\n",
    "        prev = monkeys[m][\"prev\"]\n",
    "        new_job = job.replace(\"a\", update_job(prev[0])).replace(\"b\", update_job(prev[1]))\n",
    "        return str(int(eval(new_job))) if \"humn\" not in new_job else f\"({new_job})\"\n",
    "            \n",
    "    elif m == \"humn\":\n",
    "        return m\n",
    "    else:\n",
    "        return str(monkeys[m][\"out\"])\n",
    "\n",
    "# find x where a and b are known\n",
    "def inverse(equation, a, b):\n",
    "    m = {\n",
    "        \"a = x + b\":  f\"{a} -  {b}\",\n",
    "        \"a = x - b\":  f\"{a} +  {b}\",\n",
    "        \"a = x * b\":  f\"{a} // {b}\",\n",
    "        \"a = x // b\": f\"{a} *  {b}\",\n",
    "        \"a = b + x\":  f\"{a} -  {b}\",\n",
    "        \"a = b - x\":  f\"{b} -  {a}\",\n",
    "        \"a = b * x\":  f\"{a} // {b}\",\n",
    "        \"a = b // x\": f\"{b} // {a}\",\n",
    "    }\n",
    "    return eval(m[equation])\n",
    "\n",
    "# find inverse of each bracketed expression in turn '(...) + a == b'\n",
    "def solve(calc):\n",
    "    l, r = calc.split(\" == \")\n",
    "\n",
    "    a, expr = (l,r) if l.isnumeric() else (r,l)\n",
    "    \n",
    "    # start or end with number \n",
    "    start = re.search(\"^(\\d+) ([\\/|\\*|\\+|-]+) (.+)\", expr[1:-1])\n",
    "    end = re.search(\"(.+) ([\\/|\\*|\\+|-]+) (\\d+)$\",expr[1:-1])\n",
    "\n",
    "    if start:\n",
    "        b, op, x = start.group(1,2,3)\n",
    "        eq = f\"b {op} x\"\n",
    "    elif end:\n",
    "        b, op, x = end.group(3,2,1)\n",
    "        eq = f\"x {op} b\"\n",
    "    else:\n",
    "        return int(a)\n",
    "    \n",
    "    eq = \"a = \" + eq\n",
    "\n",
    "    return solve(f\"{x} == {inverse(eq, a, b)}\")\n",
    "    \n",
    "# Produce final calculation in terms of unknown value `humn` \n",
    "calc = update_job(\"root\")[1:-1]\n",
    "# Solve for `humn`\n",
    "solve(calc)"
   ]
  }
 ],
 "metadata": {
  "kernelspec": {
   "display_name": "Python 3",
   "language": "python",
   "name": "python3"
  },
  "language_info": {
   "codemirror_mode": {
    "name": "ipython",
    "version": 3
   },
   "file_extension": ".py",
   "mimetype": "text/x-python",
   "name": "python",
   "nbconvert_exporter": "python",
   "pygments_lexer": "ipython3",
   "version": "3.7.6"
  },
  "orig_nbformat": 4,
  "vscode": {
   "interpreter": {
    "hash": "b93058eb70b0e1b4c95bd731a26969c6088f4dfc9c60234d9a114f1559fa3dfe"
   }
  }
 },
 "nbformat": 4,
 "nbformat_minor": 2
}

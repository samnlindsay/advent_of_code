{
 "cells": [
  {
   "cell_type": "code",
   "execution_count": 49,
   "metadata": {},
   "outputs": [
    {
     "data": {
      "text/plain": [
       "832"
      ]
     },
     "execution_count": 49,
     "metadata": {},
     "output_type": "execute_result"
    }
   ],
   "source": [
    "input = [[tuple(eval(c)) for c in l.split(\" -> \")] for l in open(\"inputs/14-input.txt\").read().splitlines()]\n",
    "\n",
    "grid = {}\n",
    "\n",
    "for i in input:\n",
    "    for a,b in zip(i,i[1:]):\n",
    "        if a[0]==b[0]:\n",
    "            for y in range(min(a[1],b[1]), max(a[1],b[1])+1):\n",
    "                grid[(a[0],y)] = \"#\"\n",
    "        elif a[1]==b[1]:\n",
    "            for x in range(min(a[0],b[0]), max(a[0],b[0])+1):\n",
    "                grid[(x,a[1])] = \"#\"\n",
    "\n",
    "xmin = min([x for x,y in grid])\n",
    "xmax = max([x for x,y in grid])\n",
    "ymin = 0\n",
    "ymax = max([y for x,y in grid])\n",
    "\n",
    "def draw(g):\n",
    "    xmin = min([x for x,y in g])\n",
    "    xmax = max([x for x,y in g])\n",
    "    \n",
    "    for y in range(ymin, ymax+3):\n",
    "        print(\"\".join(g[(x,y)] if (x,y) in g.keys() else \".\" for x in range(xmin, xmax)))\n",
    "\n",
    "grid1 = grid.copy()\n",
    "\n",
    "start = (500,0)\n",
    "n_init = len(grid)\n",
    "\n",
    "def drop_sand(pos, grid):\n",
    "     x,y = pos\n",
    "\n",
    "     # Out of range\n",
    "     if y not in range(ymin,ymax+2):\n",
    "          return (-1,-1)\n",
    "\n",
    "     # Below\n",
    "     if grid.get((x,y+1),\"\") == \"\":\n",
    "          return (x,y+1)\n",
    "     # Bottom left\n",
    "     elif grid.get((x-1,y+1),\"\") == \"\":\n",
    "          return (x-1,y+1)\n",
    "     # Bottom right\n",
    "     elif grid.get((x+1,y+1),\"\") == \"\":\n",
    "          return (x+1,y+1)\n",
    "\n",
    "     else:\n",
    "          # draw(grid)\n",
    "          # print(\"\\n\")\n",
    "          if pos == start and grid.get(pos,\"\") != \"\":\n",
    "               return (-1,-1)\n",
    "          else:\n",
    "               grid[pos] = \"o\"\n",
    "               return start\n",
    "\n",
    "pos = start\n",
    "while pos != (-1,-1):\n",
    "    pos = drop_sand(pos, grid1)\n",
    "\n",
    "len(grid1) - n_init"
   ]
  },
  {
   "cell_type": "code",
   "execution_count": 47,
   "metadata": {},
   "outputs": [
    {
     "data": {
      "text/plain": [
       "27601"
      ]
     },
     "execution_count": 47,
     "metadata": {},
     "output_type": "execute_result"
    }
   ],
   "source": [
    "grid2 = grid.copy()\n",
    "\n",
    "for x in range(xmin-200, xmax+200):\n",
    "    grid2[x,ymax+2] = \"#\"\n",
    "\n",
    "n_init = len(grid2)\n",
    "\n",
    "pos = start\n",
    "while pos != (-1,-1):\n",
    "# for _ in range(200000):\n",
    "    pos = drop_sand(pos, grid2)\n",
    "\n",
    "len(grid2) - n_init"
   ]
  },
  {
   "cell_type": "code",
   "execution_count": null,
   "metadata": {},
   "outputs": [],
   "source": []
  }
 ],
 "metadata": {
  "kernelspec": {
   "display_name": "Python 3.7.6 64-bit ('3.7.6')",
   "language": "python",
   "name": "python3"
  },
  "language_info": {
   "codemirror_mode": {
    "name": "ipython",
    "version": 3
   },
   "file_extension": ".py",
   "mimetype": "text/x-python",
   "name": "python",
   "nbconvert_exporter": "python",
   "pygments_lexer": "ipython3",
   "version": "3.7.6"
  },
  "vscode": {
   "interpreter": {
    "hash": "b93058eb70b0e1b4c95bd731a26969c6088f4dfc9c60234d9a114f1559fa3dfe"
   }
  }
 },
 "nbformat": 4,
 "nbformat_minor": 2
}

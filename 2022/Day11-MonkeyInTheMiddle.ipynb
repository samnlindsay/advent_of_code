{
 "cells": [
  {
   "cell_type": "code",
   "execution_count": 42,
   "metadata": {},
   "outputs": [
    {
     "name": "stdout",
     "output_type": "stream",
     "text": [
      "55458\n",
      "14508081294\n"
     ]
    }
   ],
   "source": [
    "import math\n",
    "\n",
    "input = [l.splitlines() for l in open(\"inputs/11-input.txt\").read().split(\"\\n\\n\")]\n",
    "\n",
    "def parse_input(i):\n",
    "    monkey = int(i[0][7])\n",
    "    # \"Worry\" levels\n",
    "    items = eval(f'[{i[1].split(\":\")[1]}]')\n",
    "    # \"new = func(old)\"\n",
    "    op = i[2].split(\"= \")[1]\n",
    "    # [divisible by X, monkey if true, monkey if false]\n",
    "    test = list(map(int, [i[3][-2:], i[4][-2:], i[5][-2:]]))\n",
    "\n",
    "    return monkey,items,op,test\n",
    "\n",
    "class Monkey:\n",
    "    def __init__(self, id, items, op, test):\n",
    "        self.id = id\n",
    "        self.items = items\n",
    "        self.op = op\n",
    "        self.test = test\n",
    "        self.dst = None\n",
    "        self.n_inspected = 0\n",
    "        self.worried = False    \n",
    "\n",
    "    def inspect_items(self):\n",
    "        self.items = [eval(self.op) for old in self.items]\n",
    "        if not(self.worried):\n",
    "            self.items = [i // 3 for i in self.items]\n",
    "        self.n_inspected += len(self.items)\n",
    "        return self\n",
    "\n",
    "    def test_items(self):\n",
    "        self.dst = [self.test[1] if i % self.test[0] == 0 else self.test[2] for i in self.items]\n",
    "        return self\n",
    "\n",
    "def update(monkeys):\n",
    "    lcm = math.prod([m.test[0] for m in monkeys])\n",
    "    for m in monkeys:\n",
    "        # inspect and test\n",
    "        m.inspect_items().test_items()\n",
    "        # throw\n",
    "        [monkeys[d].items.append(i % lcm) for i,d in zip(m.items, m.dst)]\n",
    "        m.items = []\n",
    "\n",
    "def monkey_business(monkeys):\n",
    "    print(math.prod(sorted([m.n_inspected for m in monkeys], reverse=True)[:2]))\n",
    "\n",
    "\n",
    "# Part 1\n",
    "monkeys = [Monkey(*parse_input(i)) for i in input]\n",
    "\n",
    "for _ in range(20):\n",
    "    # print(f\"Round {_}:\\n\",\"\\n\".join([f\"\\tMonkey {m.id}: {m.items}\" for m in monkeys]))\n",
    "    update(monkeys)\n",
    "\n",
    "# print(\"Round 20\")\n",
    "# [print(f\"\\tMonkey {m.id} (Inpected {m.n_inspected}): {m.items}\") for m in monkeys]\n",
    "\n",
    "monkey_business(monkeys)\n",
    "\n",
    "# Part 2\n",
    "monkeys = [Monkey(*parse_input(i)) for i in input]\n",
    "for m in monkeys:\n",
    "    m.worried = True\n",
    "\n",
    "for _ in range(10000):\n",
    "    #print(f\"Round {_}:\\n\",\"\\n\".join([f\"\\tMonkey {m.id}: {m.items}\" for m in monkeys]))\n",
    "    update(monkeys)\n",
    "\n",
    "# print(\"Round 20\")\n",
    "# [print(f\"\\tMonkey {m.id} (Inpected {m.n_inspected})\") for m in monkeys]\n",
    "\n",
    "monkey_business(monkeys)"
   ]
  },
  {
   "cell_type": "code",
   "execution_count": null,
   "metadata": {},
   "outputs": [],
   "source": []
  }
 ],
 "metadata": {
  "kernelspec": {
   "display_name": "Python 3.8.3 ('base')",
   "language": "python",
   "name": "python3"
  },
  "language_info": {
   "codemirror_mode": {
    "name": "ipython",
    "version": 3
   },
   "file_extension": ".py",
   "mimetype": "text/x-python",
   "name": "python",
   "nbconvert_exporter": "python",
   "pygments_lexer": "ipython3",
   "version": "3.8.3"
  },
  "orig_nbformat": 4,
  "vscode": {
   "interpreter": {
    "hash": "6a8f4949ca26f5f3d0f786878d593d66289b1fa320f5ce909fa01c7ee0c48b5d"
   }
  }
 },
 "nbformat": 4,
 "nbformat_minor": 2
}

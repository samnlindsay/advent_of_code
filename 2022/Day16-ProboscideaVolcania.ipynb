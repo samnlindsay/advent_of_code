{
 "cells": [
  {
   "cell_type": "code",
   "execution_count": 18,
   "metadata": {},
   "outputs": [
    {
     "data": {
      "text/plain": [
       "2292"
      ]
     },
     "execution_count": 18,
     "metadata": {},
     "output_type": "execute_result"
    }
   ],
   "source": [
    "import functools\n",
    "import parse\n",
    "\n",
    "def parse_line(s):\n",
    "    r = parse.parse(\"Valve {valve} has flow rate={flow:d}; {} to {} {next}\", s).named\n",
    "    r[\"next\"] = r[\"next\"].split(\", \")\n",
    "    return (r[\"valve\"], {\"flow\":r[\"flow\"], \"next\":r[\"next\"]})\n",
    "\n",
    "input = dict([parse_line(l) for l in sorted(open(\"inputs/16-input.txt\").read().splitlines())])\n",
    "\n",
    "input\n",
    "\n",
    "@functools.lru_cache(maxsize=None)\n",
    "def optimise1(opened, mins, v):\n",
    "    if mins <= 0:\n",
    "        return 0\n",
    "    best = 0\n",
    "    s = input[v]\n",
    "    \n",
    "    # Choose next valve\n",
    "    for valve in s[\"next\"]:\n",
    "        best_next = optimise1(opened, mins-1, valve)\n",
    "        best = max(best, best_next)\n",
    "\n",
    "    # If current valve closed, choose to open or move to next valve\n",
    "    if v not in opened and s[\"flow\"] > 0 and mins > 0:\n",
    "        opened = set(opened)\n",
    "        opened.add(v)\n",
    "        mins -= 1\n",
    "        new_sum = mins * s[\"flow\"]\n",
    "\n",
    "        for valve in s[\"next\"]:\n",
    "            best_next = new_sum + optimise1(frozenset(opened), mins-1, valve)\n",
    "            best = max(best, best_next)\n",
    "\n",
    "    return best\n",
    "\n",
    "optimise1(frozenset(), 30, \"AA\")\n",
    "\n",
    "@functools.lru_cache(maxsize=None)\n",
    "def optimise2(opened, mins, v):\n",
    "    \n",
    "    # At end, repeat for second player\n",
    "    if mins <= 0:\n",
    "        return optimise1(opened, 26, \"AA\")\n",
    "    best = 0\n",
    "    s = input[v]\n",
    "    \n",
    "    # Choose next valve\n",
    "    for valve in s[\"next\"]:\n",
    "        best_next = optimise2(opened, mins-1, valve)\n",
    "        best = max(best, best_next)\n",
    "\n",
    "    # If current valve closed, choose to open or move to next valve\n",
    "    if v not in opened and s[\"flow\"] > 0 and mins > 0:\n",
    "        opened = set(opened)\n",
    "        opened.add(v)\n",
    "        mins -= 1\n",
    "        new_sum = mins * s[\"flow\"]\n",
    "\n",
    "        for valve in s[\"next\"]:\n",
    "            best_next = new_sum + optimise2(frozenset(opened), mins-1, valve)\n",
    "            best = max(best, best_next)\n",
    "\n",
    "    return best\n",
    "\n",
    "optimise2(frozenset(), 26, \"AA\")"
   ]
  },
  {
   "cell_type": "code",
   "execution_count": null,
   "metadata": {},
   "outputs": [],
   "source": []
  }
 ],
 "metadata": {
  "kernelspec": {
   "display_name": "Python 3.8.3 ('base')",
   "language": "python",
   "name": "python3"
  },
  "language_info": {
   "codemirror_mode": {
    "name": "ipython",
    "version": 3
   },
   "file_extension": ".py",
   "mimetype": "text/x-python",
   "name": "python",
   "nbconvert_exporter": "python",
   "pygments_lexer": "ipython3",
   "version": "3.8.3"
  },
  "orig_nbformat": 4,
  "vscode": {
   "interpreter": {
    "hash": "6a8f4949ca26f5f3d0f786878d593d66289b1fa320f5ce909fa01c7ee0c48b5d"
   }
  }
 },
 "nbformat": 4,
 "nbformat_minor": 2
}

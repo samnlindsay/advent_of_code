{
 "cells": [
  {
   "cell_type": "code",
   "execution_count": 2,
   "metadata": {},
   "outputs": [],
   "source": [
    "jet = open(\"inputs/17-input.txt\").read().splitlines()[0]\n",
    "\n",
    "jet = \">>><<><>><<<>><>>><<<>>><<<><<<>><>><<>>\""
   ]
  },
  {
   "cell_type": "code",
   "execution_count": 71,
   "metadata": {},
   "outputs": [
    {
     "name": "stdout",
     "output_type": "stream",
     "text": [
      "[4, 4, 4, 4]\n",
      "right\n",
      "down 0\n",
      "[3, 3, 3, 3]\n",
      "right\n",
      "down 1\n",
      "[2, 2, 2, 2]\n",
      "right\n",
      "down 2\n",
      "[1, 1, 1, 1]\n",
      "left\n",
      "Result 0: [0, 0, 1, 1, 1, 1, 0]\n",
      "[5, 6, 6, 6, 7]\n",
      "left\n",
      "down 4\n",
      "[4, 5, 5, 5, 6]\n",
      "right\n",
      "down 5\n",
      "[3, 4, 4, 4, 5]\n",
      "left\n",
      "down 6\n",
      "[2, 3, 3, 3, 4]\n",
      "right\n",
      "Result 1: [0, 0, 3, 4, 3, 1, 0]\n",
      "[8, 8, 8, 9, 10]\n",
      "right\n",
      "down 8\n",
      "[7, 7, 7, 8, 9]\n",
      "left\n",
      "down 9\n",
      "[6, 6, 6, 7, 8]\n",
      "left\n",
      "down 10\n",
      "[5, 5, 5, 6, 7]\n",
      "left\n",
      "down 11\n",
      "[4, 4, 4, 5, 6]\n",
      "right\n",
      "Result 2: [0, 4, 4, 6, 3, 1, 0]\n",
      "[10, 11, 12, 13]\n",
      "right\n",
      "down 13\n",
      "[9, 10, 11, 12]\n",
      "left\n",
      "down 14\n",
      "[8, 9, 10, 11]\n",
      "right\n",
      "down 15\n",
      "[7, 8, 9, 10]\n",
      "right\n",
      "down 16\n",
      "[6, 7, 8, 9]\n",
      "right\n",
      "down 17\n",
      "[5, 6, 7, 8]\n",
      "left\n",
      "down 18\n",
      "[4, 5, 6, 7]\n",
      "left\n",
      "Result 3: [0, 4, 4, 7, 3, 1, 0]\n",
      "[11, 12, 11, 12]\n",
      "left\n",
      "down 20\n",
      "[10, 11, 10, 11]\n",
      "right\n",
      "down 21\n",
      "[9, 10, 9, 10]\n",
      "right\n",
      "down 22\n",
      "[8, 9, 8, 9]\n",
      "right\n",
      "down 23\n",
      "[7, 8, 7, 8]\n",
      "left\n",
      "Result 4: [0, 4, 4, 8, 8, 1, 0]\n",
      "[12, 12, 12, 12]\n",
      "left\n",
      "down 25\n",
      "[11, 11, 11, 11]\n",
      "left\n",
      "down 26\n",
      "[10, 10, 10, 10]\n",
      "right\n",
      "down 27\n",
      "[9, 9, 9, 9]\n",
      "left\n",
      "Result 5: [9, 9, 9, 9, 8, 1, 0]\n",
      "[13, 14, 14, 14, 15]\n",
      "left\n",
      "down 29\n",
      "[12, 13, 13, 13, 14]\n",
      "left\n",
      "down 30\n",
      "[11, 12, 12, 12, 13]\n",
      "right\n",
      "down 31\n",
      "[10, 11, 11, 11, 12]\n",
      "right\n",
      "Result 6: [9, 9, 11, 12, 11, 1, 0]\n",
      "[16, 16, 16, 17, 18]\n",
      "left\n",
      "down 33\n",
      "[15, 15, 15, 16, 17]\n",
      "right\n",
      "down 34\n",
      "[14, 14, 14, 15, 16]\n",
      "right\n",
      "down 35\n",
      "[13, 13, 13, 14, 15]\n",
      "left\n",
      "Result 7: [9, 9, 13, 13, 15, 1, 0]\n",
      "[19, 20, 21, 22]\n",
      "left\n",
      "down 37\n",
      "[18, 19, 20, 21]\n",
      "right\n",
      "down 38\n",
      "[17, 18, 19, 20]\n",
      "right\n",
      "down 39\n",
      "[16, 17, 18, 19]\n",
      "right\n",
      "Result 8: [9, 9, 13, 13, 19, 1, 0]\n",
      "[23, 24, 23, 24]\n",
      "right\n",
      "down 41\n",
      "[22, 23, 22, 23]\n",
      "right\n",
      "down 42\n",
      "[21, 22, 21, 22]\n",
      "left\n",
      "down 43\n",
      "[20, 21, 20, 21]\n",
      "left\n",
      "down 44\n",
      "[19, 20, 19, 20]\n",
      "right\n",
      "Result 9: [9, 9, 13, 20, 20, 1, 0]\n"
     ]
    },
    {
     "data": {
      "text/plain": [
       "dict_values([9, 9, 13, 20, 20, 1, 0])"
      ]
     },
     "execution_count": 71,
     "metadata": {},
     "output_type": "execute_result"
    }
   ],
   "source": [
    "shapes = [\n",
    "    [(0,0), (1,0), (2,0), (3,0)],\n",
    "    [(1,0), (0,1), (1,1), (2,1), (1,2)],\n",
    "    [(0,0), (1,0), (2,0), (2,1), (2,2)],\n",
    "    [(0,0), (0,1), (0,2), (0,3)],\n",
    "    [(0,0), (0,1), (1,0), (1,1)]\n",
    "]\n",
    "\n",
    "class Rock:\n",
    "    def __init__(self,type,x=0,y=0):\n",
    "        self.type = type\n",
    "        self.x = x\n",
    "        self.y = y\n",
    "        self.coords = [(x + self.x, y + self.y) for x,y in shapes[self.type]]\n",
    "\n",
    "    def xset(self):\n",
    "        return list({x for x,y in self.coords})\n",
    "\n",
    "    def bottom(self):\n",
    "        y = []\n",
    "        for xx in self.xset():\n",
    "            y.append(min([y for x,y in self.coords if x==xx]))\n",
    "        return {k:v for v,k in zip(y, self.xset())}\n",
    "\n",
    "    def top(self):\n",
    "        y = []\n",
    "        for xx in self.xset():\n",
    "            y.append(max([y for x,y in self.coords if x==xx]))\n",
    "        return {k:v for v,k in zip(y, self.xset())}\n",
    "        \n",
    "    def xlim(self):\n",
    "        xx = [x for x,y in self.coords]\n",
    "        return min(xx), max(xx)\n",
    "    \n",
    "\n",
    "top_rocks = {k:0 for k in range(7)}\n",
    "\n",
    "step_count = 0\n",
    "rock_count = 0\n",
    "\n",
    "def drop_rock(top_rocks, rock):\n",
    "    global step_count\n",
    "    global rock_count\n",
    "    global jet\n",
    "    print([y for x,y in rock.coords])\n",
    "    # Jet direction (moving along input strings)\n",
    "    jetdir = jet[step_count % len(jet)]\n",
    "\n",
    "    xmin, xmax = rock.xlim()\n",
    "    # Jet blows rock right\n",
    "    if jetdir == \">\":\n",
    "        print(\"right\")\n",
    "        if xmax + 1 < 7:\n",
    "            rock.coords = [(x+1,y) for x,y in rock.coords]\n",
    "    # Jet blows rock left\n",
    "    else:\n",
    "        print(\"left\")\n",
    "        if xmin - 1 >= 0:   \n",
    "            rock.coords = [(x-1,y) for x,y in rock.coords]\n",
    "\n",
    "\n",
    "    b = rock.bottom()\n",
    "    t = top_rocks\n",
    "    # print(t, step_count)\n",
    "\n",
    "    # Drop rock one step (if possible)...\n",
    "    if all([b[x] > t[x]+1 for x in b.keys()]):\n",
    "        rock.coords = [(x,y-1) for x,y in rock.coords]\n",
    "        # print(list(top_rocks.values()))\n",
    "        print(\"down\", step_count)\n",
    "\n",
    "        # Increase step number\n",
    "        step_count += 1 \n",
    "        \n",
    "        top_rocks,rock = drop_rock(top_rocks, rock)\n",
    "        # print(list(t.values()))\n",
    "\n",
    "        \n",
    "\n",
    "        return top_rocks,rock\n",
    "    # ...or update top rocks and move to next rock\n",
    "    else:\n",
    "        top = rock.top()\n",
    "        top_rocks = {k:(top[k] if k in top.keys() else v) for k,v in t.items()}\n",
    "        # print(rock.coords)\n",
    "        # print(    [v for v in t.values()], step_count, rock_count)\n",
    "        rock_count += 1\n",
    "        \n",
    "        # Increase step number\n",
    "        step_count += 1 \n",
    "\n",
    "        return top_rocks, rock \n",
    "    \n",
    "    \n",
    "    \n",
    "\n",
    "\n",
    "\n",
    "for i in range(10):\n",
    "    r = Rock(i % 5, 2, max(top_rocks.values()) + 4)\n",
    "    top_rocks, r = drop_rock(top_rocks, r)\n",
    "    #print([(v,k) for k,v in top_rocks.items()])\n",
    "    #print(r.coords)\n",
    "    print(f\"Result {i}:\", list(top_rocks.values()))\n",
    "\n",
    "# print(step_count, rock_count)\n",
    "# print(top_rocks)\n",
    "\n",
    "\n",
    "# r = Rock(i % 5, 2, max(top_rocks.values()) + 3)\n",
    "# drop_rock(top_rocks,r)\n",
    "\n",
    "top_rocks.values()"
   ]
  },
  {
   "cell_type": "code",
   "execution_count": 50,
   "metadata": {},
   "outputs": [
    {
     "data": {
      "text/plain": [
       "dict_values([3146, 3147, 3146, 3146, 3145, 3140, 5])"
      ]
     },
     "execution_count": 50,
     "metadata": {},
     "output_type": "execute_result"
    }
   ],
   "source": [
    "top_rocks.values()\n"
   ]
  },
  {
   "cell_type": "code",
   "execution_count": 73,
   "metadata": {},
   "outputs": [
    {
     "data": {
      "text/plain": [
       "{0: 0, 1: 0, 2: 0, 3: 3, 4: 4, 5: 5, 6: 0}"
      ]
     },
     "execution_count": 73,
     "metadata": {},
     "output_type": "execute_result"
    }
   ],
   "source": [
    "top = r.top()\n",
    "{k:(top[k] if k in top.keys() else v) for k,v in top_rocks.items()}"
   ]
  },
  {
   "cell_type": "code",
   "execution_count": 28,
   "metadata": {},
   "outputs": [
    {
     "data": {
      "text/plain": [
       "[(3, 3), (2, 4), (3, 4), (4, 4), (3, 5)]"
      ]
     },
     "execution_count": 28,
     "metadata": {},
     "output_type": "execute_result"
    }
   ],
   "source": [
    "Rock(1,2,max(top_rocks.values())+3).coords"
   ]
  },
  {
   "cell_type": "code",
   "execution_count": 85,
   "metadata": {},
   "outputs": [
    {
     "data": {
      "text/plain": [
       "{0: 0, 1: 0, 2: 0, 3: 3, 4: 4, 5: 5, 6: 0}"
      ]
     },
     "execution_count": 85,
     "metadata": {},
     "output_type": "execute_result"
    }
   ],
   "source": [
    "{k:(top[k] if k in top.keys() else v) for k,v in top_rocks.items()}"
   ]
  },
  {
   "cell_type": "code",
   "execution_count": null,
   "metadata": {},
   "outputs": [],
   "source": []
  }
 ],
 "metadata": {
  "kernelspec": {
   "display_name": "Python 3.7.6 64-bit ('3.7.6')",
   "language": "python",
   "name": "python3"
  },
  "language_info": {
   "codemirror_mode": {
    "name": "ipython",
    "version": 3
   },
   "file_extension": ".py",
   "mimetype": "text/x-python",
   "name": "python",
   "nbconvert_exporter": "python",
   "pygments_lexer": "ipython3",
   "version": "3.7.6"
  },
  "orig_nbformat": 4,
  "vscode": {
   "interpreter": {
    "hash": "b93058eb70b0e1b4c95bd731a26969c6088f4dfc9c60234d9a114f1559fa3dfe"
   }
  }
 },
 "nbformat": 4,
 "nbformat_minor": 2
}

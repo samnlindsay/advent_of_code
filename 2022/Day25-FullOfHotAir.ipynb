{
 "cells": [
  {
   "cell_type": "code",
   "execution_count": 6,
   "metadata": {},
   "outputs": [],
   "source": [
    "input = open(\"inputs/25-input.txt\").read().splitlines()"
   ]
  },
  {
   "cell_type": "code",
   "execution_count": 2,
   "metadata": {},
   "outputs": [
    {
     "data": {
      "text/plain": [
       "'1=-0-2'"
      ]
     },
     "execution_count": 2,
     "metadata": {},
     "output_type": "execute_result"
    }
   ],
   "source": [
    "input = \"\"\"1=-0-2\n",
    "12111\n",
    "2=0=\n",
    "21\n",
    "2=01\n",
    "111\n",
    "20012\n",
    "112\n",
    "1=-1=\n",
    "1-12\n",
    "12\n",
    "1=\n",
    "122\"\"\".splitlines()\n",
    "\n",
    "input[0]"
   ]
  },
  {
   "cell_type": "code",
   "execution_count": 7,
   "metadata": {},
   "outputs": [
    {
     "data": {
      "text/plain": [
       "'210=11=101211==1=122'"
      ]
     },
     "execution_count": 7,
     "metadata": {},
     "output_type": "execute_result"
    }
   ],
   "source": [
    "def to_decimal(s):\n",
    "    sum = 0\n",
    "    l = len(s)\n",
    "    for n in range(l):\n",
    "        d = s[l-n-1]\n",
    "        if d in (\"-\", \"=\"):\n",
    "            d = -1 if d==\"-\" else -2\n",
    "        else:\n",
    "            d = int(d)\n",
    "        sum += d * 5**n\n",
    "    return sum\n",
    "\n",
    "def to_snafu(decimal):\n",
    "    s = []\n",
    "    rem = decimal\n",
    "    while rem > 0:\n",
    "        s.append(\"012=1\"[rem % 5])\n",
    "        rem = (rem + 2) // 5\n",
    "\n",
    "    return \"\".join(s[::-1])\n",
    "\n",
    "    \n",
    "to_snafu(sum(to_decimal(s) for s in input))\n"
   ]
  },
  {
   "cell_type": "code",
   "execution_count": 9,
   "metadata": {},
   "outputs": [
    {
     "name": "stdout",
     "output_type": "stream",
     "text": [
      "2-0=11=-0-2-1==1=-22\n"
     ]
    }
   ],
   "source": [
    "from functools import reduce\n",
    "\n",
    "def SNAFUtoDec(num):\n",
    "    return reduce(\n",
    "        lambda r, v: (\n",
    "            r[0] + (\"=-012\".index(v) - 2)* r[1],\n",
    "            r[1] * 5,\n",
    "        ),\n",
    "        num[::-1],\n",
    "        (0, 1),\n",
    "    )[0]\n",
    "\n",
    "def DecToSNAFU(num): # assume non-zero\n",
    "    res = []\n",
    "    while num > 0:\n",
    "        res.append(\"012=-\"[num % 5])\n",
    "        num = (2 + num) // 5\n",
    "    return ''.join(res[::-1])\n",
    "\n",
    "print (DecToSNAFU(sum(SNAFUtoDec(l) for l in open(\"inputs/25-input.txt\").read().splitlines())))"
   ]
  },
  {
   "cell_type": "code",
   "execution_count": null,
   "metadata": {},
   "outputs": [],
   "source": []
  }
 ],
 "metadata": {
  "kernelspec": {
   "display_name": "Python 3",
   "language": "python",
   "name": "python3"
  },
  "language_info": {
   "codemirror_mode": {
    "name": "ipython",
    "version": 3
   },
   "file_extension": ".py",
   "mimetype": "text/x-python",
   "name": "python",
   "nbconvert_exporter": "python",
   "pygments_lexer": "ipython3",
   "version": "3.7.6"
  },
  "orig_nbformat": 4,
  "vscode": {
   "interpreter": {
    "hash": "b93058eb70b0e1b4c95bd731a26969c6088f4dfc9c60234d9a114f1559fa3dfe"
   }
  }
 },
 "nbformat": 4,
 "nbformat_minor": 2
}

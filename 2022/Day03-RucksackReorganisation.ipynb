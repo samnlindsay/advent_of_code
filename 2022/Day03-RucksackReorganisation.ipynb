{
 "cells": [
  {
   "cell_type": "code",
   "execution_count": 4,
   "metadata": {},
   "outputs": [
    {
     "data": {
      "text/plain": [
       "7763"
      ]
     },
     "execution_count": 4,
     "metadata": {},
     "output_type": "execute_result"
    }
   ],
   "source": [
    "input = [l for l in open(\"inputs/03-input.txt\").read().splitlines()]\n",
    "\n",
    "contents = [(l[:len(l)//2], l[len(l)//2:]) for l in input]\n",
    "\n",
    "errors = [list(set(a) & set(b))[0] for a,b in contents]\n",
    "\n",
    "def priority(s):\n",
    "    p = ord(s)\n",
    "    if p > 90:\n",
    "        return p - 96\n",
    "    else:\n",
    "        return p - 38\n",
    "\n",
    "sum([priority(s) for s in errors])"
   ]
  },
  {
   "cell_type": "code",
   "execution_count": 5,
   "metadata": {},
   "outputs": [
    {
     "data": {
      "text/plain": [
       "2569"
      ]
     },
     "execution_count": 5,
     "metadata": {},
     "output_type": "execute_result"
    }
   ],
   "source": [
    "common = [list(set(input[3*i]) & set(input[3*i+1]) & set(input[3*i+2]))[0] for i in range(len(input)//3)]\n",
    "\n",
    "sum([priority(s) for s in common])\n"
   ]
  },
  {
   "cell_type": "code",
   "execution_count": null,
   "metadata": {},
   "outputs": [],
   "source": []
  }
 ],
 "metadata": {
  "kernelspec": {
   "display_name": "Python 3.8.3 ('base')",
   "language": "python",
   "name": "python3"
  },
  "language_info": {
   "codemirror_mode": {
    "name": "ipython",
    "version": 3
   },
   "file_extension": ".py",
   "mimetype": "text/x-python",
   "name": "python",
   "nbconvert_exporter": "python",
   "pygments_lexer": "ipython3",
   "version": "3.8.3"
  },
  "orig_nbformat": 4,
  "vscode": {
   "interpreter": {
    "hash": "6a8f4949ca26f5f3d0f786878d593d66289b1fa320f5ce909fa01c7ee0c48b5d"
   }
  }
 },
 "nbformat": 4,
 "nbformat_minor": 2
}

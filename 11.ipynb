{
 "metadata": {
  "language_info": {
   "codemirror_mode": {
    "name": "ipython",
    "version": 3
   },
   "file_extension": ".py",
   "mimetype": "text/x-python",
   "name": "python",
   "nbconvert_exporter": "python",
   "pygments_lexer": "ipython3",
   "version": "3.8.3-final"
  },
  "orig_nbformat": 2,
  "kernelspec": {
   "name": "python3",
   "display_name": "Python 3"
  }
 },
 "nbformat": 4,
 "nbformat_minor": 2,
 "cells": [
  {
   "source": [
    "# Part 1"
   ],
   "cell_type": "markdown",
   "metadata": {}
  },
  {
   "cell_type": "code",
   "execution_count": 1,
   "metadata": {},
   "outputs": [],
   "source": [
    "input = [s.strip() for s in open(\"inputs/11-input.txt\").readlines()]\n",
    "\n",
    "seating_chart = {}\n",
    "for y, row in enumerate(input):\n",
    "    for x, seat in enumerate(row):\n",
    "        seating_chart[complex(x, y)] = seat\n",
    "\n",
    "# Coordinate offsets of adjacent seats\n",
    "adj = [complex(x, y) for x in range(-1, 2) for y in range(-1, 2) if x!=0 or y!=0]\n",
    "\n",
    "# Grid width/height\n",
    "xx = len(input[0])\n",
    "yy = len(input)"
   ]
  },
  {
   "cell_type": "code",
   "execution_count": 2,
   "metadata": {},
   "outputs": [],
   "source": [
    "# Display seating chart as string (like input file)\n",
    "def chart_to_string(seats:dict):\n",
    "    s=\"\"\n",
    "    for y in range(yy):\n",
    "        for x in range(xx):\n",
    "            s += seats[complex(x,y)]\n",
    "        s += \"\\n\"\n",
    "    print(s)\n",
    "\n",
    "# Count all occupied seats\n",
    "def count_occupied(seats:dict):\n",
    "    return sum([i==\"#\" for i in seats.values()])\n",
    "\n",
    "# Check coordinates are within the grid    \n",
    "def in_bounds(p):\n",
    "    x = 0 <= p.real < xx\n",
    "    y = 0 <= p.imag < yy\n",
    "    return x and y\n",
    "\n",
    "# Count occupied adjacent seats\n",
    "def count_adj(seats:dict, x:int, y:int):\n",
    "    pos = [complex(x,y) + a for a in adj]\n",
    "    occupied = [seats[p]==\"#\" for p in pos if in_bounds(p)]\n",
    "    return sum(occupied)\n",
    "\n",
    "# Apply rules to seat\n",
    "def new_status(seats:dict, x:int, y:int, pt2=False):\n",
    "    s = seats[complex(x,y)]\n",
    "    if pt2==False:\n",
    "        a = count_adj(seats,x,y)\n",
    "        cnt = 4\n",
    "    else:\n",
    "        a = count_adj2(seats,x,y)\n",
    "        cnt = 5\n",
    "    if s==\"L\" and a==0:\n",
    "        return \"#\"\n",
    "    elif s==\"#\" and a>=cnt:\n",
    "        return \"L\"\n",
    "    else:\n",
    "        return s"
   ]
  },
  {
   "cell_type": "code",
   "execution_count": 3,
   "metadata": {
    "tags": []
   },
   "outputs": [
    {
     "output_type": "stream",
     "name": "stdout",
     "text": [
      "Stabilised after 87 iterations\n"
     ]
    },
    {
     "output_type": "execute_result",
     "data": {
      "text/plain": [
       "2338"
      ]
     },
     "metadata": {},
     "execution_count": 3
    }
   ],
   "source": [
    "import copy\n",
    "\n",
    "def iterate(seating_chart:dict, n=-1, pt2=False):\n",
    "    tmp = copy.deepcopy(seating_chart)\n",
    "    new = {}\n",
    "    i=0\n",
    "    while True and (i<n or n<0):\n",
    "        for x in range(xx):\n",
    "            for y in range(yy):\n",
    "                new[complex(x,y)] = new_status(tmp,x,y,pt2)\n",
    "        i+=1\n",
    "        if new == tmp:\n",
    "            print(f\"Stabilised after {i} iterations\")\n",
    "            break\n",
    "        else:\n",
    "            tmp = copy.deepcopy(new)\n",
    "    return tmp\n",
    "\n",
    "new_seating_chart = iterate(seating_chart)\n",
    "#chart_to_string(new_seating_chart)\n",
    "\n",
    "count_occupied(new_seating_chart)"
   ]
  },
  {
   "source": [
    "# Part 2\n",
    "\n",
    "Modified functions above with `pt2` flag, for modified rules with `count_adj2` function defined below:"
   ],
   "cell_type": "markdown",
   "metadata": {}
  },
  {
   "cell_type": "code",
   "execution_count": 4,
   "metadata": {},
   "outputs": [
    {
     "output_type": "stream",
     "name": "stdout",
     "text": [
      "Stabilised after 87 iterations\n"
     ]
    },
    {
     "output_type": "execute_result",
     "data": {
      "text/plain": [
       "2134"
      ]
     },
     "metadata": {},
     "execution_count": 4
    }
   ],
   "source": [
    "# Count occupied adjacent seats (new version)\n",
    "def count_adj2(seats:dict, x:int, y:int):\n",
    "    occupied = [False] * len(adj)\n",
    "    # For each direction in adj\n",
    "    for i,a in enumerate(adj):\n",
    "        n=1\n",
    "        # Is there a seat in this direction\n",
    "        while in_bounds(complex(x,y) + n*a):\n",
    "            s = seats[complex(x,y) + n*a]\n",
    "            if s == \".\":\n",
    "                n += 1\n",
    "            else:\n",
    "                occupied[i] = s == \"#\"\n",
    "                break\n",
    "            \n",
    "    return sum(occupied)\n",
    "\n",
    "new_seating_chart = iterate(seating_chart, pt2=True)\n",
    "#chart_to_string(new_seating_chart)\n",
    "\n",
    "count_occupied(new_seating_chart)"
   ]
  },
  {
   "cell_type": "code",
   "execution_count": null,
   "metadata": {},
   "outputs": [],
   "source": []
  }
 ]
}
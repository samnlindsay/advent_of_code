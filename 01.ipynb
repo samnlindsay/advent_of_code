{
 "metadata": {
  "language_info": {
   "codemirror_mode": {
    "name": "ipython",
    "version": 3
   },
   "file_extension": ".py",
   "mimetype": "text/x-python",
   "name": "python",
   "nbconvert_exporter": "python",
   "pygments_lexer": "ipython3",
   "version": "3.8.3-final"
  },
  "orig_nbformat": 2,
  "kernelspec": {
   "name": "python3",
   "display_name": "Python 3"
  }
 },
 "nbformat": 4,
 "nbformat_minor": 2,
 "cells": [
  {
   "source": [
    "# Part 1"
   ],
   "cell_type": "markdown",
   "metadata": {}
  },
  {
   "cell_type": "code",
   "execution_count": 1,
   "metadata": {},
   "outputs": [
    {
     "output_type": "execute_result",
     "data": {
      "text/plain": [
       "[861, 1159]"
      ]
     },
     "metadata": {},
     "execution_count": 1
    }
   ],
   "source": [
    "# Read numbers from text file (stripping newline chars and converting to int)\n",
    "numbers = [int(e.strip()) for e in open(\"inputs/01-input.txt\").readlines()]\n",
    "\n",
    "# Corresponding numbers required to sum to 2020\n",
    "diffs = [2020 - n for n in numbers]\n",
    "\n",
    "# Numbers that occur in both lists \n",
    "# (i.e. that can be added to another number in the list to make 2020)\n",
    "matches = list(set(numbers) & set(diffs))\n",
    "matches"
   ]
  },
  {
   "cell_type": "code",
   "execution_count": 2,
   "metadata": {},
   "outputs": [
    {
     "output_type": "execute_result",
     "data": {
      "text/plain": [
       "997899"
      ]
     },
     "metadata": {},
     "execution_count": 2
    }
   ],
   "source": [
    "import numpy as np\n",
    "# Get product\n",
    "np.prod(matches)"
   ]
  },
  {
   "source": [
    "### Generalised solution\n",
    "`matches` always contains pairs of numbers `a` and `b` such that `a+b=2020`. In this case there is only one solution.\n",
    "\n",
    "What if there also exists a second solution, `c` and `d` such that `c+d=2020`? \n",
    "- Current output format: `[a,b,c,d]`\n",
    "- Desired output format: `[[a,b], [c,d]]`"
   ],
   "cell_type": "markdown",
   "metadata": {}
  },
  {
   "cell_type": "code",
   "execution_count": 195,
   "metadata": {},
   "outputs": [
    {
     "output_type": "execute_result",
     "data": {
      "text/plain": [
       "[[861, 1159]]"
      ]
     },
     "metadata": {},
     "execution_count": 195
    }
   ],
   "source": [
    "matches = [sorted([n, numbers[i]]) for i, n in enumerate(diffs) if n in numbers and n<numbers[i]]\n",
    "matches"
   ]
  },
  {
   "source": [
    "# Part 2"
   ],
   "cell_type": "markdown",
   "metadata": {}
  },
  {
   "cell_type": "code",
   "execution_count": 210,
   "metadata": {},
   "outputs": [],
   "source": [
    "# Write function to perform the above method\n",
    "def find_values_that_sum_to_n(values:list, n:int):\n",
    "    diffs = [n - val for val in values]\n",
    "    \n",
    "    # Original version\n",
    "    # matches = list(set(values) & set(diffs))\n",
    "    \n",
    "    # Generalised version\n",
    "    matches = [sorted([n, numbers[i]]) for i, n in enumerate(diffs) if n in numbers and n<numbers[i]]\n",
    "    \n",
    "    if matches:\n",
    "        return matches\n",
    "    else:\n",
    "        return None"
   ]
  },
  {
   "cell_type": "code",
   "execution_count": 204,
   "metadata": {},
   "outputs": [
    {
     "output_type": "execute_result",
     "data": {
      "text/plain": [
       "[861, 1159]"
      ]
     },
     "metadata": {},
     "execution_count": 204
    }
   ],
   "source": [
    "# Demonstrate answer to Part 1\n",
    "find_entries_that_sum_to_n(numbers, 2020)"
   ]
  },
  {
   "cell_type": "code",
   "execution_count": 216,
   "metadata": {},
   "outputs": [
    {
     "output_type": "execute_result",
     "data": {
      "text/plain": [
       "[[277, 337, 1406], [277, 337, 1406], [277, 337, 1406]]"
      ]
     },
     "metadata": {},
     "execution_count": 216
    }
   ],
   "source": [
    "# Find pairs that add up to a number in diff, and append the corresponding third number that adds to 2020\n",
    "matches = [sorted(find_entries_that_sum_to_n(numbers, n) + [numbers[i]]) for i, n in enumerate(diffs) if find_entries_that_sum_to_n(numbers, n)]\n",
    "\n",
    "matches"
   ]
  },
  {
   "cell_type": "code",
   "execution_count": 185,
   "metadata": {},
   "outputs": [
    {
     "output_type": "execute_result",
     "data": {
      "text/plain": [
       "131248694"
      ]
     },
     "metadata": {},
     "execution_count": 185
    }
   ],
   "source": [
    "# Get product\n",
    "np.prod(matches[0])"
   ]
  },
  {
   "cell_type": "code",
   "execution_count": null,
   "metadata": {},
   "outputs": [],
   "source": []
  }
 ]
}
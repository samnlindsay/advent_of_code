{
 "metadata": {
  "language_info": {
   "codemirror_mode": {
    "name": "ipython",
    "version": 3
   },
   "file_extension": ".py",
   "mimetype": "text/x-python",
   "name": "python",
   "nbconvert_exporter": "python",
   "pygments_lexer": "ipython3",
   "version": "3.8.3-final"
  },
  "orig_nbformat": 2,
  "kernelspec": {
   "name": "python3",
   "display_name": "Python 3.8.3 64-bit",
   "metadata": {
    "interpreter": {
     "hash": "386895e7679b80386e0eddb4dece309fbe4ca4c87f827d1f0342e14ba5efd267"
    }
   }
  }
 },
 "nbformat": 4,
 "nbformat_minor": 2,
 "cells": [
  {
   "source": [
    "# Part 1"
   ],
   "cell_type": "markdown",
   "metadata": {}
  },
  {
   "cell_type": "code",
   "execution_count": 1,
   "metadata": {},
   "outputs": [
    {
     "output_type": "execute_result",
     "data": {
      "text/plain": [
       "268"
      ]
     },
     "metadata": {},
     "execution_count": 1
    }
   ],
   "source": [
    "strings = [e.strip() for e in open(\"inputs/03-input.txt\")]\n",
    "\n",
    "# Grid height/width\n",
    "h = len(strings)\n",
    "w = len(strings[0])\n",
    "\n",
    "# Slope (steps right per step down)\n",
    "slope = 3\n",
    "\n",
    "# Characters on yth row and (slope * y)th column (modulo w)\n",
    "path = [strings[y][(slope * y) % w] for y in range(h)]\n",
    "\n",
    "# Count occurrences of # (trees) in path\n",
    "sum([p == \"#\" for p in path])"
   ]
  },
  {
   "source": [
    "# Part 2"
   ],
   "cell_type": "markdown",
   "metadata": {}
  },
  {
   "cell_type": "code",
   "execution_count": 2,
   "metadata": {},
   "outputs": [],
   "source": [
    "def count_trees(r,d):\n",
    "    # Grid height/width\n",
    "    h = len(strings)\n",
    "    w = len(strings[0])\n",
    "\n",
    "    slope = r/d\n",
    "    \n",
    "    count = sum([strings[y][(int(slope * y)) % w]==\"#\" for y in range(0,h,d)])\n",
    "\n",
    "    return(count)   \n",
    "\n",
    "slopes = [(1,1), (3,1), (5,1), (7,1), (1,2)]\n",
    "\n",
    "trees = [count_trees(r,d) for r,d in slopes]"
   ]
  },
  {
   "cell_type": "code",
   "execution_count": 3,
   "metadata": {},
   "outputs": [
    {
     "output_type": "execute_result",
     "data": {
      "text/plain": [
       "3093068400"
      ]
     },
     "metadata": {},
     "execution_count": 3
    }
   ],
   "source": [
    "import numpy as np \n",
    "np.prod(trees)"
   ]
  },
  {
   "cell_type": "code",
   "execution_count": null,
   "metadata": {},
   "outputs": [],
   "source": []
  }
 ]
}
{
 "metadata": {
  "language_info": {
   "codemirror_mode": {
    "name": "ipython",
    "version": 3
   },
   "file_extension": ".py",
   "mimetype": "text/x-python",
   "name": "python",
   "nbconvert_exporter": "python",
   "pygments_lexer": "ipython3",
   "version": "3.8.3-final"
  },
  "orig_nbformat": 2,
  "kernelspec": {
   "name": "python3",
   "display_name": "Python 3",
   "language": "python"
  }
 },
 "nbformat": 4,
 "nbformat_minor": 2,
 "cells": [
  {
   "source": [
    "# [Day 22 - Crab Combat](https://adventofcode.com/2020/day/22)\n",
    "## Part 1"
   ],
   "cell_type": "markdown",
   "metadata": {}
  },
  {
   "cell_type": "code",
   "execution_count": 1,
   "metadata": {},
   "outputs": [
    {
     "output_type": "execute_result",
     "data": {
      "text/plain": [
       "32033"
      ]
     },
     "metadata": {},
     "execution_count": 1
    }
   ],
   "source": [
    "from copy import copy\n",
    "\n",
    "p1_input, p2_input = open(\"inputs/22-input.txt\").read().split(\"\\n\\n\")\n",
    "p1_input = [int(s) for s in p1_input.splitlines()[1:]]\n",
    "p2_input = [int(s) for s in p2_input.splitlines()[1:]]\n",
    "\n",
    "# Result of players with hand 1 and 2\n",
    "def play(h1:list,h2:list):\n",
    "    # Repeat until there's winner\n",
    "    while h1 and h2:\n",
    "        # Draw cards\n",
    "        a = h1.pop(0)\n",
    "        b = h2.pop(0)\n",
    "    \n",
    "        # High card wins\n",
    "        h1.extend([a,b]) if a > b else h2.extend([b,a])\n",
    "    return h1, h2\n",
    "\n",
    "# Add up score: (n * card value) for nth card from bottom\n",
    "def score(cards):\n",
    "    return sum([(i+1)*n for i,n in enumerate(cards[::-1])])\n",
    "\n",
    "# Initialise hands\n",
    "h1,h2 = copy(p1_input), copy(p2_input)\n",
    "# Play until there's a winner\n",
    "play(h1,h2)\n",
    "winner = h1 if h1 else h2\n",
    "# Winning score\n",
    "score(winner)"
   ]
  },
  {
   "source": [
    "## Part 2"
   ],
   "cell_type": "markdown",
   "metadata": {}
  },
  {
   "cell_type": "code",
   "execution_count": 2,
   "metadata": {
    "tags": []
   },
   "outputs": [
    {
     "output_type": "execute_result",
     "data": {
      "text/plain": [
       "34901"
      ]
     },
     "metadata": {},
     "execution_count": 2
    }
   ],
   "source": [
    "# Uniquely identify arrangement of cards\n",
    "def hash_arrangement(h1, h2, game=0):\n",
    "    # Set P2 values to -ve to distinguish them from P1\n",
    "    return hash(tuple([game-100] + h1 + [-c for c in h2]))\n",
    "\n",
    "def play_recursive(h1, h2, debug=False):\n",
    "    # Initialise for each game\n",
    "    hashes=set()\n",
    "    # Repeat until there's a winner\n",
    "    while h1 and h2:\n",
    "        # Print cards to check results of each round\n",
    "        if debug:\n",
    "            print(h1,h2)\n",
    "    \n",
    "        # Check previous games\n",
    "        if hash_arrangement(h1, h2) in hashes:\n",
    "            # Already played - P1 wins\n",
    "            return h1, None\n",
    "        else:\n",
    "            hashes.add(hash_arrangement(h1,h2))\n",
    "\n",
    "            # Draw cards\n",
    "            a = h1.pop(0)\n",
    "            b = h2.pop(0)\n",
    "\n",
    "            # Play sub-game (if necessary)\n",
    "            if len(h1) >= a and len(h2) >= b:\n",
    "                sub1, sub2 = copy(h1[:a]), copy(h2[:b])\n",
    "                play_recursive(sub1, sub2, debug)\n",
    "                h1.extend([a,b]) if sub1 else h2.extend([b,a])\n",
    "        \n",
    "            # Otherwise, high card wins\n",
    "            else:\n",
    "                h1.extend([a,b]) if a > b else h2.extend([b,a])\n",
    "\n",
    "    return h1, h2\n",
    "\n",
    "#h1, h2 = [9, 2, 6, 3, 1], [5, 8, 4, 7, 10]\n",
    "#play_recursive(h1,h2, debug=True)\n",
    "\n",
    "h1, h2 = copy(p1_input), copy(p2_input)\n",
    "play_recursive(h1,h2)\n",
    "winner = h1 if h1 else h2\n",
    "# Winning score\n",
    "score(winner)"
   ]
  },
  {
   "cell_type": "code",
   "execution_count": null,
   "metadata": {},
   "outputs": [],
   "source": []
  }
 ]
}
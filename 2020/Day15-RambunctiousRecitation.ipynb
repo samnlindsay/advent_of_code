{
 "metadata": {
  "language_info": {
   "codemirror_mode": {
    "name": "ipython",
    "version": 3
   },
   "file_extension": ".py",
   "mimetype": "text/x-python",
   "name": "python",
   "nbconvert_exporter": "python",
   "pygments_lexer": "ipython3",
   "version": "3.8.3-final"
  },
  "orig_nbformat": 2,
  "kernelspec": {
   "name": "python3",
   "display_name": "Python 3",
   "language": "python"
  }
 },
 "nbformat": 4,
 "nbformat_minor": 2,
 "cells": [
  {
   "source": [
    "# [Day 15 - Rambunctious Recitation](https://adventofcode.com/2020/day/15)\n",
    "## Part 1"
   ],
   "cell_type": "markdown",
   "metadata": {}
  },
  {
   "cell_type": "code",
   "execution_count": 1,
   "metadata": {},
   "outputs": [],
   "source": [
    "starting_numbers = [int(s) for s in open(\"inputs/15-input.txt\").read().split(\",\")]"
   ]
  },
  {
   "cell_type": "code",
   "execution_count": 2,
   "metadata": {},
   "outputs": [
    {
     "output_type": "execute_result",
     "data": {
      "text/plain": [
       "234"
      ]
     },
     "metadata": {},
     "execution_count": 2
    }
   ],
   "source": [
    "from collections import defaultdict\n",
    "\n",
    "# Get next number in sequence\n",
    "def next(i:int, num:int, mem:dict):\n",
    "    if mem[num] == 0:\n",
    "        # If not in dictionary, it has never appeared\n",
    "        return 0\n",
    "    else:\n",
    "        # If it has appeared, return current index\n",
    "        return (i+1 - mem[num]) \n",
    "\n",
    "def nth_number(start:list, n=2020):\n",
    "    mem = defaultdict(int)\n",
    "    for i in range(n):\n",
    "        # Use given start numbers first\n",
    "        if i < len(start):\n",
    "            num = start[i]\n",
    "            next_num = next(i,num,mem)\n",
    "            mem[num] = i+1\n",
    "        else:\n",
    "            # New num from previous step\n",
    "            num = next_num\n",
    "            # Use current mem to get next num...\n",
    "            next_num = next(i,num,mem)\n",
    "            #...before updating mem\n",
    "            mem[num] = i+1\n",
    "    return num\n",
    "    \n",
    "nth_number(starting_numbers, 2020)"
   ]
  },
  {
   "source": [
    "## Part 2"
   ],
   "cell_type": "markdown",
   "metadata": {}
  },
  {
   "cell_type": "code",
   "execution_count": 3,
   "metadata": {},
   "outputs": [
    {
     "output_type": "execute_result",
     "data": {
      "text/plain": [
       "8984"
      ]
     },
     "metadata": {},
     "execution_count": 3
    }
   ],
   "source": [
    "nth_number(starting_numbers, 30000000)"
   ]
  },
  {
   "cell_type": "code",
   "execution_count": null,
   "metadata": {},
   "outputs": [],
   "source": []
  }
 ]
}
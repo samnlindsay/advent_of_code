{
 "metadata": {
  "language_info": {
   "codemirror_mode": {
    "name": "ipython",
    "version": 3
   },
   "file_extension": ".py",
   "mimetype": "text/x-python",
   "name": "python",
   "nbconvert_exporter": "python",
   "pygments_lexer": "ipython3",
   "version": "3.8.3-final"
  },
  "orig_nbformat": 2,
  "kernelspec": {
   "name": "python3",
   "display_name": "Python 3"
  }
 },
 "nbformat": 4,
 "nbformat_minor": 2,
 "cells": [
  {
   "source": [
    "# [Day 7: Handy Haversacks](https://adventofcode.com/2020/day/7)\n",
    "## Part 1"
   ],
   "cell_type": "markdown",
   "metadata": {}
  },
  {
   "cell_type": "code",
   "execution_count": 1,
   "metadata": {},
   "outputs": [],
   "source": [
    "import re\n",
    "\n",
    "# Get list of contents to a dict of {colour: quantity}\n",
    "def contents_to_dict(c):\n",
    "    c = re.sub(\"\\sbags?\", \"\",c)\n",
    "    cols = re.findall(\"(?<=\\d\\s)\\w+\\s\\w+(?=,|$)\", c)\n",
    "    counts = [int(i) for i in re.findall(\"\\d\", c)]\n",
    "    d = {}\n",
    "    for col, count in zip(cols, counts):\n",
    "        d[col]=count\n",
    "    return d\n",
    "\n",
    "d = {}\n",
    "for l in open(\"inputs/07-input.txt\").read().split(\".\\n\"):\n",
    "    if l!=\"\":\n",
    "        # Split colour from contents\n",
    "        col, contents = l.split(\" bags contain \")\n",
    "        d[col] = contents_to_dict(contents)"
   ]
  },
  {
   "cell_type": "code",
   "execution_count": 2,
   "metadata": {},
   "outputs": [
    {
     "output_type": "execute_result",
     "data": {
      "text/plain": [
       "211"
      ]
     },
     "metadata": {},
     "execution_count": 2
    }
   ],
   "source": [
    "# Set of bags that directly contain a shiny gold bag\n",
    "road_to_gold = set(col for col in d if \"shiny gold\" in d[col].keys())\n",
    "\n",
    "old_len = 0\n",
    "new_len = len(road_to_gold)\n",
    "\n",
    "# Work up the chain until no new bags found that contain gold\n",
    "while old_len != new_len:\n",
    "    old_len = len(road_to_gold)\n",
    "    for col in d:\n",
    "        l = list(road_to_gold)\n",
    "        # Add bags not in the list, but containing bags in the list\n",
    "        for g_col in l:\n",
    "            if g_col in d[col].keys():\n",
    "                road_to_gold.add(col)\n",
    "    new_len = len(road_to_gold)\n",
    "\n",
    "len(road_to_gold)"
   ]
  },
  {
   "source": [
    "## Part 2"
   ],
   "cell_type": "markdown",
   "metadata": {}
  },
  {
   "cell_type": "code",
   "execution_count": 3,
   "metadata": {},
   "outputs": [
    {
     "output_type": "execute_result",
     "data": {
      "text/plain": [
       "12414"
      ]
     },
     "metadata": {},
     "execution_count": 3
    }
   ],
   "source": [
    "import copy\n",
    "\n",
    "# Multiply all dict values by an integer\n",
    "def dict_multiply(d:dict, y:int):\n",
    "    x = copy.copy(d)\n",
    "    x.update((k, v*y) for k, v in x.items())\n",
    "    return x\n",
    "\n",
    "# Add values from two dicts\n",
    "def dict_add(d1:dict, d2:dict):\n",
    "    d = {**d1, **d2}\n",
    "    for k in d1.keys() & d2.keys():\n",
    "        d[k] = d1[k] + d2[k]\n",
    "    return d\n",
    "\n",
    "# Iteratively count bags and expand contents until all remaining bags are empty\n",
    "def iterate_bags(cnt_in:int, dct_in:dict):\n",
    "    obj = (cnt_in, dct_in)\n",
    "    # Repeat until contents dictionary is empty\n",
    "    while obj[1] != {}:\n",
    "        cnt_in, dct_in = obj\n",
    "        dct_out = {}\n",
    "        # Find contents of each bag (and multiply by quantity of that bag)\n",
    "        dicts = [dict_multiply(d[k], v) for k, v in dct_in.items()]\n",
    "        # Add quantities of each bag's contents\n",
    "        for dct in dicts:\n",
    "            dct_out = dict_add(dct_out, dct)\n",
    "        # Add contents to running count\n",
    "        cnt_out = cnt_in + sum(dct_out.values())\n",
    "        obj = cnt_out, dct_out\n",
    "    return(obj)\n",
    "\n",
    "iterate_bags(0,{\"shiny gold\":1})[0]"
   ]
  },
  {
   "source": [
    "## Recursive solution to Part 2\n",
    "Repurposed from [here](https://github.com/sophiebits/adventofcode/blob/main/2020/day07.py), because I gave up on something recursive while I got into a mess with the above."
   ],
   "cell_type": "markdown",
   "metadata": {}
  },
  {
   "cell_type": "code",
   "execution_count": 4,
   "metadata": {},
   "outputs": [
    {
     "output_type": "execute_result",
     "data": {
      "text/plain": [
       "12414"
      ]
     },
     "metadata": {},
     "execution_count": 4
    }
   ],
   "source": [
    "def cost(color):\n",
    "    total = 0\n",
    "    for k,v in d[color].items():\n",
    "        total += v\n",
    "        total += v * cost(k)\n",
    "    return total\n",
    "\n",
    "cost(\"shiny gold\")"
   ]
  },
  {
   "cell_type": "code",
   "execution_count": null,
   "metadata": {},
   "outputs": [],
   "source": []
  }
 ]
}
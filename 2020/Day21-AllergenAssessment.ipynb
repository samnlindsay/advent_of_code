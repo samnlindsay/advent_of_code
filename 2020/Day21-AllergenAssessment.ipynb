{
 "metadata": {
  "language_info": {
   "codemirror_mode": {
    "name": "ipython",
    "version": 3
   },
   "file_extension": ".py",
   "mimetype": "text/x-python",
   "name": "python",
   "nbconvert_exporter": "python",
   "pygments_lexer": "ipython3",
   "version": "3.8.3-final"
  },
  "orig_nbformat": 2,
  "kernelspec": {
   "name": "python3",
   "display_name": "Python 3",
   "language": "python"
  }
 },
 "nbformat": 4,
 "nbformat_minor": 2,
 "cells": [
  {
   "source": [
    "# [Day 21 - Allergen Assessment](https://adventofcode.com/2020/day/21)\n",
    "## Part 1"
   ],
   "cell_type": "markdown",
   "metadata": {}
  },
  {
   "cell_type": "code",
   "execution_count": 1,
   "metadata": {},
   "outputs": [
    {
     "output_type": "execute_result",
     "data": {
      "text/plain": [
       "{'dairy': 'rhvbn',\n",
       " 'nuts': 'fvk',\n",
       " 'wheat': 'zrb',\n",
       " 'shellfish': 'jgtb',\n",
       " 'sesame': 'lbmt',\n",
       " 'fish': 'kjf',\n",
       " 'eggs': 'mmcpg',\n",
       " 'soy': 'hcbdb'}"
      ]
     },
     "metadata": {},
     "execution_count": 1
    }
   ],
   "source": [
    "input = open(\"inputs/21-input.txt\").read().splitlines()\n",
    "\n",
    "ingredients = [s.split() for s in [l.split(\"(\")[0] for l in input]]\n",
    "allergens = [s.split(\", \") for s in [l.split(\"(contains \")[1][:-1] for l in input]]\n",
    "\n",
    "allergen_set = {y for x in allergens for y in x}\n",
    "ingredient_set = {y for x in ingredients for y in x}\n",
    "\n",
    "# Ingredients in ALL foods with specified allergen\n",
    "def foods_with_allergen(allergen:str):\n",
    "    foods = [set(i) for a, i in zip(allergens, ingredients) if allergen in a]\n",
    "    return set.intersection(*foods)\n",
    "\n",
    "# Potential ingredients containing each allergen\n",
    "candidate_ingredients = {a:foods_with_allergen(a) for a in allergen_set}\n",
    "\n",
    "# Identify known ingredients\n",
    "allergen_ingredients = {}\n",
    "while len(allergen_ingredients) != len(candidate_ingredients):\n",
    "    for a, i in candidate_ingredients.items():\n",
    "        # Only one candidate - add to dict\n",
    "        if len(i) == 1:\n",
    "            allergen_ingredients[a] = list(i)[0]\n",
    "        # Remove known ingredients from candidates\n",
    "        else:\n",
    "            i -= set(allergen_ingredients.values())\n",
    "            \n",
    "allergen_ingredients"
   ]
  },
  {
   "cell_type": "code",
   "execution_count": 2,
   "metadata": {},
   "outputs": [
    {
     "output_type": "execute_result",
     "data": {
      "text/plain": [
       "2517"
      ]
     },
     "metadata": {},
     "execution_count": 2
    }
   ],
   "source": [
    "# Occurrences of ingredients in all foods (minus those containing allergens)\n",
    "len([ing for food in ingredients for ing in food if ing not in allergen_ingredients.values()])"
   ]
  },
  {
   "source": [
    "## Part 2\n",
    "Turns out I didn't need `allergen_ingredients` for Part 1 as `candidate_ingredients` was sufficient to remove allergenic ingredients from the count."
   ],
   "cell_type": "markdown",
   "metadata": {}
  },
  {
   "cell_type": "code",
   "execution_count": 3,
   "metadata": {},
   "outputs": [
    {
     "output_type": "stream",
     "name": "stdout",
     "text": [
      "rhvbn,mmcpg,kjf,fvk,lbmt,jgtb,hcbdb,zrb\n"
     ]
    }
   ],
   "source": [
    "# Comma-separated list of allergenic ingredients in alphabetical order\n",
    "print(\",\".join(allergen_ingredients[a] for a in sorted(allergen_ingredients)))"
   ]
  },
  {
   "cell_type": "code",
   "execution_count": null,
   "metadata": {},
   "outputs": [],
   "source": []
  }
 ]
}
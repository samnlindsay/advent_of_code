{
 "metadata": {
  "language_info": {
   "codemirror_mode": {
    "name": "ipython",
    "version": 3
   },
   "file_extension": ".py",
   "mimetype": "text/x-python",
   "name": "python",
   "nbconvert_exporter": "python",
   "pygments_lexer": "ipython3",
   "version": "3.8.3-final"
  },
  "orig_nbformat": 2,
  "kernelspec": {
   "name": "python3",
   "display_name": "Python 3",
   "language": "python"
  }
 },
 "nbformat": 4,
 "nbformat_minor": 2,
 "cells": [
  {
   "source": [
    "# [Day 16 - Ticket Translation](https://adventofcode.com/2020/day/16)\n",
    "## Part 1"
   ],
   "cell_type": "markdown",
   "metadata": {}
  },
  {
   "cell_type": "code",
   "execution_count": 1,
   "metadata": {},
   "outputs": [],
   "source": [
    "import parse\n",
    "\n",
    "input = open(\"inputs/16-input.txt\").read()\n",
    "\n",
    "rules, ticket, tickets = input.split(\"\\n\\n\")\n",
    "\n",
    "# Parse rules\n",
    "rule_dict = {}\n",
    "rules = rules.split(\"\\n\")\n",
    "p = parse.compile(\"{field}: {a:d}-{b:d} or {c:d}-{d:d}\")\n",
    "for r in rules:\n",
    "    rule = p.parse(r)\n",
    "    rule_dict[rule[\"field\"]] = list(range(rule[\"a\"],rule[\"b\"]+1)) + list(range(rule[\"c\"],rule[\"d\"]+1))\n",
    "\n",
    "# My ticket values\n",
    "my_ticket = list(map(int, ticket.split(\"\\n\")[1].split(\",\")))\n",
    "\n",
    "# Nearby ticket values\n",
    "tickets = [list(map(int, t.split(','))) for t in tickets.split(\"\\n\")[1:-1]]"
   ]
  },
  {
   "cell_type": "code",
   "execution_count": 2,
   "metadata": {},
   "outputs": [
    {
     "output_type": "execute_result",
     "data": {
      "text/plain": [
       "29851"
      ]
     },
     "metadata": {},
     "execution_count": 2
    }
   ],
   "source": [
    "import numpy as np\n",
    "from itertools import compress\n",
    "\n",
    "def part1(rules:dict, tickets:list):\n",
    "    errors = []\n",
    "    for t in tickets:\n",
    "        invalid = [all([num not in vals for vals in rules.values()]) for num in t]\n",
    "        errors += list(compress(t, invalid))\n",
    "    return sum(errors)\n",
    "\n",
    "part1(rule_dict,tickets)"
   ]
  },
  {
   "source": [
    "## Part 2"
   ],
   "cell_type": "markdown",
   "metadata": {}
  },
  {
   "cell_type": "code",
   "execution_count": 3,
   "metadata": {},
   "outputs": [],
   "source": [
    "# Valid tickets are my ticket + others where all values obey at least 1 of the rules\n",
    "valid_tickets = [my_ticket] + [t for t in tickets if all([any([num in vals for vals in rule_dict.values()]) for num in t])]\n",
    "\n",
    "# Transpose tickets to list of all ticket values for each field\n",
    "valid_columns = list(map(list, zip(*valid_tickets)))\n",
    "\n",
    "# For each column, which fields are possible matches (set comprehension within dict comprehension :heart_eyes:)\n",
    "possibles = {i:{rule for rule in rule_dict.keys() if set(rule_dict[rule]).issuperset(set(col))} for i,col in enumerate(valid_columns)}\n",
    "\n",
    "# Column -> field dict\n",
    "solution = {}\n",
    "\n",
    "# Check for columns with unique possible -> add to solution -> remove from other columns\n",
    "def iterate(possibles, solution={}):\n",
    "    for i in possibles:\n",
    "        if len(possibles[i])==1:\n",
    "            solution[i] = possibles[i].pop()\n",
    "            for j in possibles:\n",
    "                possibles[j].discard(solution[i])\n",
    "    return possibles, solution\n",
    "\n",
    "# Repeat until solution is complete\n",
    "while len(solution) < len(valid_columns):\n",
    "    possibles, solution = iterate(possibles,solution)"
   ]
  },
  {
   "cell_type": "code",
   "execution_count": 4,
   "metadata": {
    "tags": []
   },
   "outputs": [
    {
     "output_type": "execute_result",
     "data": {
      "text/plain": [
       "3029180675981"
      ]
     },
     "metadata": {},
     "execution_count": 4
    }
   ],
   "source": [
    "from math import prod\n",
    "\n",
    "# Product of my ticket values for fields starting \"departure\"\n",
    "prod([my_ticket[k] for k in solution if solution[k].startswith(\"departure\")])"
   ]
  },
  {
   "cell_type": "code",
   "execution_count": null,
   "metadata": {},
   "outputs": [],
   "source": []
  }
 ]
}
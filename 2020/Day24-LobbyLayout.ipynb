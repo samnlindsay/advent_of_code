{
 "metadata": {
  "language_info": {
   "codemirror_mode": {
    "name": "ipython",
    "version": 3
   },
   "file_extension": ".py",
   "mimetype": "text/x-python",
   "name": "python",
   "nbconvert_exporter": "python",
   "pygments_lexer": "ipython3",
   "version": "3.8.3-final"
  },
  "orig_nbformat": 2,
  "kernelspec": {
   "name": "python3",
   "display_name": "Python 3",
   "language": "python"
  }
 },
 "nbformat": 4,
 "nbformat_minor": 2,
 "cells": [
  {
   "source": [
    "# [Day 24 - Lobby Layout](https://adventofcode.com/2020/day/24)\n",
    "## Part 1\n",
    "\n",
    "Let's coerce the hexagonal grid to x,y coordinates such that:\n",
    "- `NE` = (1,1)\n",
    "- `NW` = (-1,1)\n",
    "- `SW` = (-1,-1)\n",
    "- `SE` = (1,-1)\n",
    "- `E` = (2,0)\n",
    "- `W` = (-2,0)\n",
    "\n",
    "(x:y ratio is only out by a factor of sqrt(3))"
   ],
   "cell_type": "markdown",
   "metadata": {}
  },
  {
   "cell_type": "code",
   "execution_count": 1,
   "metadata": {},
   "outputs": [
    {
     "output_type": "execute_result",
     "data": {
      "text/plain": [
       "244"
      ]
     },
     "metadata": {},
     "execution_count": 1
    }
   ],
   "source": [
    "import re\n",
    "\n",
    "input = open(\"inputs/24-input.txt\").read().splitlines()\n",
    "\n",
    "def input_to_xy(s):\n",
    "    # Diagonal moves\n",
    "    se = len(re.findall(\"se\", s))\n",
    "    sw = len(re.findall(\"sw\", s))\n",
    "    ne = len(re.findall(\"ne\", s))\n",
    "    nw = len(re.findall(\"nw\", s))\n",
    "    # Remove diagonals\n",
    "    s = re.sub(\"(n|s){1}(e|w){1}\",\"\",s)\n",
    "    # E-W moves\n",
    "    e = len(re.findall(\"e\", s))\n",
    "    w = len(re.findall(\"w\", s))\n",
    "\n",
    "    x = 2*(e-w) + (ne+se) - (nw+sw)\n",
    "    y = (ne+nw) - (se+sw)\n",
    "    return x,y\n",
    "\n",
    "tiles = [input_to_xy(s) for s in input]\n",
    "black = set([t for t in tiles if tiles.count(t) % 2 == 1])\n",
    "\n",
    "len(black)"
   ]
  },
  {
   "source": [
    "## Part 2"
   ],
   "cell_type": "markdown",
   "metadata": {}
  },
  {
   "cell_type": "code",
   "execution_count": 2,
   "metadata": {},
   "outputs": [
    {
     "output_type": "stream",
     "name": "stdout",
     "text": [
      "3665\n"
     ]
    }
   ],
   "source": [
    "def adjacents(x:int,y:int):\n",
    "    return [\n",
    "        (x+1, y+1), # NE\n",
    "        (x-1, y+1), # NW\n",
    "        (x-1, y-1), # SW\n",
    "        (x+1, y-1), # SE\n",
    "        (x+2, y), # E\n",
    "        (x-2, y) # W\n",
    "    ]\n",
    "\n",
    "def count_adjacent(x, y, black:set):\n",
    "    return sum([a in black for a in adjacents(x,y)])\n",
    "\n",
    "# Not interested in white tiles unless they are adjacent to a black tile\n",
    "white = set([a for x, y in black for a in adjacents(x, y) if a not in black])\n",
    "\n",
    "# 100 iterations of flipping tiles\n",
    "for i in range(100):\n",
    "    # Black tiles with 0 or >2 black neighbours\n",
    "    flip_to_white = set([(x,y) for x,y in black if count_adjacent(x, y, black) not in [1,2]])\n",
    "    # White tiles with 2 black neighbours\n",
    "    flip_to_black = set([(x,y) for x,y in white if count_adjacent(x, y, black) == 2])\n",
    "    # Remove white and flip to black\n",
    "    white.difference_update(flip_to_black)\n",
    "    black.update(flip_to_black)\n",
    "    # Remove black and flip to white\n",
    "    black.difference_update(flip_to_white)\n",
    "    white.update(flip_to_white)\n",
    "    # Add new white tiles adjacent to new black tiles\n",
    "    white.update(set([a for x, y in flip_to_black for a in adjacents(x, y) if a not in black]))\n",
    "\n",
    "print(len(black))"
   ]
  },
  {
   "cell_type": "code",
   "execution_count": null,
   "metadata": {},
   "outputs": [],
   "source": []
  }
 ]
}
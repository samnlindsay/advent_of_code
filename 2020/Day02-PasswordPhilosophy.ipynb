{
 "metadata": {
  "language_info": {
   "codemirror_mode": {
    "name": "ipython",
    "version": 3
   },
   "file_extension": ".py",
   "mimetype": "text/x-python",
   "name": "python",
   "nbconvert_exporter": "python",
   "pygments_lexer": "ipython3",
   "version": "3.8.3-final"
  },
  "orig_nbformat": 2,
  "kernelspec": {
   "name": "python3",
   "display_name": "Python 3"
  }
 },
 "nbformat": 4,
 "nbformat_minor": 2,
 "cells": [
  {
   "source": [
    "# [Day 2: Password Philosophy](https://adventofcode.com/2020/day/2)\n",
    "## Part 1"
   ],
   "cell_type": "markdown",
   "metadata": {}
  },
  {
   "cell_type": "code",
   "execution_count": 1,
   "metadata": {},
   "outputs": [
    {
     "output_type": "execute_result",
     "data": {
      "text/plain": [
       "                      pw letter  min  max\n",
       "0              ggtxgtgbg      g    4    8\n",
       "1         qmzdrtqctvrqsb      q   13   14\n",
       "2            ddddlddzfdd      d    1    5\n",
       "3                  pfhff      f    1    3\n",
       "4             ccssnccccc      c    4    5\n",
       "..                   ...    ...  ...  ...\n",
       "995  ndbbnhwdztdtkkjsvxc      k    2   14\n",
       "996                wwjww      w    4    5\n",
       "997                 khcv      c    2    4\n",
       "998        tttdtttcttttt      t    8   11\n",
       "999                xmmmf      m    3    4\n",
       "\n",
       "[1000 rows x 4 columns]"
      ],
      "text/html": "<div>\n<style scoped>\n    .dataframe tbody tr th:only-of-type {\n        vertical-align: middle;\n    }\n\n    .dataframe tbody tr th {\n        vertical-align: top;\n    }\n\n    .dataframe thead th {\n        text-align: right;\n    }\n</style>\n<table border=\"1\" class=\"dataframe\">\n  <thead>\n    <tr style=\"text-align: right;\">\n      <th></th>\n      <th>pw</th>\n      <th>letter</th>\n      <th>min</th>\n      <th>max</th>\n    </tr>\n  </thead>\n  <tbody>\n    <tr>\n      <th>0</th>\n      <td>ggtxgtgbg</td>\n      <td>g</td>\n      <td>4</td>\n      <td>8</td>\n    </tr>\n    <tr>\n      <th>1</th>\n      <td>qmzdrtqctvrqsb</td>\n      <td>q</td>\n      <td>13</td>\n      <td>14</td>\n    </tr>\n    <tr>\n      <th>2</th>\n      <td>ddddlddzfdd</td>\n      <td>d</td>\n      <td>1</td>\n      <td>5</td>\n    </tr>\n    <tr>\n      <th>3</th>\n      <td>pfhff</td>\n      <td>f</td>\n      <td>1</td>\n      <td>3</td>\n    </tr>\n    <tr>\n      <th>4</th>\n      <td>ccssnccccc</td>\n      <td>c</td>\n      <td>4</td>\n      <td>5</td>\n    </tr>\n    <tr>\n      <th>...</th>\n      <td>...</td>\n      <td>...</td>\n      <td>...</td>\n      <td>...</td>\n    </tr>\n    <tr>\n      <th>995</th>\n      <td>ndbbnhwdztdtkkjsvxc</td>\n      <td>k</td>\n      <td>2</td>\n      <td>14</td>\n    </tr>\n    <tr>\n      <th>996</th>\n      <td>wwjww</td>\n      <td>w</td>\n      <td>4</td>\n      <td>5</td>\n    </tr>\n    <tr>\n      <th>997</th>\n      <td>khcv</td>\n      <td>c</td>\n      <td>2</td>\n      <td>4</td>\n    </tr>\n    <tr>\n      <th>998</th>\n      <td>tttdtttcttttt</td>\n      <td>t</td>\n      <td>8</td>\n      <td>11</td>\n    </tr>\n    <tr>\n      <th>999</th>\n      <td>xmmmf</td>\n      <td>m</td>\n      <td>3</td>\n      <td>4</td>\n    </tr>\n  </tbody>\n</table>\n<p>1000 rows × 4 columns</p>\n</div>"
     },
     "metadata": {},
     "execution_count": 1
    }
   ],
   "source": [
    "import pandas as pd \n",
    "\n",
    "# Read numbers from text file (stripping newline chars)\n",
    "data = [e.strip() for e in open(\"inputs/02-input.txt\").readlines()]\n",
    "df = pd.DataFrame(data, columns=[\"data\"])\n",
    "\n",
    "# Split into 4 components (min, max, letter, pw)\n",
    "df[[\"rule\", \"pw\"]] = df[\"data\"].str.split(': ', expand=True)\n",
    "df[[\"count\", \"letter\"]] = df[\"rule\"].str.split(' ', expand=True)\n",
    "df[[\"min\", \"max\"]] = df[\"count\"].str.split('-', expand=True).astype(int)\n",
    "df = df.drop(columns=[\"data\",\"rule\",\"count\"])\n",
    "df"
   ]
  },
  {
   "cell_type": "code",
   "execution_count": 2,
   "metadata": {},
   "outputs": [
    {
     "output_type": "execute_result",
     "data": {
      "text/plain": [
       "383"
      ]
     },
     "metadata": {},
     "execution_count": 2
    }
   ],
   "source": [
    "import re\n",
    "\n",
    "def is_valid(password:str, letter:str, min:int, max:int):\n",
    "    # How many times does letter appear?\n",
    "    count = len(re.findall(letter, password))\n",
    "    # Is it in required range?\n",
    "    valid = (min <= count <= max)\n",
    "    return valid\n",
    "\n",
    "df[\"valid\"] = df.apply(lambda x: is_valid(x[\"pw\"], x[\"letter\"], x[\"min\"], x[\"max\"]), axis=1)\n",
    "df[\"valid\"].sum()"
   ]
  },
  {
   "source": [
    "# Part 2"
   ],
   "cell_type": "markdown",
   "metadata": {}
  },
  {
   "cell_type": "code",
   "execution_count": 3,
   "metadata": {},
   "outputs": [
    {
     "output_type": "execute_result",
     "data": {
      "text/plain": [
       "272"
      ]
     },
     "metadata": {},
     "execution_count": 3
    }
   ],
   "source": [
    "def is_valid2(password:str, letter:str, min:int, max:int):\n",
    "    # Does letter appear in either position?\n",
    "    a = password[min-1] == letter\n",
    "    b = password[max-1] == letter\n",
    "    # Only once?\n",
    "    valid = a != b\n",
    "    return valid\n",
    "\n",
    "df[\"valid2\"] = df.apply(lambda x: is_valid2(x[\"pw\"], x[\"letter\"], x[\"min\"], x[\"max\"]), axis=1)\n",
    "df[\"valid2\"].sum()"
   ]
  },
  {
   "source": [
    "# Regex solutions"
   ],
   "cell_type": "markdown",
   "metadata": {}
  },
  {
   "cell_type": "code",
   "execution_count": 5,
   "metadata": {},
   "outputs": [
    {
     "output_type": "execute_result",
     "data": {
      "text/plain": [
       "383"
      ]
     },
     "metadata": {},
     "execution_count": 5
    }
   ],
   "source": [
    "def is_valid_raw(line:str): \n",
    "    # Identify 4 groups in regex (min, max, letter, password)\n",
    "    l_min, l_max, l, pw = re.search(r'(\\d+)-(\\d+) (\\w): (\\w+)', line).groups()\n",
    "    # Count repititons of letter\n",
    "    rep = len(re.findall(l, pw))\n",
    "    # Check if count between min and max\n",
    "    valid = int(l_min) <= rep <= int(l_max)\n",
    "    \n",
    "    return valid\n",
    "\n",
    "sum([is_valid_raw(e) for e in open(\"inputs/02-input.txt\").readlines()])"
   ]
  },
  {
   "cell_type": "code",
   "execution_count": 6,
   "metadata": {},
   "outputs": [
    {
     "output_type": "execute_result",
     "data": {
      "text/plain": [
       "272"
      ]
     },
     "metadata": {},
     "execution_count": 6
    }
   ],
   "source": [
    "def is_valid_raw2(line:str): \n",
    "    # Identify 4 groups in regex (index 1, index 2, letter, password)\n",
    "    ind1, ind2, l, pw = re.search(r'(\\d+)-(\\d+) (\\w): (\\w+)', line).groups()\n",
    "    # Check the characters in password at index 1 and 2\n",
    "    m1 = pw[int(ind1)-1] == l\n",
    "    m2 = pw[int(ind2)-1] == l\n",
    "    # Check if only one matches\n",
    "    valid = m1 != m2\n",
    "    \n",
    "    return valid\n",
    "\n",
    "sum([is_valid_raw2(e) for e in open(\"inputs/02-input.txt\").readlines()])"
   ]
  },
  {
   "cell_type": "code",
   "execution_count": null,
   "metadata": {},
   "outputs": [],
   "source": []
  }
 ]
}
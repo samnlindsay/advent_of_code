{
 "metadata": {
  "language_info": {
   "codemirror_mode": {
    "name": "ipython",
    "version": 3
   },
   "file_extension": ".py",
   "mimetype": "text/x-python",
   "name": "python",
   "nbconvert_exporter": "python",
   "pygments_lexer": "ipython3",
   "version": "3.8.3-final"
  },
  "orig_nbformat": 2,
  "kernelspec": {
   "name": "python3",
   "display_name": "Python 3",
   "language": "python"
  }
 },
 "nbformat": 4,
 "nbformat_minor": 2,
 "cells": [
  {
   "source": [
    "# [Day 14 - Docking Data](https://adventofcode.com/2020/day/14)\n",
    "## Part 1"
   ],
   "cell_type": "markdown",
   "metadata": {}
  },
  {
   "cell_type": "code",
   "execution_count": 1,
   "metadata": {},
   "outputs": [
    {
     "output_type": "execute_result",
     "data": {
      "text/plain": [
       "10885823581193"
      ]
     },
     "metadata": {},
     "execution_count": 1
    }
   ],
   "source": [
    "from collections import defaultdict\n",
    "import re\n",
    "\n",
    "# Read input into list line by line\n",
    "input = open(\"inputs/14-input.txt\").read().splitlines()\n",
    "\n",
    "# Conver int to binary string of fixed length\n",
    "def int_to_bin(i:int, digits=36):\n",
    "    return '{0:b}'.format(i).zfill(digits)\n",
    "\n",
    "# Replace decimal value with masked version\n",
    "def masked_val(val:int, mask:str):\n",
    "    i = int_to_bin(val, digits=len(mask))\n",
    "    s = \"\".join(a if b==\"X\" else b for a,b in zip(i, mask))\n",
    "    return int(s,2)\n",
    "\n",
    "# Initialise empty memory dict\n",
    "mem = defaultdict(int)\n",
    "for l in input:\n",
    "    # Read mask\n",
    "    if l[0:4]==\"mask\":\n",
    "        mask = l[7:]\n",
    "    # Update memory\n",
    "    else:\n",
    "        index, val =  re.findall(\"\\d+\", l)\n",
    "        mem[int(index)] = masked_val(int(val), mask)\n",
    "\n",
    "# Sum of values in memory\n",
    "sum(mem.values())"
   ]
  },
  {
   "source": [
    "## Part 2"
   ],
   "cell_type": "markdown",
   "metadata": {}
  },
  {
   "cell_type": "code",
   "execution_count": 2,
   "metadata": {},
   "outputs": [
    {
     "output_type": "execute_result",
     "data": {
      "text/plain": [
       "3816594901962"
      ]
     },
     "metadata": {},
     "execution_count": 2
    }
   ],
   "source": [
    "# Replace decimal value address with masked version(s)\n",
    "def masked_add(add:int, mask:str):\n",
    "    i = int_to_bin(add, digits=len(mask))\n",
    "    new_add = [\"\"]\n",
    "    # Add each digit in the binary address in turn,\n",
    "    # doubling the number of list elements when said\n",
    "    # digit is floating (mask value is X)\n",
    "    for a,b in zip(i, mask):\n",
    "        if b==\"X\":\n",
    "            # Add both versions of new digit\n",
    "            zeros = [n+\"0\" for n in new_add]\n",
    "            ones = [n+\"1\" for n in new_add]\n",
    "            new_add = zeros + ones\n",
    "        else:\n",
    "            # Add new digit (unchanged or set to 1)\n",
    "            new_add = [n + (a if b==\"0\" else \"1\") for n in new_add]\n",
    "    \n",
    "    return [int(n,2) for n in new_add]\n",
    "\n",
    "# Initialise empty memory dict\n",
    "mem = defaultdict(int)\n",
    "for l in input:\n",
    "    # Read mask\n",
    "    if l[0:4]==\"mask\":\n",
    "        mask = l[7:]\n",
    "    # Update memory\n",
    "    else:\n",
    "        index, val =  re.findall(\"\\d+\", l)\n",
    "        mem.update(dict.fromkeys(masked_add(int(index), mask), int(val)))\n",
    "\n",
    "# Sum of values in memory\n",
    "sum(mem.values())"
   ]
  },
  {
   "cell_type": "code",
   "execution_count": null,
   "metadata": {},
   "outputs": [],
   "source": []
  }
 ]
}
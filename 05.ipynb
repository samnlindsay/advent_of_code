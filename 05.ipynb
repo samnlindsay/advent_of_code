{
 "metadata": {
  "language_info": {
   "codemirror_mode": {
    "name": "ipython",
    "version": 3
   },
   "file_extension": ".py",
   "mimetype": "text/x-python",
   "name": "python",
   "nbconvert_exporter": "python",
   "pygments_lexer": "ipython3",
   "version": "3.8.3-final"
  },
  "orig_nbformat": 2,
  "kernelspec": {
   "name": "python3",
   "display_name": "Python 3"
  }
 },
 "nbformat": 4,
 "nbformat_minor": 2,
 "cells": [
  {
   "source": [
    "# Part 1\n",
    "\n",
    "Solved initially on my phone without code:\n",
    "- Copy input to google sheets app \n",
    "- Sort alphabetically (\"B\" (`1`) > \"F\" (`0`), largest ID num would be \"BBBB...\")\n",
    "- Top result is \"BBFBFFFLLL\" -> `1101000000` -> `512` + `256` + `64` = `832` "
   ],
   "cell_type": "markdown",
   "metadata": {}
  },
  {
   "cell_type": "code",
   "execution_count": 1,
   "metadata": {},
   "outputs": [
    {
     "output_type": "execute_result",
     "data": {
      "text/plain": [
       "832"
      ]
     },
     "metadata": {},
     "execution_count": 1
    }
   ],
   "source": [
    "# Convert string -> binary  (F/L -> 0, B/R -> 1) -> int\n",
    "def to_binary(s):\n",
    "    bin = \"\"\n",
    "    for c in s:\n",
    "        bin += str(int(c in [\"B\", \"R\"]))\n",
    "    return int(bin,2)\n",
    "\n",
    "seat_ids = [to_binary(e.strip())  for e in open(\"inputs/05-input.txt\")]\n",
    "\n",
    "max(seat_ids)"
   ]
  },
  {
   "source": [
    "# Part 2"
   ],
   "cell_type": "markdown",
   "metadata": {}
  },
  {
   "cell_type": "code",
   "execution_count": 2,
   "metadata": {},
   "outputs": [
    {
     "output_type": "stream",
     "name": "stdout",
     "text": [
      "517\n"
     ]
    }
   ],
   "source": [
    "from itertools import islice \n",
    "\n",
    "def seq_pairs(li): \n",
    "    return zip(li, islice(li,1,None)) \n",
    "\n",
    "# Find where two IDs present have a gap between them\n",
    "for first, second in seq_pairs(sorted(seat_ids)): \n",
    "    if second - first == 2:\n",
    "        print(first+1) "
   ]
  },
  {
   "source": [
    "# BONUS\n",
    "Minimal solution inspired by [`mratford`](https://github.com/mratford/advent/blob/master/2020/day05/day05.ipynb):"
   ],
   "cell_type": "markdown",
   "metadata": {}
  },
  {
   "cell_type": "code",
   "execution_count": 3,
   "metadata": {},
   "outputs": [
    {
     "output_type": "stream",
     "name": "stdout",
     "text": [
      "Answer 1: 832\nAnswer 2: 517\n"
     ]
    }
   ],
   "source": [
    "import numpy as np \n",
    "seats = [int(e.strip().translate(str.maketrans(\"FBLR\", \"0101\")),2)  for e in open(\"inputs/05-input.txt\")]\n",
    "print (f\"Answer 1: {max(seats)}\\nAnswer 2: {np.setdiff1d(range(min(seats),max(seats)+1),seats)[0]}\")"
   ]
  },
  {
   "cell_type": "code",
   "execution_count": null,
   "metadata": {},
   "outputs": [],
   "source": []
  }
 ]
}
{
 "metadata": {
  "language_info": {
   "codemirror_mode": {
    "name": "ipython",
    "version": 3
   },
   "file_extension": ".py",
   "mimetype": "text/x-python",
   "name": "python",
   "nbconvert_exporter": "python",
   "pygments_lexer": "ipython3",
   "version": "3.8.3-final"
  },
  "orig_nbformat": 2,
  "kernelspec": {
   "name": "python3",
   "display_name": "Python 3"
  }
 },
 "nbformat": 4,
 "nbformat_minor": 2,
 "cells": [
  {
   "source": [
    "# Part 1\n",
    "(solved initially by copying input to google sheets on my phone, sorting alphabetically and using mental arithmetic to work out seat ID)"
   ],
   "cell_type": "markdown",
   "metadata": {}
  },
  {
   "cell_type": "code",
   "execution_count": 28,
   "metadata": {},
   "outputs": [
    {
     "output_type": "execute_result",
     "data": {
      "text/plain": [
       "832"
      ]
     },
     "metadata": {},
     "execution_count": 28
    }
   ],
   "source": [
    "# Convert string -> binary  (F/L -> 0, B/R -> 1) -> int\n",
    "def to_binary(s):\n",
    "    bin = \"\"\n",
    "    for c in s:\n",
    "        bin += str(int(c in [\"B\", \"R\"]))\n",
    "    return int(bin,2)\n",
    "\n",
    "seat_ids = [to_binary(e.strip())  for e in open(\"inputs/05-input.txt\")]\n",
    "\n",
    "max(seat_ids)"
   ]
  },
  {
   "source": [
    "# Part 2"
   ],
   "cell_type": "markdown",
   "metadata": {}
  },
  {
   "cell_type": "code",
   "execution_count": 27,
   "metadata": {},
   "outputs": [
    {
     "output_type": "stream",
     "name": "stdout",
     "text": [
      "517\n"
     ]
    }
   ],
   "source": [
    "from itertools import islice \n",
    "\n",
    "def seq_pairs(li): \n",
    "    return zip(li, islice(li,1,None)) \n",
    "\n",
    "# Find where two IDs present have a gap between them\n",
    "for first, second in seq_pairs(sorted(seat_ids)): \n",
    "    if second - first == 2:\n",
    "        print(first+1) "
   ]
  }
 ]
}
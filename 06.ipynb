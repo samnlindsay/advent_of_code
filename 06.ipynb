{
 "metadata": {
  "language_info": {
   "codemirror_mode": {
    "name": "ipython",
    "version": 3
   },
   "file_extension": ".py",
   "mimetype": "text/x-python",
   "name": "python",
   "nbconvert_exporter": "python",
   "pygments_lexer": "ipython3",
   "version": "3.8.3-final"
  },
  "orig_nbformat": 2,
  "kernelspec": {
   "name": "python3",
   "display_name": "Python 3"
  }
 },
 "nbformat": 4,
 "nbformat_minor": 2,
 "cells": [
  {
   "source": [
    "# Part 1"
   ],
   "cell_type": "markdown",
   "metadata": {}
  },
  {
   "cell_type": "code",
   "execution_count": 1,
   "metadata": {},
   "outputs": [
    {
     "output_type": "execute_result",
     "data": {
      "text/plain": [
       "6683"
      ]
     },
     "metadata": {},
     "execution_count": 1
    }
   ],
   "source": [
    "# Read answers as lists of lists (individuals in groups)\n",
    "answers = [grp.split(\"\\n\") for grp in open(\"inputs/06-input.txt\").read().split(\"\\n\\n\")]\n",
    "# Count set of unique letters appearing in each group\n",
    "count = [len(set(\"\".join(grp).replace(\"\\n\", \"\"))) for grp in answers] \n",
    "sum(count)"
   ]
  },
  {
   "source": [
    "# Part 2"
   ],
   "cell_type": "markdown",
   "metadata": {}
  },
  {
   "cell_type": "code",
   "execution_count": 2,
   "metadata": {
    "tags": []
   },
   "outputs": [
    {
     "output_type": "execute_result",
     "data": {
      "text/plain": [
       "3122"
      ]
     },
     "metadata": {},
     "execution_count": 2
    }
   ],
   "source": [
    "# Long version\n",
    "def group_count(grp):\n",
    "    setlist = [set(a) for a in grp if a!=\"\"]\n",
    "    intersect = set.intersection(*setlist)\n",
    "    return len(intersect)\n",
    "sum([group_count(grp) for grp in answers])"
   ]
  },
  {
   "cell_type": "code",
   "execution_count": 3,
   "metadata": {},
   "outputs": [
    {
     "output_type": "execute_result",
     "data": {
      "text/plain": [
       "3122"
      ]
     },
     "metadata": {},
     "execution_count": 3
    }
   ],
   "source": [
    "# Short version\n",
    "sum(len(set.intersection(*[set(a) for a in grp if a!=\"\"])) for grp in answers)"
   ]
  }
 ]
}
{
 "metadata": {
  "language_info": {
   "codemirror_mode": {
    "name": "ipython",
    "version": 3
   },
   "file_extension": ".py",
   "mimetype": "text/x-python",
   "name": "python",
   "nbconvert_exporter": "python",
   "pygments_lexer": "ipython3",
   "version": "3.8.3-final"
  },
  "orig_nbformat": 2,
  "kernelspec": {
   "name": "python3",
   "display_name": "Python 3",
   "language": "python"
  }
 },
 "nbformat": 4,
 "nbformat_minor": 2,
 "cells": [
  {
   "source": [
    "# [Day 23 - Crab Cups](https://adventofcode.com/2020/day/23)\n",
    "## Part 1"
   ],
   "cell_type": "markdown",
   "metadata": {}
  },
  {
   "cell_type": "code",
   "execution_count": 1,
   "metadata": {},
   "outputs": [],
   "source": [
    "# Perform one move, returning new start, and reordered cups\n",
    "def cups_move(start:int, cups):\n",
    "    # First cup position\n",
    "    i = cups.index(start)\n",
    "\n",
    "    # Pickup next 3 cups\n",
    "    cups.rotate(-(i+1))\n",
    "    pickup = [cups.popleft() for i in range(3)]\n",
    "    \n",
    "    # Get destination \n",
    "    #sorted_cups = sorted(cups)\n",
    "    #dest = sorted_cups[sorted_cups.index(start)-1]\n",
    "    try:\n",
    "        dest = max([c for c in cups if c < start])\n",
    "    except ValueError:\n",
    "        dest = max(cups)\n",
    "\n",
    "    # Replace pickup cups\n",
    "    dest_i = cups.index(dest)\n",
    "    cups.rotate(-(dest_i+1))\n",
    "    cups.extend(pickup)\n",
    "\n",
    "    # Next current cup\n",
    "    i = cups.index(start)\n",
    "    cups.rotate(-(i+1))\n",
    "    start = cups[0]\n",
    "\n",
    "    return start,cups"
   ]
  },
  {
   "cell_type": "code",
   "execution_count": 2,
   "metadata": {},
   "outputs": [
    {
     "output_type": "execute_result",
     "data": {
      "text/plain": [
       "'59374826'"
      ]
     },
     "metadata": {},
     "execution_count": 2
    }
   ],
   "source": [
    "from collections import deque\n",
    "from copy import deepcopy\n",
    "\n",
    "input = list(map(int,open(\"inputs/23-input.txt\").read().splitlines()[0]))\n",
    "\n",
    "cups = deque(deepcopy(input))\n",
    "#cups = deque([3,8,9,1,2,5,4,6,7])\n",
    "\n",
    "# Start with 1st cup in list\n",
    "start = cups[0]\n",
    "# Execute 100 moves\n",
    "for i in range(100):\n",
    "    #print(i+1, start, cups)\n",
    "    start, cups = cups_move(start, cups)\n",
    "\n",
    "# Get formatted answer (digits in cups, clockwise from 1)\n",
    "cups.rotate(-cups.index(1))\n",
    "cups.popleft()\n",
    "\"\".join(str(i) for i in cups)"
   ]
  },
  {
   "source": [
    "This won't work for Part 2 because it's slow as balls!\n",
    "\n",
    "`deque` is not ideal as there's no way around having to sort it or search and index it, which doesn't scale well for 1,000,000 values.\n",
    "\n",
    "Let's try using a dictionary to create a linked list...\n"
   ],
   "cell_type": "markdown",
   "metadata": {}
  },
  {
   "cell_type": "code",
   "execution_count": 3,
   "metadata": {},
   "outputs": [],
   "source": [
    "# Print cups as string\n",
    "def print_cups(d, start):\n",
    "    next_cup = d[start]\n",
    "    l = str(start)\n",
    "    while next_cup != start:\n",
    "        l += str(next_cup)\n",
    "        next_cup = d[next_cup]\n",
    "    #print(l)\n",
    "    return l\n",
    "\n",
    "# Perform one move, returning new start, and reordered cups\n",
    "def cups_move_fast(start:int, d:dict):\n",
    "    # First cup\n",
    "    first = d[start]\n",
    "\n",
    "    # Pickup next 3 cups\n",
    "    a = d[first]\n",
    "    b = d[a]\n",
    "    c = d[b]\n",
    "\n",
    "    # Link first to next cup after pickup\n",
    "    d[first] = d[c]\n",
    "\n",
    "    # Get destination\n",
    "    dest = first - 1\n",
    "    while True:\n",
    "        # Loop back round when dest hits zero\n",
    "        if dest == 0:\n",
    "            dest = max_cup\n",
    "        # Destination not in remaining cups\n",
    "        if dest in [a, b, c, first]:\n",
    "            dest -= 1\n",
    "        else:\n",
    "            break\n",
    "\n",
    "    # Move pickup cards to destination\n",
    "    dest_next = d[dest]\n",
    "    d[dest] = a\n",
    "    d[c] = dest_next\n",
    "\n",
    "    # New start\n",
    "    start = first\n",
    "\n",
    "    return start, d "
   ]
  },
  {
   "cell_type": "code",
   "execution_count": 4,
   "metadata": {},
   "outputs": [
    {
     "output_type": "execute_result",
     "data": {
      "text/plain": [
       "'59374826'"
      ]
     },
     "metadata": {},
     "execution_count": 4
    }
   ],
   "source": [
    "cups = deepcopy(input)\n",
    "#cups = [3,8,9,1,2,5,4,6,7]\n",
    "\n",
    "# Circular linked list dictionary\n",
    "d = {cups[i]:cups[i+1] for i in range(-1,len(cups)-1)}\n",
    "\n",
    "# Start with 1st cup in list\n",
    "start = cups[-1]\n",
    "max_cup = max(cups)\n",
    "# Execute 100 moves\n",
    "for i in range(100):\n",
    "    #print(i+1, start, print_cups(d,d[start]))\n",
    "    start, d = cups_move_fast(start, d)\n",
    "\n",
    "# Get formatted answer (digits in cups, clockwise from 1)\n",
    "print_cups(d,1)[1:]"
   ]
  },
  {
   "source": [
    "## Part 2\n",
    "Now should work with same method"
   ],
   "cell_type": "markdown",
   "metadata": {}
  },
  {
   "cell_type": "code",
   "execution_count": 5,
   "metadata": {},
   "outputs": [
    {
     "output_type": "execute_result",
     "data": {
      "text/plain": [
       "66878091588"
      ]
     },
     "metadata": {},
     "execution_count": 5
    }
   ],
   "source": [
    "cups = deepcopy(input)\n",
    "#cups = [3,8,9,1,2,5,4,6,7]\n",
    "\n",
    "# Fill in cups to length 1,000,000\n",
    "long_cups = cups + [i+1 for i in range(len(cups),1000000)]\n",
    "\n",
    "# Circular linked list dictionary\n",
    "d = {long_cups[i]:long_cups[i+1] for i in range(-1,len(long_cups)-1)}\n",
    "\n",
    "# Start with 1st cup in list\n",
    "start = long_cups[-1]\n",
    "max_cup = max(long_cups)\n",
    "# Execute 1,000,000 moves\n",
    "for i in range(10000000):\n",
    "    #print(i+1, start, print_cups(d,d[start]))\n",
    "    start, d = cups_move_fast(start, d)\n",
    "\n",
    "# Multiply 2 cups after cup 1\n",
    "a = d[1]\n",
    "b = d[a]\n",
    "a*b"
   ]
  },
  {
   "cell_type": "code",
   "execution_count": null,
   "metadata": {},
   "outputs": [],
   "source": []
  }
 ]
}
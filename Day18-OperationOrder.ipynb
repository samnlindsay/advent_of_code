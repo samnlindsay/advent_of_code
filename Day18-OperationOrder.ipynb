{
 "metadata": {
  "language_info": {
   "codemirror_mode": {
    "name": "ipython",
    "version": 3
   },
   "file_extension": ".py",
   "mimetype": "text/x-python",
   "name": "python",
   "nbconvert_exporter": "python",
   "pygments_lexer": "ipython3",
   "version": "3.8.3-final"
  },
  "orig_nbformat": 2,
  "kernelspec": {
   "name": "python3",
   "display_name": "Python 3",
   "language": "python"
  }
 },
 "nbformat": 4,
 "nbformat_minor": 2,
 "cells": [
  {
   "source": [
    "# [Day 18 - Operation Order] (https://adventofcode.com/2020/day/18)\n",
    "## Part 1"
   ],
   "cell_type": "markdown",
   "metadata": {}
  },
  {
   "cell_type": "code",
   "execution_count": 2,
   "metadata": {},
   "outputs": [],
   "source": [
    "expressions = open(\"inputs/18-input.txt\").read().splitlines()"
   ]
  },
  {
   "cell_type": "code",
   "execution_count": 3,
   "metadata": {},
   "outputs": [
    {
     "output_type": "execute_result",
     "data": {
      "text/plain": [
       "21022630974613"
      ]
     },
     "metadata": {},
     "execution_count": 3
    }
   ],
   "source": [
    "import re\n",
    "\n",
    "def eval_string(s):\n",
    "    # Brackets first\n",
    "    s = eval_brackets(s)\n",
    "    # Split 3 constituents of first term (ie. a + b OR a * b) from the rest\n",
    "    s = s.split(\" \",3)\n",
    "    # Evaluate first term\n",
    "    t1 = eval(\"\".join(s[0:3]))\n",
    "    if len(s) > 3:\n",
    "        # Updated string\n",
    "        s = \" \".join([str(t1), s[3]])\n",
    "        return eval_string(s)\n",
    "    else:\n",
    "        # Final answer\n",
    "        return t1\n",
    "\n",
    "def eval_brackets(s):\n",
    "    # Find innermost brackets\n",
    "    brackets = re.search(\"\\(([^\\(]*?)\\)\", s)\n",
    "    if brackets:\n",
    "        t = brackets[0]\n",
    "        # Evaluate contents of brackets and replace in original string\n",
    "        s = s.replace(t,str(eval_string(t[1:-1])))\n",
    "        # Repeat\n",
    "        return eval_brackets(s)\n",
    "    else:\n",
    "        # Final string without brackets\n",
    "        return s\n",
    "\n",
    "sum([eval_string(s) for s in expressions])"
   ]
  },
  {
   "source": [
    "## Part 2"
   ],
   "cell_type": "markdown",
   "metadata": {}
  },
  {
   "cell_type": "code",
   "execution_count": 4,
   "metadata": {},
   "outputs": [
    {
     "output_type": "execute_result",
     "data": {
      "text/plain": [
       "169899524778212"
      ]
     },
     "metadata": {},
     "execution_count": 4
    }
   ],
   "source": [
    "from math import prod\n",
    "\n",
    "def eval_string_addition_first(s):\n",
    "    # Brackets first\n",
    "    s = eval_brackets_addition_first(s)\n",
    "    # Split on * to get additions to evaluate first, before multiplying\n",
    "    return prod([eval(s) for s in s.split(\" * \")])\n",
    "\n",
    "def eval_brackets_addition_first(s):\n",
    "    # Find innermost brackets\n",
    "    brackets = re.search(\"\\(([^\\(]*?)\\)\", s)\n",
    "    if brackets:\n",
    "        t = brackets[0]\n",
    "        # Evaluate contents of brackets and replace in original string\n",
    "        s = s.replace(t,str(eval_string_addition_first(t[1:-1])))\n",
    "        # Repeat\n",
    "        return eval_brackets_addition_first(s)\n",
    "    else:\n",
    "        # Final string without brackets\n",
    "        return s\n",
    "\n",
    "sum([eval_string_addition_first(s) for s in expressions])"
   ]
  },
  {
   "cell_type": "code",
   "execution_count": null,
   "metadata": {},
   "outputs": [],
   "source": []
  }
 ]
}
{
 "metadata": {
  "language_info": {
   "codemirror_mode": {
    "name": "ipython",
    "version": 3
   },
   "file_extension": ".py",
   "mimetype": "text/x-python",
   "name": "python",
   "nbconvert_exporter": "python",
   "pygments_lexer": "ipython3",
   "version": "3.8.3-final"
  },
  "orig_nbformat": 2,
  "kernelspec": {
   "name": "python3",
   "display_name": "Python 3"
  }
 },
 "nbformat": 4,
 "nbformat_minor": 2,
 "cells": [
  {
   "source": [
    "# Part 1"
   ],
   "cell_type": "markdown",
   "metadata": {}
  },
  {
   "cell_type": "code",
   "execution_count": 1,
   "metadata": {},
   "outputs": [
    {
     "output_type": "stream",
     "name": "stdout",
     "text": [
      "Ship direction: S\nShip position:\n\tNorth: -358\n\tEast:  -565\nManhattan distance: 923\n"
     ]
    }
   ],
   "source": [
    "instructions = [(s[0],int(s[1:])) for s in open(\"inputs/12-input.txt\").readlines()]\n",
    "\n",
    "# East (real) and North (imag) mapped on the complex plane\n",
    "ship_pos = complex(0,0)\n",
    "ship_dir = complex(1,0) \n",
    "\n",
    "# Unit vectors\n",
    "comp_dir = {\n",
    "    \"N\":complex(0,1),\n",
    "    \"S\":complex(0,-1),\n",
    "    \"E\":complex(1,0),\n",
    "    \"W\":complex(-1,0)\n",
    "}\n",
    "\n",
    "# Compass direction of ship\n",
    "def dir_to_comp(ship_dir:complex):\n",
    "    return [k for k,v in comp_dir.items() if v==ship_dir][0]\n",
    "\n",
    "# Rotation vectors\n",
    "def turn(turn_dir:str, deg:int):\n",
    "    n = int(deg/90)\n",
    "    i = 1 if turn_dir==\"L\" else -1\n",
    "    return complex(0,i)**n\n",
    "\n",
    "# Apply instructions\n",
    "for d,v in instructions:\n",
    "    # Move ship in given direction\n",
    "    if d in [\"N\",\"S\",\"E\",\"W\"]:\n",
    "        ship_pos += v*comp_dir[d]\n",
    "    # Move ship forward\n",
    "    elif d==\"F\":\n",
    "        ship_pos += v*ship_dir\n",
    "    # Turn ship\n",
    "    else:\n",
    "        ship_dir *= turn(d,v)\n",
    "\n",
    "print(f\"Ship direction: {dir_to_comp(ship_dir)}\")\n",
    "print(f\"Ship position:\\n\\tNorth: {int(ship_pos.imag)}\\n\\tEast:  {int(ship_pos.real)}\")\n",
    "print(f\"Manhattan distance: {abs(int(ship_pos.real))+abs(int(ship_pos.imag))}\")"
   ]
  },
  {
   "source": [
    "# Part 2"
   ],
   "cell_type": "markdown",
   "metadata": {}
  },
  {
   "cell_type": "code",
   "execution_count": 2,
   "metadata": {},
   "outputs": [
    {
     "output_type": "stream",
     "name": "stdout",
     "text": [
      "Waypoint: \n\tNorth: 34\n\tEast:  -55\nShip position:\n\tNorth: 1930\n\tEast:  -22839\nManhattan distance: 24769\n"
     ]
    }
   ],
   "source": [
    "ship_pos = complex(0,0)\n",
    "\n",
    "# Waypoint (i.e. heading) replacing ship_dir\n",
    "waypoint = complex(10,1)\n",
    "\n",
    "# Apply new instructions\n",
    "for d,v in instructions:\n",
    "    # Move waypoint\n",
    "    if d in [\"N\",\"S\",\"E\",\"W\"]:\n",
    "        waypoint += v*comp_dir[d]\n",
    "    # Move ship\n",
    "    elif d==\"F\":\n",
    "        ship_pos += v*waypoint\n",
    "    # Turn waypoint\n",
    "    else:\n",
    "        waypoint *= turn(d,v)\n",
    "\n",
    "print(f\"Waypoint: \\n\\tNorth: {int(waypoint.imag)}\\n\\tEast:  {int(waypoint.real)}\")\n",
    "print(f\"Ship position:\\n\\tNorth: {int(ship_pos.imag)}\\n\\tEast:  {int(ship_pos.real)}\")\n",
    "print(f\"Manhattan distance: {abs(int(ship_pos.real))+abs(int(ship_pos.imag))}\")"
   ]
  },
  {
   "cell_type": "code",
   "execution_count": null,
   "metadata": {},
   "outputs": [],
   "source": []
  }
 ]
}
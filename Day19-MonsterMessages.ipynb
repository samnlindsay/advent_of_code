{
 "metadata": {
  "language_info": {
   "codemirror_mode": {
    "name": "ipython",
    "version": 3
   },
   "file_extension": ".py",
   "mimetype": "text/x-python",
   "name": "python",
   "nbconvert_exporter": "python",
   "pygments_lexer": "ipython3",
   "version": "3.8.3-final"
  },
  "orig_nbformat": 2,
  "kernelspec": {
   "name": "python3",
   "display_name": "Python 3",
   "language": "python"
  }
 },
 "nbformat": 4,
 "nbformat_minor": 2,
 "cells": [
  {
   "source": [
    "# [Day 19 - Monster Messages](https://adventofcode.com/2020/day/19)\n",
    "## Part 1"
   ],
   "cell_type": "markdown",
   "metadata": {}
  },
  {
   "cell_type": "code",
   "execution_count": 1,
   "metadata": {},
   "outputs": [
    {
     "output_type": "execute_result",
     "data": {
      "text/plain": [
       "291"
      ]
     },
     "metadata": {},
     "execution_count": 1
    }
   ],
   "source": [
    "import regex\n",
    "\n",
    "rules, messages = open(\"inputs/19-input.txt\").read().split(\"\\n\\n\")\n",
    "\n",
    "rules = rules.splitlines()\n",
    "messages = messages.splitlines()\n",
    "\n",
    "# Turn rule into dict expression {key: value}\n",
    "def rule_to_dict(r):\n",
    "    r = r.replace('\\\"', '')\n",
    "    return eval('{\\\"'+r.replace(': ', '\\\":\\\"')+'\\\"}')\n",
    "\n",
    "# Create rule dict with numbers in values\n",
    "rule_dict = {}\n",
    "for r in rules:\n",
    "    rule_dict.update(rule_to_dict(r))\n",
    "\n",
    "# Recursive function to replace numbers with their rule\n",
    "def complete_rule(s:str, rules:dict):\n",
    "    rule = rules[s]\n",
    "    for d in regex.findall(\"\\d+\",rule):\n",
    "        rule = regex.sub(rf'(?<!\\d){d}(?!\\d)', complete_rule(d, rules), rule)\n",
    "    if len(regex.sub(r'\\s|\\|','',rule)) > 1:\n",
    "        rule = f\"({rule})\"\n",
    "    if not regex.search(\"\\d\", rule):\n",
    "        rule = rule.replace(\" \",\"\")\n",
    "    return rule\n",
    "\n",
    "# Pattern for rule 0\n",
    "pattern = regex.compile(complete_rule(\"0\", rule_dict))\n",
    "# Number of messages matching the pattern\n",
    "sum([bool(pattern.fullmatch(m)) for m in messages])"
   ]
  },
  {
   "source": [
    "## Part 2\n",
    "\n",
    "Rule 0: `8 11`\n",
    "\n",
    "**New rules**\n",
    "- Rule 8: `42` -> `42 | 42 8`\n",
    "- Rule 11: `42 31` -> `42 31 | 42 11 31`"
   ],
   "cell_type": "markdown",
   "metadata": {}
  },
  {
   "cell_type": "code",
   "execution_count": 2,
   "metadata": {},
   "outputs": [
    {
     "output_type": "execute_result",
     "data": {
      "text/plain": [
       "409"
      ]
     },
     "metadata": {},
     "execution_count": 2
    }
   ],
   "source": [
    "r42 = complete_rule(\"42\", rule_dict)\n",
    "r31 = complete_rule(\"31\", rule_dict)\n",
    "\n",
    "# New rule 8 is repetitions of rule 42\n",
    "r8 = f\"{r42}+\"\n",
    "\n",
    "# New rule 11 is rule 42 and rule 31 repeated the same number of times.\n",
    "# Only works on its own because (?R) applies to entire regex\n",
    "r11 = f\"({r42})(?R)?({r31})\"\n",
    "\n",
    "def r0_match(s):\n",
    "    # Remove opening r42...\n",
    "    while regex.search(f\"^{r42}\",s):\n",
    "        s = regex.sub(f\"^{r42}\",\"\",s)\n",
    "        #...and check if remainder matches r11\n",
    "        if regex.fullmatch(r11,s):\n",
    "            return True\n",
    "    return False\n",
    "\n",
    "sum([r0_match(m) for m in messages])"
   ]
  },
  {
   "cell_type": "code",
   "execution_count": null,
   "metadata": {},
   "outputs": [],
   "source": []
  }
 ]
}
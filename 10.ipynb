{
 "metadata": {
  "language_info": {
   "codemirror_mode": {
    "name": "ipython",
    "version": 3
   },
   "file_extension": ".py",
   "mimetype": "text/x-python",
   "name": "python",
   "nbconvert_exporter": "python",
   "pygments_lexer": "ipython3",
   "version": "3.8.3-final"
  },
  "orig_nbformat": 2,
  "kernelspec": {
   "name": "python3",
   "display_name": "Python 3"
  }
 },
 "nbformat": 4,
 "nbformat_minor": 2,
 "cells": [
  {
   "source": [
    "# Part 1"
   ],
   "cell_type": "markdown",
   "metadata": {}
  },
  {
   "cell_type": "code",
   "execution_count": 1,
   "metadata": {},
   "outputs": [
    {
     "output_type": "execute_result",
     "data": {
      "text/plain": [
       "2080"
      ]
     },
     "metadata": {},
     "execution_count": 1
    }
   ],
   "source": [
    "input = [int(s) for s in open(\"inputs/10-input.txt\").read().split(\"\\n\") if s!=\"\"]\n",
    "\n",
    "# Ordered list with outlet (0 jolts) and device (max jolts +3)\n",
    "chain = [0] + sorted(input) + [max(input)+3]\n",
    "# Difference between successive elements in the chain\n",
    "diffs = [b - a for a, b in zip(chain, chain[1:])] \n",
    "\n",
    "# Count values in diffs and multiply\n",
    "from collections import Counter\n",
    "counts = Counter(diffs)\n",
    "counts[1] * counts[3]"
   ]
  },
  {
   "source": [
    "# Part 2"
   ],
   "cell_type": "markdown",
   "metadata": {}
  },
  {
   "cell_type": "code",
   "execution_count": 2,
   "metadata": {},
   "outputs": [
    {
     "output_type": "execute_result",
     "data": {
      "text/plain": [
       "6908379398144"
      ]
     },
     "metadata": {},
     "execution_count": 2
    }
   ],
   "source": [
    "# Dictionary to save paths number of distinct paths origination from index i\n",
    "cache = {}\n",
    "def count_paths(chain:list,start:int=0):\n",
    "    # Use cached path count if previously saved\n",
    "    if start in cache.keys():\n",
    "        count = cache[start]\n",
    "    else:\n",
    "        count = 0\n",
    "        jolts = chain[start]\n",
    "        # List indices for possible next steps in the chain\n",
    "        options = [start+1+i for i,j in enumerate(chain[start+1:]) if jolts <= j <= jolts+3]\n",
    "        \n",
    "        # Find path counts for all of those options\n",
    "        if options:\n",
    "            count += sum([count_paths(chain,k) for k in options])\n",
    "        # If no options, you've reached the end\n",
    "        else:\n",
    "            count += 1\n",
    "        \n",
    "        # Save result for later\n",
    "        cache[start] = count\n",
    "        \n",
    "    return count\n",
    "\n",
    "count_paths(chain)"
   ]
  },
  {
   "cell_type": "code",
   "execution_count": null,
   "metadata": {
    "tags": []
   },
   "outputs": [],
   "source": [
    "count_paths(chain,0)"
   ]
  },
  {
   "cell_type": "code",
   "execution_count": null,
   "metadata": {},
   "outputs": [],
   "source": []
  }
 ]
}
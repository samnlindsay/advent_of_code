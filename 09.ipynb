{
 "metadata": {
  "language_info": {
   "codemirror_mode": {
    "name": "ipython",
    "version": 3
   },
   "file_extension": ".py",
   "mimetype": "text/x-python",
   "name": "python",
   "nbconvert_exporter": "python",
   "pygments_lexer": "ipython3",
   "version": "3.8.3-final"
  },
  "orig_nbformat": 2,
  "kernelspec": {
   "name": "python3",
   "display_name": "Python 3"
  }
 },
 "nbformat": 4,
 "nbformat_minor": 2,
 "cells": [
  {
   "source": [
    "# Part 1"
   ],
   "cell_type": "markdown",
   "metadata": {}
  },
  {
   "cell_type": "code",
   "execution_count": 1,
   "metadata": {},
   "outputs": [
    {
     "output_type": "stream",
     "name": "stdout",
     "text": [
      "3199139634 not the sum of the previous 25 values\n"
     ]
    }
   ],
   "source": [
    "input = [int(s) for s in open(\"inputs/09-input.txt\").read().split(\"\\n\") if s!=\"\"]\n",
    "\n",
    "# Function from Day 1\n",
    "def find_values_that_sum_to_n(values:list, n:int):\n",
    "    diffs = [n - val for val in values]\n",
    "    matches = [sorted([n, values[i]]) for i, n in enumerate(diffs) if n in values and n<values[i]]    \n",
    "    return matches if matches else None\n",
    "\n",
    "\n",
    "window_size = 25\n",
    "# Previous 25 numbers\n",
    "prev = input[0:window_size]\n",
    "# Check next number and iterate until a sum not found\n",
    "for val in input[window_size:]:\n",
    "    check_val = find_values_that_sum_to_n(prev, val)\n",
    "    if check_val:\n",
    "        prev.pop(0)\n",
    "        prev.append(val)\n",
    "    else:\n",
    "        print(f\"{val} not the sum of the previous {window_size} values\")\n",
    "        break"
   ]
  },
  {
   "source": [
    "# Part 2"
   ],
   "cell_type": "markdown",
   "metadata": {}
  },
  {
   "cell_type": "code",
   "execution_count": 2,
   "metadata": {},
   "outputs": [
    {
     "output_type": "stream",
     "name": "stdout",
     "text": [
      "Contiguous set of numbers found that add to 3199139634\nMin: 114441245\nMax: 324118685\nAns: 438559930\n"
     ]
    }
   ],
   "source": [
    "# Iterator for sliding window of numbers\n",
    "def sliding_window(seq,window_size):\n",
    "    # Number of chunks\n",
    "    n_chunks = (len(seq) - window_size) + 1\n",
    "    \n",
    "    for i in range(0,n_chunks):\n",
    "        yield seq[i:i+window_size]\n",
    "\n",
    "# Try all window sizes until a solution is found\n",
    "for window_size in range(2,100):\n",
    "    for nums in sliding_window(input,window_size):\n",
    "        if sum(nums) == val:\n",
    "            print(f\"Contiguous set of numbers found that add to {val}\\nMin: {min(nums)}\\nMax: {max(nums)}\\nAns: {min(nums)+max(nums)}\")\n",
    "            break"
   ]
  },
  {
   "source": [
    "## Mike's [smarter version](https://github.com/mratford/advent/blob/master/2020/day09/day09.ipynb)\n",
    "With superficial tweaks"
   ],
   "cell_type": "markdown",
   "metadata": {}
  },
  {
   "cell_type": "code",
   "execution_count": 3,
   "metadata": {},
   "outputs": [
    {
     "output_type": "execute_result",
     "data": {
      "text/plain": [
       "438559930"
      ]
     },
     "metadata": {},
     "execution_count": 3
    }
   ],
   "source": [
    "def find_contiguous_sum(numbers, target):\n",
    "    start = 0\n",
    "    end = 2\n",
    "    window_sum = sum(numbers[start:end])\n",
    "\n",
    "    while start < end and end <= len(numbers):\n",
    "        if window_sum < target:\n",
    "            window_sum += numbers[end]\n",
    "            end += 1\n",
    "        elif window_sum > target:\n",
    "            window_sum -= numbers[start]\n",
    "            start += 1\n",
    "        else: \n",
    "            return numbers[start:end]\n",
    "        \n",
    "\n",
    "w = find_contiguous_sum(input, val)\n",
    "min(w)+max(w)"
   ]
  },
  {
   "cell_type": "code",
   "execution_count": null,
   "metadata": {},
   "outputs": [],
   "source": []
  }
 ]
}
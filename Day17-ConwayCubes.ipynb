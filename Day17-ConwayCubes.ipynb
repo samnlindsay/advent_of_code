{
 "metadata": {
  "language_info": {
   "codemirror_mode": {
    "name": "ipython",
    "version": 3
   },
   "file_extension": ".py",
   "mimetype": "text/x-python",
   "name": "python",
   "nbconvert_exporter": "python",
   "pygments_lexer": "ipython3",
   "version": "3.8.3-final"
  },
  "orig_nbformat": 2,
  "kernelspec": {
   "name": "python3",
   "display_name": "Python 3",
   "language": "python"
  }
 },
 "nbformat": 4,
 "nbformat_minor": 2,
 "cells": [
  {
   "source": [
    "# [Day 17 - Conway Cubes](https://adventofcode.com/2020/day/17)\n",
    "## Part 1"
   ],
   "cell_type": "markdown",
   "metadata": {}
  },
  {
   "cell_type": "code",
   "execution_count": 1,
   "metadata": {},
   "outputs": [],
   "source": [
    "from itertools import product\n",
    "from functools import cached_property\n",
    "\n",
    "class Cube3:\n",
    "\n",
    "    def __init__(self, x, y, z):\n",
    "        self.x = x\n",
    "        self.y = y\n",
    "        self.z = z\n",
    "\n",
    "    def __repr__(self):\n",
    "        return f\"Position: {self.x}, {self.y}, {self.z}\"\n",
    "\n",
    "    # Define equality for searching if a given cube is in a set of cubes\n",
    "    def __eq__(self, other):\n",
    "        return (self.x, self.y, self.z) == (other.x, other.y, other.z)\n",
    "\n",
    "    # Define hashing to allow caching of results\n",
    "    def __hash__(self):\n",
    "        return hash((self.x, self.y, self.z))\n",
    "\n",
    "    # Cached set of neigbouring cubes (likely to be called many times per cube)\n",
    "    @cached_property\n",
    "    def neighbours(self):\n",
    "        adj_coords = product(range(self.x - 1, self.x + 2), range(self.y - 1, self.y + 2), range(self.z - 1, self.z + 2)) \n",
    "        adj_cubes = set([Cube3(*c) for c in adj_coords if c != (self.x, self.y, self.z)])\n",
    "        return adj_cubes\n",
    "\n",
    "class Grid3:\n",
    "    cubes = set()\n",
    "    next_cubes = set()\n",
    "\n",
    "    @property\n",
    "    def x_range(self):\n",
    "        x = [c.x for c in self.cubes]\n",
    "        return min(x) - 1, max(x) + 2\n",
    "\n",
    "    @property\n",
    "    def y_range(self):\n",
    "        y = [c.y for c in self.cubes]\n",
    "        return min(y) - 1, max(y) + 2\n",
    "\n",
    "    @property\n",
    "    def z_range(self):\n",
    "        z = [c.z for c in self.cubes]\n",
    "        return min(z) - 1, max(z) + 2\n",
    "\n",
    "    def search_area(self):\n",
    "        return set.union(*[c.neighbours for c in self.cubes])\n",
    "\n",
    "    def cycle(self, n):\n",
    "        for i in range(n):\n",
    "            self.next_cubes = set()\n",
    "            for cube in self.search_area():\n",
    "                active = sum([c in cube.neighbours for c in self.cubes])\n",
    "                if active == 3 or (cube in self.cubes and active == 2):\n",
    "                    self.next_cubes.add(cube)\n",
    "            self.cubes = self.next_cubes\n"
   ]
  },
  {
   "cell_type": "code",
   "execution_count": 2,
   "metadata": {},
   "outputs": [
    {
     "output_type": "stream",
     "name": "stdout",
     "text": [
      "384\n"
     ]
    }
   ],
   "source": [
    "input = open(\"inputs/17-input.txt\").read().splitlines()\n",
    "\n",
    "# Initialise empty grid\n",
    "grid = Grid3()\n",
    "\n",
    "# Add input cubes\n",
    "for y, row in enumerate(input):\n",
    "    for x, val in enumerate(row):\n",
    "        if val == \"#\":\n",
    "            grid.cubes.add(Cube3(x,y,0))\n",
    "\n",
    "# Cycle 6 times\n",
    "grid.cycle(6)\n",
    "\n",
    "# How many cubes remain active?\n",
    "print(len(grid.cubes))"
   ]
  },
  {
   "source": [
    "## Part 2"
   ],
   "cell_type": "markdown",
   "metadata": {}
  },
  {
   "cell_type": "code",
   "execution_count": 3,
   "metadata": {},
   "outputs": [],
   "source": [
    "from itertools import product\n",
    "from functools import cached_property\n",
    "\n",
    "class Cube4:\n",
    "\n",
    "    def __init__(self, x, y, z, w):\n",
    "        self.x = x\n",
    "        self.y = y\n",
    "        self.z = z\n",
    "        self.w = w\n",
    "\n",
    "    def __repr__(self):\n",
    "        return f\"Position: {self.x}, {self.y}, {self.z}, {self.w}\"\n",
    "\n",
    "    # Define equality for searching if a given cube is in a set of cubes\n",
    "    def __eq__(self, other):\n",
    "        return (self.x, self.y, self.z, self.w) == (other.x, other.y, other.z, other.w)\n",
    "\n",
    "    # Define hashing to allow caching of results\n",
    "    def __hash__(self):\n",
    "        return hash((self.x, self.y, self.z, self.w))\n",
    "\n",
    "    # Cached set of neigbouring cubes (likely to be called many times per cube)\n",
    "    @cached_property\n",
    "    def neighbours(self):\n",
    "        adj_coords = product(\n",
    "            range(self.x - 1, self.x + 2), \n",
    "            range(self.y - 1, self.y + 2), \n",
    "            range(self.z - 1, self.z + 2),\n",
    "            range(self.w - 1, self.w + 2)\n",
    "            ) \n",
    "        adj_cubes = set([Cube4(*c) for c in adj_coords if c != (self.x, self.y, self.z, self.w)])\n",
    "        return adj_cubes\n",
    "\n",
    "class Grid4:\n",
    "    cubes = set()\n",
    "    next_cubes = set()\n",
    "\n",
    "    @property\n",
    "    def x_range(self):\n",
    "        x = [c.x for c in self.cubes]\n",
    "        return min(x) - 1, max(x) + 2\n",
    "\n",
    "    @property\n",
    "    def y_range(self):\n",
    "        y = [c.y for c in self.cubes]\n",
    "        return min(y) - 1, max(y) + 2\n",
    "\n",
    "    @property\n",
    "    def z_range(self):\n",
    "        z = [c.z for c in self.cubes]\n",
    "        return min(z) - 1, max(z) + 2\n",
    "\n",
    "    @property\n",
    "    def w_range(self):\n",
    "        w = [c.w for c in self.cubes]\n",
    "        return min(w) - 1, max(w) + 2\n",
    "\n",
    "    def search_area(self):\n",
    "        return set.union(*[c.neighbours for c in self.cubes])\n",
    "\n",
    "    def cycle(self, n):\n",
    "        for i in range(n):\n",
    "            self.next_cubes = set()\n",
    "            for cube in self.search_area():\n",
    "                active = sum([c in cube.neighbours for c in self.cubes])\n",
    "                if active == 3 or (cube in self.cubes and active == 2):\n",
    "                    self.next_cubes.add(cube)\n",
    "            self.cubes = self.next_cubes\n"
   ]
  },
  {
   "cell_type": "code",
   "execution_count": 4,
   "metadata": {},
   "outputs": [
    {
     "output_type": "stream",
     "name": "stdout",
     "text": [
      "2012\n"
     ]
    }
   ],
   "source": [
    "# Initialise empty grid\n",
    "grid = Grid4()\n",
    "\n",
    "# Add input cubes\n",
    "for y, row in enumerate(input):\n",
    "    for x, val in enumerate(row):\n",
    "        if val == \"#\":\n",
    "            grid.cubes.add(Cube4(x,y,0,0))\n",
    "\n",
    "# Cycle 6 times\n",
    "grid.cycle(6)\n",
    "\n",
    "# How many cubes remain active?\n",
    "print(len(grid.cubes))"
   ]
  },
  {
   "cell_type": "code",
   "execution_count": null,
   "metadata": {},
   "outputs": [],
   "source": []
  }
 ]
}
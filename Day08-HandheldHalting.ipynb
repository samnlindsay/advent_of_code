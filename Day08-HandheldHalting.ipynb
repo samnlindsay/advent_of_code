{
 "metadata": {
  "language_info": {
   "codemirror_mode": {
    "name": "ipython",
    "version": 3
   },
   "file_extension": ".py",
   "mimetype": "text/x-python",
   "name": "python",
   "nbconvert_exporter": "python",
   "pygments_lexer": "ipython3",
   "version": "3.8.3-final"
  },
  "orig_nbformat": 2,
  "kernelspec": {
   "name": "python3",
   "display_name": "Python 3"
  }
 },
 "nbformat": 4,
 "nbformat_minor": 2,
 "cells": [
  {
   "source": [
    "# [Day 8: Handheld Halting](https://adventofcode.com/2020/day/8)\n",
    "## Part 1"
   ],
   "cell_type": "markdown",
   "metadata": {}
  },
  {
   "cell_type": "code",
   "execution_count": 1,
   "metadata": {},
   "outputs": [],
   "source": [
    "instructions = [grp for grp in open(\"inputs/08-input.txt\").read().split(\"\\n\") if grp != \"\"]"
   ]
  },
  {
   "cell_type": "code",
   "execution_count": 2,
   "metadata": {},
   "outputs": [
    {
     "output_type": "execute_result",
     "data": {
      "text/plain": [
       "2025"
      ]
     },
     "metadata": {},
     "execution_count": 2
    }
   ],
   "source": [
    "# Needed in part 2\n",
    "swap_ops = {\"nop\":\"jmp\", \"jmp\":\"nop\"}\n",
    "\n",
    "# Parse instruction string and return accumulated value and steps to next instruction\n",
    "def parse(s:str, swap=False):\n",
    "    op, inc = s.split(\" \")\n",
    "\n",
    "    if swap:\n",
    "        op = swap_ops[op]\n",
    "\n",
    "    if op in [\"acc\", \"nop\"]:\n",
    "        step = 1\n",
    "        if op == \"acc\":\n",
    "            acc = int(inc)\n",
    "        else: \n",
    "            acc = 0\n",
    "    else:\n",
    "        step = int(inc)\n",
    "        acc = 0\n",
    "\n",
    "    return (acc, step)\n",
    "\n",
    "# Follow given instructions and return the accumulator (before repeating operations)\n",
    "def calc_acc(instructions:list, swap:int=None):\n",
    "    accumulator = 0\n",
    "    steps = []\n",
    "    i = 0\n",
    "    while i not in steps and i < len(instructions):\n",
    "        steps.append(i)\n",
    "        acc, step = parse(instructions[i], swap = True if i==swap else False)\n",
    "        accumulator += acc\n",
    "        i += step\n",
    "    return accumulator, steps\n",
    "\n",
    "calc_acc(instructions)[0]"
   ]
  },
  {
   "source": [
    "## Part 2"
   ],
   "cell_type": "markdown",
   "metadata": {}
  },
  {
   "source": [
    "# list of indices of nop/jmp instructions\n",
    "nops_and_jmps = [i for i,s in enumerate(instructions) if s[0:3] in [\"nop\", \"jmp\"]]\n",
    "\n",
    "# initialise accumulator and max step reached\n",
    "final_acc = 0\n",
    "max_steps = 0\n",
    "\n",
    "# Swap nop/jmp operations in turn...\n",
    "for j in nops_and_jmps:\n",
    "    # ...and evaluate the new version of instructions\n",
    "    acc, steps = calc_acc(instructions, swap=j)\n",
    "    # Keep a running tab of the furthest down the list reached before looping\n",
    "    if max(steps) > max_steps:\n",
    "        max_steps = max(steps)\n",
    "        final_acc = acc\n",
    "        # If instructions reach the end, you're done!\n",
    "        if max_steps == len(instructions)-1:\n",
    "            break\n",
    "\n",
    "final_acc"
   ],
   "cell_type": "code",
   "metadata": {
    "tags": []
   },
   "execution_count": 3,
   "outputs": [
    {
     "output_type": "execute_result",
     "data": {
      "text/plain": [
       "2001"
      ]
     },
     "metadata": {},
     "execution_count": 3
    }
   ]
  },
  {
   "cell_type": "code",
   "execution_count": 4,
   "metadata": {},
   "outputs": [
    {
     "output_type": "execute_result",
     "data": {
      "text/plain": [
       "(115, 295, 654)"
      ]
     },
     "metadata": {},
     "execution_count": 4
    }
   ],
   "source": [
    "nops_and_jmps.index(265), len(nops_and_jmps), len(instructions)"
   ]
  },
  {
   "cell_type": "code",
   "execution_count": null,
   "metadata": {},
   "outputs": [],
   "source": []
  }
 ]
}
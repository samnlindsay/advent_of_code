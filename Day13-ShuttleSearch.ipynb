{
 "metadata": {
  "language_info": {
   "codemirror_mode": {
    "name": "ipython",
    "version": 3
   },
   "file_extension": ".py",
   "mimetype": "text/x-python",
   "name": "python",
   "nbconvert_exporter": "python",
   "pygments_lexer": "ipython3",
   "version": "3.8.3-final"
  },
  "orig_nbformat": 2,
  "kernelspec": {
   "name": "python3",
   "display_name": "Python 3",
   "language": "python"
  }
 },
 "nbformat": 4,
 "nbformat_minor": 2,
 "cells": [
  {
   "source": [
    "# [Day 13: Shuttle Search](https://adventofcode.com/2020/day/13)\n",
    "## Part 1"
   ],
   "cell_type": "markdown",
   "metadata": {}
  },
  {
   "cell_type": "code",
   "execution_count": 1,
   "metadata": {},
   "outputs": [
    {
     "output_type": "execute_result",
     "data": {
      "text/plain": [
       "138"
      ]
     },
     "metadata": {},
     "execution_count": 1
    }
   ],
   "source": [
    "timestamp, schedule = [e.strip() for e in open(\"inputs/13-input.txt\").readlines()]\n",
    "\n",
    "timestamp = int(timestamp)\n",
    "buses = [int(b) for b in schedule.split(\",\") if b != \"x\"]\n",
    "\n",
    "# Waiting time (bus ID - time since last bus)\n",
    "waits = [(b - timestamp % b) for b in buses]\n",
    "\n",
    "# Answer = waiting time * bus ID\n",
    "min(waits) * buses[waits.index(min(waits))]"
   ]
  },
  {
   "source": [
    "## Part 2\n",
    "\n",
    "- Can ignore \"x\" in schedule\n",
    "- Timestamp must be a multiple of the 1st bus ID (index 0)\n",
    "- After that, `(timestamp + n) = 0 (mod b)` where `b` is the bus ID of the `n`th bus\n",
    "\n",
    "Can solve with the [Chinese Remainder Theorem](https://brilliant.org/wiki/chinese-remainder-theorem/)\n",
    "\n",
    "We have a system of congruences of the form: `x = a (mod n)`"
   ],
   "cell_type": "markdown",
   "metadata": {}
  },
  {
   "cell_type": "code",
   "execution_count": 2,
   "metadata": {},
   "outputs": [
    {
     "output_type": "execute_result",
     "data": {
      "text/plain": [
       "226845233210288"
      ]
     },
     "metadata": {},
     "execution_count": 2
    }
   ],
   "source": [
    "from functools import reduce\n",
    "\n",
    "# Required a,n pairs (i.e. timestamp = a mod n)\n",
    "a = [(-1*t) % int(b) for t,b in enumerate(schedule.split(\",\")) if b != \"x\"]\n",
    "n = [int(b) for t,b in enumerate(schedule.split(\",\")) if b != \"x\"]\n",
    "\n",
    "# Product of all n\n",
    "N = reduce(lambda a,b: a*b, n)\n",
    "\n",
    "# Modular inverse of y (= N/n_i) mod n\n",
    "z = [pow(N//n_i,-1,n_i) for n_i in n]\n",
    "\n",
    "# Sum of a * z * y\n",
    "x = sum([a[i]*z[i]*N//n[i] for i in range(1,len(n))])\n",
    "\n",
    "# Solution for timestamp (x mod N)\n",
    "x % N"
   ]
  },
  {
   "cell_type": "code",
   "execution_count": null,
   "metadata": {},
   "outputs": [],
   "source": []
  }
 ]
}
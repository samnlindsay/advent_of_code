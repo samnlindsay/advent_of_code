{
 "metadata": {
  "language_info": {
   "codemirror_mode": {
    "name": "ipython",
    "version": 3
   },
   "file_extension": ".py",
   "mimetype": "text/x-python",
   "name": "python",
   "nbconvert_exporter": "python",
   "pygments_lexer": "ipython3",
   "version": "3.7.3-final"
  },
  "orig_nbformat": 2,
  "kernelspec": {
   "name": "python3",
   "display_name": "Python 3",
   "language": "python"
  }
 },
 "nbformat": 4,
 "nbformat_minor": 2,
 "cells": [
  {
   "source": [
    "# [Day 25 - Combo Breaker](https://adventofcode.com/2020/day/25)\n",
    "## Part 1"
   ],
   "cell_type": "markdown",
   "metadata": {}
  },
  {
   "cell_type": "code",
   "execution_count": 39,
   "metadata": {},
   "outputs": [
    {
     "output_type": "execute_result",
     "data": {
      "text/plain": [
       "17032383"
      ]
     },
     "metadata": {},
     "execution_count": 39
    }
   ],
   "source": [
    "from itertools import count\n",
    "\n",
    "card_key = 10441485\n",
    "door_key = 1004920\n",
    "\n",
    "subject = 7\n",
    "p = 20201227\n",
    "\n",
    "# Either loop n times with to find the key\n",
    "# or find the number of loops that produce key\n",
    "def loops(subject, key=None, n=None):\n",
    "    val = 1\n",
    "    for i in count(1):\n",
    "        val = (val * subject) % p\n",
    "        if i == n:\n",
    "            return val\n",
    "        if val == key:\n",
    "            return i\n",
    "\n",
    "card_loops = loops(subject, key=card_key)\n",
    "door_loops = loops(subject, key=door_key)\n",
    "\n",
    "encryption_key = loops(subject=door_key, n=card_loops)\n",
    "encryption_key"
   ]
  },
  {
   "cell_type": "code",
   "execution_count": null,
   "metadata": {},
   "outputs": [],
   "source": []
  }
 ]
}
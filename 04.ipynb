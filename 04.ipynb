{
 "metadata": {
  "language_info": {
   "codemirror_mode": {
    "name": "ipython",
    "version": 3
   },
   "file_extension": ".py",
   "mimetype": "text/x-python",
   "name": "python",
   "nbconvert_exporter": "python",
   "pygments_lexer": "ipython3",
   "version": "3.8.3-final"
  },
  "orig_nbformat": 2,
  "kernelspec": {
   "name": "python3",
   "display_name": "Python 3"
  }
 },
 "nbformat": 4,
 "nbformat_minor": 2,
 "cells": [
  {
   "source": [
    "# Part 1"
   ],
   "cell_type": "markdown",
   "metadata": {}
  },
  {
   "cell_type": "code",
   "execution_count": 1,
   "metadata": {},
   "outputs": [],
   "source": [
    "import re\n",
    "\n",
    "# 8 data fields\n",
    "keys = [\"pid\", \"cid\", \"byr\", \"iyr\", \"eyr\", \"hcl\", \"ecl\", \"hgt\"]\n",
    "p_dicts = [{}]\n",
    "i=0\n",
    "\n",
    "for l in open(\"inputs/04-input.txt\").readlines():\n",
    "    # Empty lines separate passports\n",
    "    if l.strip() == \"\":\n",
    "        i+=1\n",
    "        p_dicts.append({})\n",
    "    # Otherwise, check for key:value pairs in line\n",
    "    else:\n",
    "        for k in keys:\n",
    "            match = re.search(k+\":([#a-z0-9]+)\", l)\n",
    "            if match:\n",
    "                p_dicts[i][k] = match[1] "
   ]
  },
  {
   "cell_type": "code",
   "execution_count": 2,
   "metadata": {},
   "outputs": [
    {
     "output_type": "execute_result",
     "data": {
      "text/plain": [
       "250"
      ]
     },
     "metadata": {},
     "execution_count": 2
    }
   ],
   "source": [
    "def valid_dict(p:dict):\n",
    "    # Check for keys in dict (don't care about \"cid\")\n",
    "    keys_req = [k in p.keys() for k in keys if k!=\"cid\"]\n",
    "    # Valid if all present\n",
    "    return all(keys_req)\n",
    "\n",
    "sum([valid_dict(p) for p in p_dicts])"
   ]
  },
  {
   "source": [
    "# Part 2"
   ],
   "cell_type": "markdown",
   "metadata": {}
  },
  {
   "cell_type": "code",
   "execution_count": 3,
   "metadata": {},
   "outputs": [
    {
     "output_type": "execute_result",
     "data": {
      "text/plain": [
       "158"
      ]
     },
     "metadata": {},
     "execution_count": 3
    }
   ],
   "source": [
    "def validate_hgt(p:dict):\n",
    "    match = re.match(\"^([0-9]{2,3})(cm|in)$\", p[\"hgt\"])\n",
    "    if match:\n",
    "        if match[2]==\"cm\":\n",
    "            return 150 <= int(match[1]) <= 193\n",
    "        elif match[2]==\"in\":\n",
    "            return 59 <= int(match[1]) <= 76\n",
    "        else:\n",
    "            return False\n",
    "    else:\n",
    "        return False\n",
    "\n",
    "def valid_dict2(p:dict):\n",
    "    # All keys must be present to bother checking values\n",
    "    if valid_dict(p):\n",
    "        byr = 1920 <= int(p[\"byr\"]) <= 2002\n",
    "        iyr = 2010 <= int(p[\"iyr\"]) <= 2020\n",
    "        eyr = 2020 <= int(p[\"eyr\"]) <= 2030\n",
    "        pid = bool(re.match(\"^[0-9]{9}$\", p[\"pid\"]))\n",
    "        hcl = bool(re.match(\"^#[0-9a-f]{6}$\",p[\"hcl\"]))\n",
    "        ecl = bool(re.match(\"^(amb|blu|brn|gry|grn|hzl|oth)$\",p[\"ecl\"]))\n",
    "        hgt = validate_hgt(p)\n",
    "        # Valid if all values pass\n",
    "        return all([byr, iyr, eyr, pid, hcl, ecl, hgt])\n",
    "    else:\n",
    "        return False\n",
    "\n",
    "sum([valid_dict2(p) for p in p_dicts])"
   ]
  },
  {
   "cell_type": "code",
   "execution_count": null,
   "metadata": {},
   "outputs": [],
   "source": []
  }
 ]
}
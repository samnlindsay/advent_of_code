{
 "cells": [
  {
   "cell_type": "markdown",
   "metadata": {},
   "source": [
    "# [Day 1: Sonar Sweep](https://adventofcode.com/2021/day/1)\n",
    "## Part 1"
   ]
  },
  {
   "cell_type": "code",
   "execution_count": 14,
   "metadata": {},
   "outputs": [
    {
     "data": {
      "text/plain": [
       "1215"
      ]
     },
     "execution_count": 14,
     "metadata": {},
     "output_type": "execute_result"
    }
   ],
   "source": [
    "# Read numbers from text file (stripping newline chars and converting to int)\n",
    "numbers = [int(e) for e in open(\"inputs/01-input.txt\").read().splitlines()]\n",
    "\n",
    "diffs = [a-b for a,b in zip(numbers[1:], numbers[:-1])]\n",
    "\n",
    "sum([d > 0 for d in diffs])"
   ]
  },
  {
   "cell_type": "markdown",
   "metadata": {},
   "source": [
    "## Part 2"
   ]
  },
  {
   "cell_type": "code",
   "execution_count": 18,
   "metadata": {},
   "outputs": [
    {
     "data": {
      "text/plain": [
       "1150"
      ]
     },
     "execution_count": 18,
     "metadata": {},
     "output_type": "execute_result"
    }
   ],
   "source": [
    "triples = [a+b+c for a,b,c in zip(numbers[:-2], numbers[1:-1], numbers[2:])]\n",
    "diffs = [a-b for a,b in zip(triples[1:], triples[:-1])]\n",
    "\n",
    "sum([d > 0 for d in diffs])"
   ]
  }
 ],
 "metadata": {
  "kernelspec": {
   "display_name": "Python 3.8.3 ('base')",
   "language": "python",
   "name": "python3"
  },
  "language_info": {
   "codemirror_mode": {
    "name": "ipython",
    "version": 3
   },
   "file_extension": ".py",
   "mimetype": "text/x-python",
   "name": "python",
   "nbconvert_exporter": "python",
   "pygments_lexer": "ipython3",
   "version": "3.8.3"
  },
  "orig_nbformat": 2,
  "vscode": {
   "interpreter": {
    "hash": "6a8f4949ca26f5f3d0f786878d593d66289b1fa320f5ce909fa01c7ee0c48b5d"
   }
  }
 },
 "nbformat": 4,
 "nbformat_minor": 2
}

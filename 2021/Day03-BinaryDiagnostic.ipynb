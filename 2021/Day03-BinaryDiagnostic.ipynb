{
 "metadata": {
  "language_info": {
   "codemirror_mode": {
    "name": "ipython",
    "version": 3
   },
   "file_extension": ".py",
   "mimetype": "text/x-python",
   "name": "python",
   "nbconvert_exporter": "python",
   "pygments_lexer": "ipython3",
   "version": "3.7.3"
  },
  "orig_nbformat": 2,
  "kernelspec": {
   "name": "python3",
   "display_name": "Python 3.7.3 64-bit"
  },
  "interpreter": {
   "hash": "31f2aee4e71d21fbe5cf8b01ff0e069b9275f58929596ceb00d14d90e3e16cd6"
  }
 },
 "nbformat": 4,
 "nbformat_minor": 2,
 "cells": [
  {
   "cell_type": "markdown",
   "source": [
    "# [Day 3: Binary Diagnostic](https://adventofcode.com/2021/day/3)\n",
    "## Part 1"
   ],
   "metadata": {}
  },
  {
   "cell_type": "code",
   "execution_count": 93,
   "source": [
    "from collections import Counter\n",
    "\n",
    "# Read numbers from text file (stripping newline chars and converting to int)\n",
    "data = [e for e in open(\"inputs/03-input.txt\").read().splitlines()]\n",
    "\n",
    "counts = [Counter(c).most_common() for c in zip(*data)]\n",
    "\n",
    "gamma = int(''.join([c[0][0] for c in counts]), 2)\n",
    "epsilon = int(''.join([c[1][0] for c in counts]), 2)\n",
    "\n",
    "gamma * epsilon\n"
   ],
   "outputs": [
    {
     "output_type": "execute_result",
     "data": {
      "text/plain": [
       "1540244"
      ]
     },
     "metadata": {},
     "execution_count": 93
    }
   ],
   "metadata": {}
  },
  {
   "cell_type": "markdown",
   "source": [
    "## Part 2"
   ],
   "metadata": {}
  },
  {
   "cell_type": "code",
   "execution_count": 95,
   "source": [
    "# Oxygen generator rating - most common bit (1 if a tie)\n",
    "ogr = ''\n",
    "for i in range(len(data[0])):\n",
    "    count = Counter(c[i] for c in data if c[:i] == ogr or i==0)\n",
    "    if len(count.keys())>1:\n",
    "        digit = '0' if count['0'] > count['1'] else '1'\n",
    "        ogr += digit\n",
    "    else:\n",
    "        ogr += list(count.keys())[0]\n",
    "print(ogr)\n",
    "\n",
    "# CO2 scrubber rating - least common ()\n",
    "csr = ''\n",
    "for i in range(len(data[0])):\n",
    "    count = Counter(c[i] for c in data if c[:i] == csr or i==0)\n",
    "    if len(count.keys())>1:\n",
    "        digit = '1' if count['0'] > count['1'] else '0'\n",
    "        csr += digit\n",
    "    else:\n",
    "        csr += list(count.keys())[0]\n",
    "\n",
    "print(csr)\n",
    "\n",
    "int(csr,2) * int(ogr,2)"
   ],
   "outputs": [
    {
     "output_type": "stream",
     "name": "stdout",
     "text": [
      "010010001001\n",
      "111000100101\n"
     ]
    },
    {
     "output_type": "execute_result",
     "data": {
      "text/plain": [
       "4203981"
      ]
     },
     "metadata": {},
     "execution_count": 95
    }
   ],
   "metadata": {}
  },
  {
   "cell_type": "code",
   "execution_count": null,
   "source": [],
   "outputs": [],
   "metadata": {}
  }
 ]
}
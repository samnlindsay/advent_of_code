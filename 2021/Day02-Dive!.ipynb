{
 "metadata": {
  "language_info": {
   "codemirror_mode": {
    "name": "ipython",
    "version": 3
   },
   "file_extension": ".py",
   "mimetype": "text/x-python",
   "name": "python",
   "nbconvert_exporter": "python",
   "pygments_lexer": "ipython3",
   "version": "3.7.3"
  },
  "orig_nbformat": 2,
  "kernelspec": {
   "name": "python3",
   "display_name": "Python 3.7.3 64-bit"
  },
  "interpreter": {
   "hash": "31f2aee4e71d21fbe5cf8b01ff0e069b9275f58929596ceb00d14d90e3e16cd6"
  }
 },
 "nbformat": 4,
 "nbformat_minor": 2,
 "cells": [
  {
   "cell_type": "markdown",
   "source": [
    "# [Day 2: Dive!](https://adventofcode.com/2021/day/2)\n",
    "## Part 1"
   ],
   "metadata": {}
  },
  {
   "cell_type": "code",
   "execution_count": 11,
   "source": [
    "dir2vec = {\n",
    "    \"forward\": complex(1,0),\n",
    "    \"up\": complex(0,-1),\n",
    "    \"down\": complex(0,1)\n",
    "}\n",
    "\n",
    "def cmd2vec(s):\n",
    "    direction, mag = s.split()\n",
    "    return dir2vec[direction] * int(mag)\n",
    "\n",
    "# Read numbers from text file (stripping newline chars and converting to int)\n",
    "pos = sum([cmd2vec(e) for e in open(\"inputs/02-input.txt\").read().splitlines()])\n",
    "\n",
    "pos.real * pos.imag"
   ],
   "outputs": [
    {
     "output_type": "execute_result",
     "data": {
      "text/plain": [
       "1868935.0"
      ]
     },
     "metadata": {},
     "execution_count": 11
    }
   ],
   "metadata": {}
  },
  {
   "cell_type": "markdown",
   "source": [
    "## Part 2"
   ],
   "metadata": {}
  },
  {
   "cell_type": "code",
   "execution_count": 17,
   "source": [
    "aim = 0\n",
    "x = 0\n",
    "d = 0\n",
    "\n",
    "for e in open(\"inputs/02-input.txt\").read().splitlines():\n",
    "    cmd, mag = e.split()\n",
    "    if cmd == \"forward\":\n",
    "        x += int(mag)\n",
    "        d += int(mag) * aim\n",
    "    else:\n",
    "        aim += int(mag) * (-1 if cmd == \"up\" else 1)\n",
    "\n",
    "x * d"
   ],
   "outputs": [
    {
     "output_type": "execute_result",
     "data": {
      "text/plain": [
       "1965970888"
      ]
     },
     "metadata": {},
     "execution_count": 17
    }
   ],
   "metadata": {}
  },
  {
   "cell_type": "code",
   "execution_count": null,
   "source": [],
   "outputs": [],
   "metadata": {}
  }
 ]
}